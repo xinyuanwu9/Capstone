{
 "cells": [
  {
   "cell_type": "code",
   "execution_count": 1,
   "metadata": {
    "collapsed": true
   },
   "outputs": [],
   "source": [
    "# UserInfoEDA.ipynb\n",
    "# Exploratory Data Analysis on the users who wrote reviews in our dataset.\n",
    "# Written for NYCDSA Bootcamp 7, Capstone Project by LC, 2016-12-14.\n",
    "\n",
    "\n",
    "import pandas as pd\n",
    "import numpy as np"
   ]
  },
  {
   "cell_type": "code",
   "execution_count": 2,
   "metadata": {
    "collapsed": false
   },
   "outputs": [],
   "source": [
    "user_info = pd.read_csv('user_info_rating_proc.csv', index_col=None)"
   ]
  },
  {
   "cell_type": "code",
   "execution_count": 3,
   "metadata": {
    "collapsed": false
   },
   "outputs": [
    {
     "data": {
      "text/html": [
       "<div>\n",
       "<table border=\"1\" class=\"dataframe\">\n",
       "  <thead>\n",
       "    <tr style=\"text-align: right;\">\n",
       "      <th></th>\n",
       "      <th>user_name</th>\n",
       "      <th>user_date</th>\n",
       "      <th>state</th>\n",
       "      <th>beer_name</th>\n",
       "      <th>overall</th>\n",
       "      <th>taste</th>\n",
       "      <th>aroma</th>\n",
       "      <th>appearance</th>\n",
       "      <th>palate</th>\n",
       "      <th>user_rating</th>\n",
       "    </tr>\n",
       "  </thead>\n",
       "  <tbody>\n",
       "    <tr>\n",
       "      <th>0</th>\n",
       "      <td>tom10101</td>\n",
       "      <td>2015-07-31</td>\n",
       "      <td>Alabama</td>\n",
       "      <td>Avondale Barrel Aged Brett Saison</td>\n",
       "      <td>15</td>\n",
       "      <td>7</td>\n",
       "      <td>8</td>\n",
       "      <td>3</td>\n",
       "      <td>4</td>\n",
       "      <td>3.7</td>\n",
       "    </tr>\n",
       "    <tr>\n",
       "      <th>1</th>\n",
       "      <td>JulienHuxley</td>\n",
       "      <td>2015-07-24</td>\n",
       "      <td>Alabama</td>\n",
       "      <td>Avondale Barrel Aged Brett Saison</td>\n",
       "      <td>15</td>\n",
       "      <td>8</td>\n",
       "      <td>8</td>\n",
       "      <td>3</td>\n",
       "      <td>4</td>\n",
       "      <td>3.8</td>\n",
       "    </tr>\n",
       "    <tr>\n",
       "      <th>2</th>\n",
       "      <td>djd07</td>\n",
       "      <td>2015-02-26</td>\n",
       "      <td>Alabama</td>\n",
       "      <td>Avondale Barrel Aged Brett Saison</td>\n",
       "      <td>16</td>\n",
       "      <td>6</td>\n",
       "      <td>7</td>\n",
       "      <td>3</td>\n",
       "      <td>4</td>\n",
       "      <td>3.6</td>\n",
       "    </tr>\n",
       "    <tr>\n",
       "      <th>3</th>\n",
       "      <td>Justosj76</td>\n",
       "      <td>2014-12-28</td>\n",
       "      <td>Alabama</td>\n",
       "      <td>Avondale Barrel Aged Brett Saison</td>\n",
       "      <td>17</td>\n",
       "      <td>8</td>\n",
       "      <td>9</td>\n",
       "      <td>5</td>\n",
       "      <td>4</td>\n",
       "      <td>4.3</td>\n",
       "    </tr>\n",
       "    <tr>\n",
       "      <th>4</th>\n",
       "      <td>Westmeister</td>\n",
       "      <td>2014-08-13</td>\n",
       "      <td>Alabama</td>\n",
       "      <td>Avondale Barrel Aged Brett Saison</td>\n",
       "      <td>17</td>\n",
       "      <td>9</td>\n",
       "      <td>8</td>\n",
       "      <td>3</td>\n",
       "      <td>4</td>\n",
       "      <td>4.1</td>\n",
       "    </tr>\n",
       "    <tr>\n",
       "      <th>5</th>\n",
       "      <td>Freethehopspc</td>\n",
       "      <td>NaN</td>\n",
       "      <td>Alabama</td>\n",
       "      <td>Avondale Barrel Aged Brett Saison</td>\n",
       "      <td>20</td>\n",
       "      <td>10</td>\n",
       "      <td>10</td>\n",
       "      <td>5</td>\n",
       "      <td>5</td>\n",
       "      <td>5.0</td>\n",
       "    </tr>\n",
       "    <tr>\n",
       "      <th>6</th>\n",
       "      <td>Nero55</td>\n",
       "      <td>2013-10-27</td>\n",
       "      <td>Alabama</td>\n",
       "      <td>Avondale Barrel Aged Brett Saison</td>\n",
       "      <td>17</td>\n",
       "      <td>8</td>\n",
       "      <td>7</td>\n",
       "      <td>4</td>\n",
       "      <td>4</td>\n",
       "      <td>4.0</td>\n",
       "    </tr>\n",
       "    <tr>\n",
       "      <th>7</th>\n",
       "      <td>Malaclemys</td>\n",
       "      <td>2013-10-26</td>\n",
       "      <td>Alabama</td>\n",
       "      <td>Avondale Barrel Aged Brett Saison</td>\n",
       "      <td>18</td>\n",
       "      <td>9</td>\n",
       "      <td>8</td>\n",
       "      <td>4</td>\n",
       "      <td>5</td>\n",
       "      <td>4.4</td>\n",
       "    </tr>\n",
       "    <tr>\n",
       "      <th>8</th>\n",
       "      <td>coolpop</td>\n",
       "      <td>2013-10-13</td>\n",
       "      <td>Alabama</td>\n",
       "      <td>Avondale Barrel Aged Brett Saison</td>\n",
       "      <td>15</td>\n",
       "      <td>8</td>\n",
       "      <td>8</td>\n",
       "      <td>4</td>\n",
       "      <td>3</td>\n",
       "      <td>3.8</td>\n",
       "    </tr>\n",
       "    <tr>\n",
       "      <th>9</th>\n",
       "      <td>dnstone</td>\n",
       "      <td>2013-06-12</td>\n",
       "      <td>Alabama</td>\n",
       "      <td>Avondale Barrel Aged Brett Saison</td>\n",
       "      <td>18</td>\n",
       "      <td>9</td>\n",
       "      <td>9</td>\n",
       "      <td>3</td>\n",
       "      <td>5</td>\n",
       "      <td>4.4</td>\n",
       "    </tr>\n",
       "  </tbody>\n",
       "</table>\n",
       "</div>"
      ],
      "text/plain": [
       "       user_name   user_date    state                          beer_name  \\\n",
       "0       tom10101  2015-07-31  Alabama  Avondale Barrel Aged Brett Saison   \n",
       "1   JulienHuxley  2015-07-24  Alabama  Avondale Barrel Aged Brett Saison   \n",
       "2          djd07  2015-02-26  Alabama  Avondale Barrel Aged Brett Saison   \n",
       "3      Justosj76  2014-12-28  Alabama  Avondale Barrel Aged Brett Saison   \n",
       "4    Westmeister  2014-08-13  Alabama  Avondale Barrel Aged Brett Saison   \n",
       "5  Freethehopspc         NaN  Alabama  Avondale Barrel Aged Brett Saison   \n",
       "6         Nero55  2013-10-27  Alabama  Avondale Barrel Aged Brett Saison   \n",
       "7     Malaclemys  2013-10-26  Alabama  Avondale Barrel Aged Brett Saison   \n",
       "8        coolpop  2013-10-13  Alabama  Avondale Barrel Aged Brett Saison   \n",
       "9        dnstone  2013-06-12  Alabama  Avondale Barrel Aged Brett Saison   \n",
       "\n",
       "   overall  taste  aroma  appearance  palate  user_rating  \n",
       "0       15      7      8           3       4          3.7  \n",
       "1       15      8      8           3       4          3.8  \n",
       "2       16      6      7           3       4          3.6  \n",
       "3       17      8      9           5       4          4.3  \n",
       "4       17      9      8           3       4          4.1  \n",
       "5       20     10     10           5       5          5.0  \n",
       "6       17      8      7           4       4          4.0  \n",
       "7       18      9      8           4       5          4.4  \n",
       "8       15      8      8           4       3          3.8  \n",
       "9       18      9      9           3       5          4.4  "
      ]
     },
     "execution_count": 3,
     "metadata": {},
     "output_type": "execute_result"
    }
   ],
   "source": [
    "user_info.head(10)"
   ]
  },
  {
   "cell_type": "code",
   "execution_count": 36,
   "metadata": {
    "collapsed": false
   },
   "outputs": [
    {
     "data": {
      "text/plain": [
       "user_name         0\n",
       "user_date      6759\n",
       "state             0\n",
       "beer_name         0\n",
       "overall           0\n",
       "taste             0\n",
       "aroma             0\n",
       "appearance        0\n",
       "palate            0\n",
       "user_rating       0\n",
       "dtype: int64"
      ]
     },
     "execution_count": 36,
     "metadata": {},
     "output_type": "execute_result"
    }
   ],
   "source": [
    "pd.isnull(user_info).sum()"
   ]
  },
  {
   "cell_type": "code",
   "execution_count": 61,
   "metadata": {
    "collapsed": false
   },
   "outputs": [
    {
     "data": {
      "text/html": [
       "<div>\n",
       "<table border=\"1\" class=\"dataframe\">\n",
       "  <thead>\n",
       "    <tr style=\"text-align: right;\">\n",
       "      <th></th>\n",
       "      <th>user_name</th>\n",
       "      <th>user_date</th>\n",
       "      <th>state</th>\n",
       "      <th>beer_name</th>\n",
       "    </tr>\n",
       "  </thead>\n",
       "  <tbody>\n",
       "    <tr>\n",
       "      <th>count</th>\n",
       "      <td>276693</td>\n",
       "      <td>269934</td>\n",
       "      <td>276693</td>\n",
       "      <td>276693</td>\n",
       "    </tr>\n",
       "    <tr>\n",
       "      <th>unique</th>\n",
       "      <td>16922</td>\n",
       "      <td>5591</td>\n",
       "      <td>51</td>\n",
       "      <td>1269</td>\n",
       "    </tr>\n",
       "    <tr>\n",
       "      <th>top</th>\n",
       "      <td>Travlr</td>\n",
       "      <td>2016-05-14</td>\n",
       "      <td>Delaware</td>\n",
       "      <td>Dogfish Head 90 Minute Imperial IPA</td>\n",
       "    </tr>\n",
       "    <tr>\n",
       "      <th>freq</th>\n",
       "      <td>720</td>\n",
       "      <td>242</td>\n",
       "      <td>27705</td>\n",
       "      <td>4598</td>\n",
       "    </tr>\n",
       "  </tbody>\n",
       "</table>\n",
       "</div>"
      ],
      "text/plain": [
       "       user_name   user_date     state                            beer_name\n",
       "count     276693      269934    276693                               276693\n",
       "unique     16922        5591        51                                 1269\n",
       "top       Travlr  2016-05-14  Delaware  Dogfish Head 90 Minute Imperial IPA\n",
       "freq         720         242     27705                                 4598"
      ]
     },
     "execution_count": 61,
     "metadata": {},
     "output_type": "execute_result"
    }
   ],
   "source": [
    "user_info.describe(include= ['O'])\n"
   ]
  },
  {
   "cell_type": "code",
   "execution_count": 63,
   "metadata": {
    "collapsed": false
   },
   "outputs": [
    {
     "data": {
      "text/plain": [
       "Travlr            720\n",
       "jtclockwork       630\n",
       "djd07             602\n",
       "daknole           541\n",
       "bytemesis         523\n",
       "phaleslu          512\n",
       "hopscotch         481\n",
       "vtafro            476\n",
       "Drake             453\n",
       "brokensail        452\n",
       "alexsdad06        443\n",
       "mcberko           426\n",
       "Ernesto987        422\n",
       "RobertDale        421\n",
       "GT                419\n",
       "Beerman6686       418\n",
       "Leighton          417\n",
       "adnielsen         416\n",
       "drfabulous        412\n",
       "BeerandBlues2     411\n",
       "arminjewell       410\n",
       "rxeight           404\n",
       "yespr             404\n",
       "deyholla          402\n",
       "Huhzubendah       402\n",
       "hopdog            399\n",
       "50belair          398\n",
       "Ratman197         393\n",
       "BuckeyeBoy        387\n",
       "jkwood04          385\n",
       "                 ... \n",
       "fireraven           1\n",
       "bergaa88            1\n",
       "cwebb619            1\n",
       "smallfry            1\n",
       "pbsmooth            1\n",
       "RabbleRouseRye      1\n",
       "BeerJonNow          1\n",
       "Hookemwahoo         1\n",
       "Skii617             1\n",
       "celsopoliti         1\n",
       "RaiderN8tion        1\n",
       "gambeerer           1\n",
       "solifugid           1\n",
       "gioni               1\n",
       "maddogorlando       1\n",
       "irvineb             1\n",
       "larsogr             1\n",
       "PiwnyMarek          1\n",
       "dsc123              1\n",
       "rdukegonz           1\n",
       "MoorFiend           1\n",
       "wikkiewikkie        1\n",
       "klumberg            1\n",
       "netdogca            1\n",
       "TheKing             1\n",
       "jbrumley777         1\n",
       "annahawk            1\n",
       "werberski           1\n",
       "SethInOmaha         1\n",
       "Macanudo            1\n",
       "Name: user_name, dtype: int64"
      ]
     },
     "execution_count": 63,
     "metadata": {},
     "output_type": "execute_result"
    }
   ],
   "source": [
    "n_reviews = user_info.user_name.value_counts()\n",
    "n_reviews"
   ]
  },
  {
   "cell_type": "code",
   "execution_count": 62,
   "metadata": {
    "collapsed": false
   },
   "outputs": [
    {
     "name": "stdout",
     "output_type": "stream",
     "text": [
      "2000-04-26\n",
      "2016-12-04\n"
     ]
    }
   ],
   "source": [
    "print user_info.user_date.dropna().min()\n",
    "print user_info.user_date.max()"
   ]
  },
  {
   "cell_type": "code",
   "execution_count": 64,
   "metadata": {
    "collapsed": false
   },
   "outputs": [
    {
     "name": "stdout",
     "output_type": "stream",
     "text": [
      "16\n"
     ]
    }
   ],
   "source": [
    "print user_info.shape[0] / user_info.user_name.nunique()"
   ]
  },
  {
   "cell_type": "code",
   "execution_count": 21,
   "metadata": {
    "collapsed": false
   },
   "outputs": [
    {
     "name": "stdout",
     "output_type": "stream",
     "text": [
      "8917\n"
     ]
    }
   ],
   "source": [
    "print n_reviews.tolist().count(1) + n_reviews.tolist().count(2)\n",
    "\n"
   ]
  },
  {
   "cell_type": "code",
   "execution_count": 66,
   "metadata": {
    "collapsed": false
   },
   "outputs": [
    {
     "data": {
      "text/plain": [
       "Delaware          27705\n",
       "California        20928\n",
       "Michigan          20727\n",
       "Colorado          19680\n",
       "Indiana           13932\n",
       "New York          12996\n",
       "Wisconsin          9322\n",
       "Oregon             8855\n",
       "Alaska             8525\n",
       "Maryland           8279\n",
       "Ohio               8202\n",
       "Illinois           7873\n",
       "Pennsylvania       7519\n",
       "Maine              6707\n",
       "Utah               6179\n",
       "Minnesota          6143\n",
       "Oklahoma           5825\n",
       "Vermont            5557\n",
       "New Hampshire      4949\n",
       "North Carolina     4339\n",
       "Florida            4299\n",
       "Hawaii             4260\n",
       "Georgia            3964\n",
       "Washington         3450\n",
       "Massachusetts      3370\n",
       "Idaho              3049\n",
       "South Carolina     2880\n",
       "Missouri           2828\n",
       "Iowa               2743\n",
       "Montana            2619\n",
       "Kentucky           2295\n",
       "Connecticut        2235\n",
       "Kansas             2195\n",
       "Nebraska           2076\n",
       "New Mexico         1940\n",
       "Texas              1925\n",
       "New Jersey         1754\n",
       "Virginia           1740\n",
       "Tennessee          1341\n",
       "Wyoming            1304\n",
       "Mississippi        1227\n",
       "Nevada             1158\n",
       "Washington DC      1135\n",
       "Louisiana          1126\n",
       "Alabama            1055\n",
       "Arizona             972\n",
       "Arkansas            821\n",
       "Rhode Island        766\n",
       "North Dakota        664\n",
       "South Dakota        663\n",
       "West Virginia       597\n",
       "Name: state, dtype: int64"
      ]
     },
     "execution_count": 66,
     "metadata": {},
     "output_type": "execute_result"
    }
   ],
   "source": [
    "user_info.state.value_counts()"
   ]
  },
  {
   "cell_type": "code",
   "execution_count": 65,
   "metadata": {
    "collapsed": false
   },
   "outputs": [
    {
     "data": {
      "text/plain": [
       "count       51.000000\n",
       "mean      5425.352941\n",
       "std       5945.827538\n",
       "min        597.000000\n",
       "25%       1540.500000\n",
       "50%       3049.000000\n",
       "75%       7113.000000\n",
       "max      27705.000000\n",
       "Name: state, dtype: float64"
      ]
     },
     "execution_count": 65,
     "metadata": {},
     "output_type": "execute_result"
    }
   ],
   "source": [
    "user_info.state.value_counts().describe()"
   ]
  },
  {
   "cell_type": "code",
   "execution_count": 42,
   "metadata": {
    "collapsed": false
   },
   "outputs": [
    {
     "data": {
      "text/plain": [
       "Dogfish Head 90 Minute Imperial IPA                         4598\n",
       "Bell۪s Two Hearted Ale                                      3673\n",
       "Dogfish Head 60 Minute IPA                                  3475\n",
       "Founders Breakfast Stout                                    3412\n",
       "Brooklyn Black Chocolate Stout                              3384\n",
       "Stone Imperial Russian Stout                                3150\n",
       "Bell۪s Expedition Stout                                     3102\n",
       "Victory Storm King Imperial Stout                           3064\n",
       "AleSmith Speedway Stout                                     2843\n",
       "Bell۪s Hopslam                                              2835\n",
       "Russian River Pliny the Elder                               2820\n",
       "Goose Island Bourbon County Stout                           2802\n",
       "Great Divide Yeti Imperial Stout                            2633\n",
       "Flying Dog Gonzo Imperial Porter                            2559\n",
       "Dogfish Head 120 Minute IPA                                 2545\n",
       "Great Divide Hercules Double IPA                            2542\n",
       "Dogfish Head Indian Brown Ale                               2483\n",
       "Oskar Blues Ten FIDY                                        2410\n",
       "Founders KBS (Kentucky Breakfast Stout)                     2386\n",
       "Great Divide Yeti Imperial Stout - Oak Aged                 2329\n",
       "Three Floyds Alpha King                                     2318\n",
       "Dogfish Head World Wide Stout 2001/2003-Present (18%)       2202\n",
       "Three Floyds Dreadnaught Imperial IPA                       2148\n",
       "Dogfish Head Palo Santo Marron                              2125\n",
       "Founders Imperial Stout                                     2082\n",
       "Avery The Maharaja Imperial India Pale Ale                  2075\n",
       "Dogfish Head Burton Baton                                   1983\n",
       "Three Floyds Dark Lord Russian Imperial Stout               1818\n",
       "Hair of the Dog Adam                                        1792\n",
       "Flying Dog Double Dog Double Pale Ale                       1757\n",
       "                                                            ... \n",
       "SPB Cicada Series Hipster Breakfast                            9\n",
       "Bluejacket P.X. Sherry Barrel-Aged High Society 2016           9\n",
       "Great Basin Scytale 385                                        9\n",
       "Greenbrier Valley Wild & Wonderful Series #2: Hefeweizen       9\n",
       "SPB Lazarus                                                    9\n",
       "Vinos Octoberfest                                              9\n",
       "Kauai Island Captain Cook۪s IPA                                9\n",
       "Sick N Twisted Hop On Top IPA                                  9\n",
       "Mountain Dragon Tulip Poplar Honey Mead                        9\n",
       "Parish Opus Vert                                               9\n",
       "Proclamation Derivative Mosaic Hopped Pale Ale                 9\n",
       "Great Basin Hop Head Ale                                       9\n",
       "La Cumbre Acclimated IPA                                       9\n",
       "NOLA Girl Stout Cookie                                         9\n",
       "Nebraska Inception Series Franc Blanc                          9\n",
       "Melovino Southern Berry                                        9\n",
       "Fossil Cove La Brea Brown                                      9\n",
       "Melvin Brosaic                                                 9\n",
       "Crow Peak Redwater Ale                                         8\n",
       "Firehouse Honey Rye Porter                                     7\n",
       "Dempseys Valkyrie Red                                          7\n",
       "Firehouse Brewers Golden                                       6\n",
       "Fargo Mighty Red                                               6\n",
       "Laughing Sun Cosmic Owl Belgian Pale Ale                       6\n",
       "Firehouse Prodigy Porter                                       6\n",
       "Firehouse Strong Arm Porter                                    6\n",
       "Dempseys Longship Lager                                        6\n",
       "Fargo Super Green                                              5\n",
       "Crow Peak Easy Livin۪ Summer Ale                               5\n",
       "Crow Peak Roughlocktoberfest                                   5\n",
       "Name: beer_name, dtype: int64"
      ]
     },
     "execution_count": 42,
     "metadata": {},
     "output_type": "execute_result"
    }
   ],
   "source": [
    "user_info.beer_name.value_counts()"
   ]
  },
  {
   "cell_type": "code",
   "execution_count": 68,
   "metadata": {
    "collapsed": false
   },
   "outputs": [
    {
     "data": {
      "text/html": [
       "<div>\n",
       "<table border=\"1\" class=\"dataframe\">\n",
       "  <thead>\n",
       "    <tr style=\"text-align: right;\">\n",
       "      <th></th>\n",
       "      <th>overall</th>\n",
       "      <th>taste</th>\n",
       "      <th>aroma</th>\n",
       "      <th>appearance</th>\n",
       "      <th>palate</th>\n",
       "      <th>user_rating</th>\n",
       "    </tr>\n",
       "  </thead>\n",
       "  <tbody>\n",
       "    <tr>\n",
       "      <th>count</th>\n",
       "      <td>276693.00</td>\n",
       "      <td>276693.00</td>\n",
       "      <td>276693.00</td>\n",
       "      <td>276693.00</td>\n",
       "      <td>276693.00</td>\n",
       "      <td>276693.00</td>\n",
       "    </tr>\n",
       "    <tr>\n",
       "      <th>mean</th>\n",
       "      <td>16.17</td>\n",
       "      <td>7.91</td>\n",
       "      <td>7.85</td>\n",
       "      <td>4.00</td>\n",
       "      <td>3.94</td>\n",
       "      <td>3.99</td>\n",
       "    </tr>\n",
       "    <tr>\n",
       "      <th>std</th>\n",
       "      <td>2.03</td>\n",
       "      <td>1.12</td>\n",
       "      <td>1.10</td>\n",
       "      <td>0.68</td>\n",
       "      <td>0.70</td>\n",
       "      <td>0.44</td>\n",
       "    </tr>\n",
       "    <tr>\n",
       "      <th>min</th>\n",
       "      <td>1.00</td>\n",
       "      <td>1.00</td>\n",
       "      <td>1.00</td>\n",
       "      <td>1.00</td>\n",
       "      <td>1.00</td>\n",
       "      <td>0.50</td>\n",
       "    </tr>\n",
       "    <tr>\n",
       "      <th>25%</th>\n",
       "      <td>15.00</td>\n",
       "      <td>7.00</td>\n",
       "      <td>7.00</td>\n",
       "      <td>4.00</td>\n",
       "      <td>4.00</td>\n",
       "      <td>3.80</td>\n",
       "    </tr>\n",
       "    <tr>\n",
       "      <th>50%</th>\n",
       "      <td>16.00</td>\n",
       "      <td>8.00</td>\n",
       "      <td>8.00</td>\n",
       "      <td>4.00</td>\n",
       "      <td>4.00</td>\n",
       "      <td>4.00</td>\n",
       "    </tr>\n",
       "    <tr>\n",
       "      <th>75%</th>\n",
       "      <td>17.00</td>\n",
       "      <td>9.00</td>\n",
       "      <td>8.00</td>\n",
       "      <td>4.00</td>\n",
       "      <td>4.00</td>\n",
       "      <td>4.30</td>\n",
       "    </tr>\n",
       "    <tr>\n",
       "      <th>max</th>\n",
       "      <td>20.00</td>\n",
       "      <td>10.00</td>\n",
       "      <td>10.00</td>\n",
       "      <td>5.00</td>\n",
       "      <td>5.00</td>\n",
       "      <td>5.00</td>\n",
       "    </tr>\n",
       "  </tbody>\n",
       "</table>\n",
       "</div>"
      ],
      "text/plain": [
       "         overall      taste      aroma  appearance     palate  user_rating\n",
       "count  276693.00  276693.00  276693.00   276693.00  276693.00    276693.00\n",
       "mean       16.17       7.91       7.85        4.00       3.94         3.99\n",
       "std         2.03       1.12       1.10        0.68       0.70         0.44\n",
       "min         1.00       1.00       1.00        1.00       1.00         0.50\n",
       "25%        15.00       7.00       7.00        4.00       4.00         3.80\n",
       "50%        16.00       8.00       8.00        4.00       4.00         4.00\n",
       "75%        17.00       9.00       8.00        4.00       4.00         4.30\n",
       "max        20.00      10.00      10.00        5.00       5.00         5.00"
      ]
     },
     "execution_count": 68,
     "metadata": {},
     "output_type": "execute_result"
    }
   ],
   "source": [
    "user_info.describe().round(2)"
   ]
  },
  {
   "cell_type": "code",
   "execution_count": null,
   "metadata": {
    "collapsed": true
   },
   "outputs": [],
   "source": []
  }
 ],
 "metadata": {
  "kernelspec": {
   "display_name": "Python 2",
   "language": "python",
   "name": "python2"
  },
  "language_info": {
   "codemirror_mode": {
    "name": "ipython",
    "version": 2
   },
   "file_extension": ".py",
   "mimetype": "text/x-python",
   "name": "python",
   "nbconvert_exporter": "python",
   "pygments_lexer": "ipython2",
   "version": "2.7.12"
  }
 },
 "nbformat": 4,
 "nbformat_minor": 1
}
