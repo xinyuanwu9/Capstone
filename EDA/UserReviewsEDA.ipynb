{
 "cells": [
  {
   "cell_type": "code",
   "execution_count": 1,
   "metadata": {
    "collapsed": false
   },
   "outputs": [
    {
     "name": "stderr",
     "output_type": "stream",
     "text": [
      "/Library/Frameworks/Python.framework/Versions/2.7/lib/python2.7/site-packages/gensim/utils.py:1015: UserWarning: Pattern library is not installed, lemmatization won't be available.\n",
      "  warnings.warn(\"Pattern library is not installed, lemmatization won't be available.\")\n"
     ]
    }
   ],
   "source": [
    "# UserReviewsEDA.ipynb\n",
    "# Exploratory Data Analysis on the reviews written by users in our dataset\n",
    "# Written for NYCDSA Bootcamp 7, Capstone Project by LC 2016-12-14\n",
    "\n",
    "# note without POS Tagging, the Lemmatizer's functionality is limited. All words are assumed to be nouns.\n",
    "import cPickle as pickle\n",
    "import gensim\n",
    "import pandas as pd\n",
    "from nltk.stem import WordNetLemmatizer"
   ]
  },
  {
   "cell_type": "code",
   "execution_count": 9,
   "metadata": {
    "collapsed": false
   },
   "outputs": [],
   "source": [
    "# nested list, each list corresponds to all reviews of a single beer\n",
    "with open('words_sc_proc.p', 'rb') as f:\n",
    "    nested_words = pickle.load(f)\n"
   ]
  },
  {
   "cell_type": "code",
   "execution_count": 10,
   "metadata": {
    "collapsed": false
   },
   "outputs": [
    {
     "data": {
      "text/plain": [
       "u'car'"
      ]
     },
     "execution_count": 10,
     "metadata": {},
     "output_type": "execute_result"
    }
   ],
   "source": [
    "# need to download nltk WordNet pattern library on local machine first\n",
    "WordNetLemmatizer().lemmatize('cars')"
   ]
  },
  {
   "cell_type": "code",
   "execution_count": 11,
   "metadata": {
    "collapsed": true
   },
   "outputs": [],
   "source": [
    "# matches beer name with index\n",
    "with open('beer_dict.p', 'rb') as f:\n",
    "    beer_names = pickle.load(f)"
   ]
  },
  {
   "cell_type": "code",
   "execution_count": 12,
   "metadata": {
    "collapsed": false
   },
   "outputs": [
    {
     "data": {
      "text/plain": [
       "1269"
      ]
     },
     "execution_count": 12,
     "metadata": {},
     "output_type": "execute_result"
    }
   ],
   "source": [
    "# cross check number of reviews and number of beers line up\n",
    "len(beer_names.keys())"
   ]
  },
  {
   "cell_type": "code",
   "execution_count": 13,
   "metadata": {
    "collapsed": false
   },
   "outputs": [
    {
     "data": {
      "text/plain": [
       "1269"
      ]
     },
     "execution_count": 13,
     "metadata": {},
     "output_type": "execute_result"
    }
   ],
   "source": [
    "len(nested_words)"
   ]
  },
  {
   "cell_type": "code",
   "execution_count": 14,
   "metadata": {
    "collapsed": false
   },
   "outputs": [
    {
     "name": "stdout",
     "output_type": "stream",
     "text": [
      "11370657\n"
     ]
    }
   ],
   "source": [
    "# flatten our list\n",
    "flattened_words = [item for sublist in nested_words for item in sublist]\n",
    "print len(flattened_words)"
   ]
  },
  {
   "cell_type": "code",
   "execution_count": 15,
   "metadata": {
    "collapsed": true
   },
   "outputs": [],
   "source": [
    "freq_count = {}\n",
    "\n",
    "for word in flattened_words:\n",
    "    if word in freq_count:\n",
    "        freq_count[word] +=1\n",
    "    else:\n",
    "        freq_count[word] = 1"
   ]
  },
  {
   "cell_type": "code",
   "execution_count": 16,
   "metadata": {
    "collapsed": false
   },
   "outputs": [
    {
     "name": "stdout",
     "output_type": "stream",
     "text": [
      "127654\n"
     ]
    }
   ],
   "source": [
    "word_count = sorted(freq_count.items(), key = lambda x: x[1], reverse = True )\n",
    "print len(word_count)"
   ]
  },
  {
   "cell_type": "code",
   "execution_count": 17,
   "metadata": {
    "collapsed": false
   },
   "outputs": [
    {
     "data": {
      "text/html": [
       "<div>\n",
       "<table border=\"1\" class=\"dataframe\">\n",
       "  <thead>\n",
       "    <tr style=\"text-align: right;\">\n",
       "      <th></th>\n",
       "      <th>word</th>\n",
       "      <th>count</th>\n",
       "      <th></th>\n",
       "      <th>word</th>\n",
       "      <th>count</th>\n",
       "      <th></th>\n",
       "      <th>word</th>\n",
       "      <th>count</th>\n",
       "      <th></th>\n",
       "      <th>word</th>\n",
       "      <th>count</th>\n",
       "      <th></th>\n",
       "      <th>word</th>\n",
       "      <th>count</th>\n",
       "    </tr>\n",
       "  </thead>\n",
       "  <tbody>\n",
       "    <tr>\n",
       "      <th>0</th>\n",
       "      <td>head</td>\n",
       "      <td>202336</td>\n",
       "      <td>20</td>\n",
       "      <td>bitter</td>\n",
       "      <td>70922</td>\n",
       "      <td>40</td>\n",
       "      <td>thick</td>\n",
       "      <td>44537</td>\n",
       "      <td>60</td>\n",
       "      <td>sweetness</td>\n",
       "      <td>32477</td>\n",
       "      <td>80</td>\n",
       "      <td>malty</td>\n",
       "      <td>24569</td>\n",
       "    </tr>\n",
       "    <tr>\n",
       "      <th>1</th>\n",
       "      <td>aroma</td>\n",
       "      <td>181938</td>\n",
       "      <td>21</td>\n",
       "      <td>fruit</td>\n",
       "      <td>69217</td>\n",
       "      <td>41</td>\n",
       "      <td>tan</td>\n",
       "      <td>43302</td>\n",
       "      <td>61</td>\n",
       "      <td>strong</td>\n",
       "      <td>32197</td>\n",
       "      <td>81</td>\n",
       "      <td>fruity</td>\n",
       "      <td>24222</td>\n",
       "    </tr>\n",
       "    <tr>\n",
       "      <th>2</th>\n",
       "      <td>chocolate</td>\n",
       "      <td>157036</td>\n",
       "      <td>22</td>\n",
       "      <td>note</td>\n",
       "      <td>68554</td>\n",
       "      <td>42</td>\n",
       "      <td>full</td>\n",
       "      <td>42951</td>\n",
       "      <td>62</td>\n",
       "      <td>palate</td>\n",
       "      <td>31967</td>\n",
       "      <td>82</td>\n",
       "      <td>hazy</td>\n",
       "      <td>24017</td>\n",
       "    </tr>\n",
       "    <tr>\n",
       "      <th>3</th>\n",
       "      <td>flavor</td>\n",
       "      <td>151063</td>\n",
       "      <td>23</td>\n",
       "      <td>roasted</td>\n",
       "      <td>67037</td>\n",
       "      <td>43</td>\n",
       "      <td>orange</td>\n",
       "      <td>42928</td>\n",
       "      <td>63</td>\n",
       "      <td>small</td>\n",
       "      <td>31822</td>\n",
       "      <td>83</td>\n",
       "      <td>38</td>\n",
       "      <td>23809</td>\n",
       "    </tr>\n",
       "    <tr>\n",
       "      <th>4</th>\n",
       "      <td>dark</td>\n",
       "      <td>140109</td>\n",
       "      <td>24</td>\n",
       "      <td>vanilla</td>\n",
       "      <td>63879</td>\n",
       "      <td>44</td>\n",
       "      <td>little</td>\n",
       "      <td>41814</td>\n",
       "      <td>64</td>\n",
       "      <td>thanks</td>\n",
       "      <td>31686</td>\n",
       "      <td>84</td>\n",
       "      <td>sour</td>\n",
       "      <td>23459</td>\n",
       "    </tr>\n",
       "    <tr>\n",
       "      <th>5</th>\n",
       "      <td>beer</td>\n",
       "      <td>137862</td>\n",
       "      <td>25</td>\n",
       "      <td>body</td>\n",
       "      <td>63641</td>\n",
       "      <td>45</td>\n",
       "      <td>bitterness</td>\n",
       "      <td>41209</td>\n",
       "      <td>65</td>\n",
       "      <td>much</td>\n",
       "      <td>30509</td>\n",
       "      <td>85</td>\n",
       "      <td>glass</td>\n",
       "      <td>23335</td>\n",
       "    </tr>\n",
       "    <tr>\n",
       "      <th>6</th>\n",
       "      <td>malt</td>\n",
       "      <td>133818</td>\n",
       "      <td>26</td>\n",
       "      <td>medium</td>\n",
       "      <td>63570</td>\n",
       "      <td>46</td>\n",
       "      <td>really</td>\n",
       "      <td>40971</td>\n",
       "      <td>66</td>\n",
       "      <td>grapefruit</td>\n",
       "      <td>29271</td>\n",
       "      <td>86</td>\n",
       "      <td>poured</td>\n",
       "      <td>22830</td>\n",
       "    </tr>\n",
       "    <tr>\n",
       "      <th>7</th>\n",
       "      <td>hop</td>\n",
       "      <td>120424</td>\n",
       "      <td>27</td>\n",
       "      <td>caramel</td>\n",
       "      <td>61161</td>\n",
       "      <td>47</td>\n",
       "      <td>big</td>\n",
       "      <td>40794</td>\n",
       "      <td>67</td>\n",
       "      <td>41</td>\n",
       "      <td>29075</td>\n",
       "      <td>87</td>\n",
       "      <td>cherry</td>\n",
       "      <td>22524</td>\n",
       "    </tr>\n",
       "    <tr>\n",
       "      <th>8</th>\n",
       "      <td>taste</td>\n",
       "      <td>118579</td>\n",
       "      <td>28</td>\n",
       "      <td>like</td>\n",
       "      <td>59020</td>\n",
       "      <td>48</td>\n",
       "      <td>4</td>\n",
       "      <td>39795</td>\n",
       "      <td>68</td>\n",
       "      <td>smell</td>\n",
       "      <td>27644</td>\n",
       "      <td>88</td>\n",
       "      <td>ipa</td>\n",
       "      <td>22334</td>\n",
       "    </tr>\n",
       "    <tr>\n",
       "      <th>9</th>\n",
       "      <td>sweet</td>\n",
       "      <td>117786</td>\n",
       "      <td>29</td>\n",
       "      <td>well</td>\n",
       "      <td>54050</td>\n",
       "      <td>49</td>\n",
       "      <td>lot</td>\n",
       "      <td>39757</td>\n",
       "      <td>69</td>\n",
       "      <td>hoppy</td>\n",
       "      <td>27111</td>\n",
       "      <td>89</td>\n",
       "      <td>almost</td>\n",
       "      <td>22011</td>\n",
       "    </tr>\n",
       "    <tr>\n",
       "      <th>10</th>\n",
       "      <td>coffee</td>\n",
       "      <td>113370</td>\n",
       "      <td>30</td>\n",
       "      <td>color</td>\n",
       "      <td>53194</td>\n",
       "      <td>50</td>\n",
       "      <td>creamy</td>\n",
       "      <td>38704</td>\n",
       "      <td>70</td>\n",
       "      <td>42</td>\n",
       "      <td>27095</td>\n",
       "      <td>90</td>\n",
       "      <td>pretty</td>\n",
       "      <td>21547</td>\n",
       "    </tr>\n",
       "    <tr>\n",
       "      <th>11</th>\n",
       "      <td>bottle</td>\n",
       "      <td>112449</td>\n",
       "      <td>31</td>\n",
       "      <td>citrus</td>\n",
       "      <td>53127</td>\n",
       "      <td>51</td>\n",
       "      <td>dry</td>\n",
       "      <td>36666</td>\n",
       "      <td>71</td>\n",
       "      <td>39</td>\n",
       "      <td>27028</td>\n",
       "      <td>91</td>\n",
       "      <td>slight</td>\n",
       "      <td>21434</td>\n",
       "    </tr>\n",
       "    <tr>\n",
       "      <th>12</th>\n",
       "      <td>finish</td>\n",
       "      <td>100783</td>\n",
       "      <td>32</td>\n",
       "      <td>one</td>\n",
       "      <td>53013</td>\n",
       "      <td>52</td>\n",
       "      <td>stout</td>\n",
       "      <td>35800</td>\n",
       "      <td>72</td>\n",
       "      <td>thin</td>\n",
       "      <td>26924</td>\n",
       "      <td>92</td>\n",
       "      <td>heavy</td>\n",
       "      <td>21229</td>\n",
       "    </tr>\n",
       "    <tr>\n",
       "      <th>13</th>\n",
       "      <td>nice</td>\n",
       "      <td>99787</td>\n",
       "      <td>33</td>\n",
       "      <td>bit</td>\n",
       "      <td>52008</td>\n",
       "      <td>53</td>\n",
       "      <td>oak</td>\n",
       "      <td>35549</td>\n",
       "      <td>73</td>\n",
       "      <td>bodied</td>\n",
       "      <td>26089</td>\n",
       "      <td>93</td>\n",
       "      <td>43</td>\n",
       "      <td>21203</td>\n",
       "    </tr>\n",
       "    <tr>\n",
       "      <th>14</th>\n",
       "      <td>black</td>\n",
       "      <td>96429</td>\n",
       "      <td>34</td>\n",
       "      <td>bourbon</td>\n",
       "      <td>51638</td>\n",
       "      <td>54</td>\n",
       "      <td>lacing</td>\n",
       "      <td>35180</td>\n",
       "      <td>74</td>\n",
       "      <td>quite</td>\n",
       "      <td>26087</td>\n",
       "      <td>94</td>\n",
       "      <td>brew</td>\n",
       "      <td>21047</td>\n",
       "    </tr>\n",
       "    <tr>\n",
       "      <th>15</th>\n",
       "      <td>pours</td>\n",
       "      <td>94479</td>\n",
       "      <td>35</td>\n",
       "      <td>white</td>\n",
       "      <td>50769</td>\n",
       "      <td>55</td>\n",
       "      <td>hint</td>\n",
       "      <td>34834</td>\n",
       "      <td>75</td>\n",
       "      <td>balanced</td>\n",
       "      <td>25593</td>\n",
       "      <td>95</td>\n",
       "      <td>overall</td>\n",
       "      <td>20993</td>\n",
       "    </tr>\n",
       "    <tr>\n",
       "      <th>16</th>\n",
       "      <td>light</td>\n",
       "      <td>84667</td>\n",
       "      <td>36</td>\n",
       "      <td>nose</td>\n",
       "      <td>50315</td>\n",
       "      <td>56</td>\n",
       "      <td>mouthfeel</td>\n",
       "      <td>34820</td>\n",
       "      <td>76</td>\n",
       "      <td>amber</td>\n",
       "      <td>25443</td>\n",
       "      <td>96</td>\n",
       "      <td>wood</td>\n",
       "      <td>20696</td>\n",
       "    </tr>\n",
       "    <tr>\n",
       "      <th>17</th>\n",
       "      <td>brown</td>\n",
       "      <td>84258</td>\n",
       "      <td>37</td>\n",
       "      <td>carbonation</td>\n",
       "      <td>49041</td>\n",
       "      <td>57</td>\n",
       "      <td>rich</td>\n",
       "      <td>34449</td>\n",
       "      <td>77</td>\n",
       "      <td>roast</td>\n",
       "      <td>25372</td>\n",
       "      <td>97</td>\n",
       "      <td>golden</td>\n",
       "      <td>20072</td>\n",
       "    </tr>\n",
       "    <tr>\n",
       "      <th>18</th>\n",
       "      <td>good</td>\n",
       "      <td>77294</td>\n",
       "      <td>38</td>\n",
       "      <td>great</td>\n",
       "      <td>46202</td>\n",
       "      <td>58</td>\n",
       "      <td>pine</td>\n",
       "      <td>34282</td>\n",
       "      <td>78</td>\n",
       "      <td>deep</td>\n",
       "      <td>25190</td>\n",
       "      <td>98</td>\n",
       "      <td>molasses</td>\n",
       "      <td>19750</td>\n",
       "    </tr>\n",
       "    <tr>\n",
       "      <th>19</th>\n",
       "      <td>alcohol</td>\n",
       "      <td>71694</td>\n",
       "      <td>39</td>\n",
       "      <td>smooth</td>\n",
       "      <td>44767</td>\n",
       "      <td>59</td>\n",
       "      <td>pour</td>\n",
       "      <td>32983</td>\n",
       "      <td>79</td>\n",
       "      <td>slightly</td>\n",
       "      <td>24788</td>\n",
       "      <td>99</td>\n",
       "      <td>complex</td>\n",
       "      <td>19715</td>\n",
       "    </tr>\n",
       "  </tbody>\n",
       "</table>\n",
       "</div>"
      ],
      "text/plain": [
       "         word   count             word  count            word  count      \\\n",
       "0        head  202336  20       bitter  70922  40       thick  44537  60   \n",
       "1       aroma  181938  21        fruit  69217  41         tan  43302  61   \n",
       "2   chocolate  157036  22         note  68554  42        full  42951  62   \n",
       "3      flavor  151063  23      roasted  67037  43      orange  42928  63   \n",
       "4        dark  140109  24      vanilla  63879  44      little  41814  64   \n",
       "5        beer  137862  25         body  63641  45  bitterness  41209  65   \n",
       "6        malt  133818  26       medium  63570  46      really  40971  66   \n",
       "7         hop  120424  27      caramel  61161  47         big  40794  67   \n",
       "8       taste  118579  28         like  59020  48           4  39795  68   \n",
       "9       sweet  117786  29         well  54050  49         lot  39757  69   \n",
       "10     coffee  113370  30        color  53194  50      creamy  38704  70   \n",
       "11     bottle  112449  31       citrus  53127  51         dry  36666  71   \n",
       "12     finish  100783  32          one  53013  52       stout  35800  72   \n",
       "13       nice   99787  33          bit  52008  53         oak  35549  73   \n",
       "14      black   96429  34      bourbon  51638  54      lacing  35180  74   \n",
       "15      pours   94479  35        white  50769  55        hint  34834  75   \n",
       "16      light   84667  36         nose  50315  56   mouthfeel  34820  76   \n",
       "17      brown   84258  37  carbonation  49041  57        rich  34449  77   \n",
       "18       good   77294  38        great  46202  58        pine  34282  78   \n",
       "19    alcohol   71694  39       smooth  44767  59        pour  32983  79   \n",
       "\n",
       "          word  count          word  count  \n",
       "0    sweetness  32477  80     malty  24569  \n",
       "1       strong  32197  81    fruity  24222  \n",
       "2       palate  31967  82      hazy  24017  \n",
       "3        small  31822  83        38  23809  \n",
       "4       thanks  31686  84      sour  23459  \n",
       "5         much  30509  85     glass  23335  \n",
       "6   grapefruit  29271  86    poured  22830  \n",
       "7           41  29075  87    cherry  22524  \n",
       "8        smell  27644  88       ipa  22334  \n",
       "9        hoppy  27111  89    almost  22011  \n",
       "10          42  27095  90    pretty  21547  \n",
       "11          39  27028  91    slight  21434  \n",
       "12        thin  26924  92     heavy  21229  \n",
       "13      bodied  26089  93        43  21203  \n",
       "14       quite  26087  94      brew  21047  \n",
       "15    balanced  25593  95   overall  20993  \n",
       "16       amber  25443  96      wood  20696  \n",
       "17       roast  25372  97    golden  20072  \n",
       "18        deep  25190  98  molasses  19750  \n",
       "19    slightly  24788  99   complex  19715  "
      ]
     },
     "execution_count": 17,
     "metadata": {},
     "output_type": "execute_result"
    }
   ],
   "source": [
    "# for output purposes \n",
    "a = pd.DataFrame(word_count[:20], columns = ['word', 'count'], index= None)\n",
    "b = pd.DataFrame(word_count[20:40], columns = ['word', 'count'], index= None)\n",
    "c = pd.DataFrame(word_count[40:60], columns = ['word', 'count'], index= None)\n",
    "d = pd.DataFrame(word_count[60:80], columns = ['word', 'count'], index= None)\n",
    "e = pd.DataFrame(word_count[80:100], columns = ['word', 'count'], index= None)\n",
    "pd.concat([a,pd.DataFrame(range(20,40),columns = ['']),b, pd.DataFrame(range(40,60),columns = ['']), c, \\\n",
    "          pd.DataFrame(range(60,80),columns = ['']),d,pd.DataFrame(range(80,100),columns = ['']), e ],axis=1 )"
   ]
  },
  {
   "cell_type": "code",
   "execution_count": 18,
   "metadata": {
    "collapsed": false
   },
   "outputs": [],
   "source": [
    "with open('corpus_tfidf.p', 'rb') as f:\n",
    "    corpus_tfidf = pickle.load(f)\n",
    "\n",
    "with open('textDict.p', 'rb') as f:\n",
    "    text_dict = pickle.load(f)"
   ]
  },
  {
   "cell_type": "code",
   "execution_count": 19,
   "metadata": {
    "collapsed": false
   },
   "outputs": [
    {
     "data": {
      "text/plain": [
       "[(0, 0.0038368293758318872),\n",
       " (1, 0.008472975529699832),\n",
       " (2, 0.012205423044964435),\n",
       " (3, 0.00898807900647986),\n",
       " (4, 0.023992771792722207),\n",
       " (5, 0.04729075105207276),\n",
       " (6, 0.015047503393871233),\n",
       " (7, 0.03930914720646423),\n",
       " (8, 0.021648049512845862),\n",
       " (9, 0.03887724859033931)]"
      ]
     },
     "execution_count": 19,
     "metadata": {},
     "output_type": "execute_result"
    }
   ],
   "source": [
    "flattened_tfidf = [score for tfidf in corpus_tfidf for score in tfidf]\n",
    "flattened_tfidf[:10]"
   ]
  },
  {
   "cell_type": "code",
   "execution_count": 20,
   "metadata": {
    "collapsed": false
   },
   "outputs": [
    {
     "data": {
      "text/plain": [
       "[(7204, 0.9536042340669351),\n",
       " (8356, 0.9335206010328101),\n",
       " (7204, 0.9306965020138535),\n",
       " (3829, 0.9249370009926164),\n",
       " (15445, 0.9208818376003169),\n",
       " (15445, 0.9172853867272102),\n",
       " (231, 0.9147621246391323),\n",
       " (2692, 0.8955494165028615),\n",
       " (3128, 0.8926721150416248),\n",
       " (7204, 0.8796357444618146)]"
      ]
     },
     "execution_count": 20,
     "metadata": {},
     "output_type": "execute_result"
    }
   ],
   "source": [
    "top_tfidf = sorted(flattened_tfidf, key = lambda x: x[1], reverse = True)\n",
    "top_tfidf[:10]"
   ]
  },
  {
   "cell_type": "code",
   "execution_count": 21,
   "metadata": {
    "collapsed": false
   },
   "outputs": [
    {
     "data": {
      "text/plain": [
       "[(10002, u'raining'),\n",
       " (6449, u'nuttyness'),\n",
       " (15704, u'overaged'),\n",
       " (543, u'yellow'),\n",
       " (8453, u'huileux'),\n",
       " (2577, u'maltage'),\n",
       " (6079, u'ratman'),\n",
       " (3169, u'hanging'),\n",
       " (546, u'woody'),\n",
       " (6176, u'genre')]"
      ]
     },
     "execution_count": 21,
     "metadata": {},
     "output_type": "execute_result"
    }
   ],
   "source": [
    "text_dict.items()[:10]"
   ]
  },
  {
   "cell_type": "code",
   "execution_count": 123,
   "metadata": {
    "collapsed": false
   },
   "outputs": [
    {
     "data": {
      "text/plain": [
       "1454568"
      ]
     },
     "execution_count": 123,
     "metadata": {},
     "output_type": "execute_result"
    }
   ],
   "source": [
    "len(top_tfidf)"
   ]
  },
  {
   "cell_type": "code",
   "execution_count": 126,
   "metadata": {
    "collapsed": false
   },
   "outputs": [
    {
     "data": {
      "text/plain": [
       "243"
      ]
     },
     "execution_count": 126,
     "metadata": {},
     "output_type": "execute_result"
    }
   ],
   "source": [
    "len(set([text_dict[key] for key,value in top_tfidf[:1000]]))"
   ]
  },
  {
   "cell_type": "code",
   "execution_count": 23,
   "metadata": {
    "collapsed": false
   },
   "outputs": [
    {
     "name": "stdout",
     "output_type": "stream",
     "text": [
      "7204\n",
      "pumpkin\n"
     ]
    }
   ],
   "source": [
    "# some tests\n",
    "print top_tfidf[:2][0][0]\n",
    "print text_dict[7204]"
   ]
  },
  {
   "cell_type": "code",
   "execution_count": null,
   "metadata": {
    "collapsed": true
   },
   "outputs": [],
   "source": [
    "# magic number 381 is from manually findin cutoff for 100 unique values in top_100\n",
    "top_100_tfidf = list(set([text_dict[key] for key,value in top_tfidf[:381]]))\n"
   ]
  },
  {
   "cell_type": "code",
   "execution_count": 152,
   "metadata": {
    "collapsed": false
   },
   "outputs": [
    {
     "data": {
      "text/html": [
       "<div>\n",
       "<table border=\"1\" class=\"dataframe\">\n",
       "  <thead>\n",
       "    <tr style=\"text-align: right;\">\n",
       "      <th></th>\n",
       "      <th>word</th>\n",
       "      <th>word</th>\n",
       "      <th>word</th>\n",
       "      <th>word</th>\n",
       "      <th>word</th>\n",
       "      <th>word</th>\n",
       "      <th>word</th>\n",
       "      <th>word</th>\n",
       "      <th>word</th>\n",
       "      <th>word</th>\n",
       "    </tr>\n",
       "  </thead>\n",
       "  <tbody>\n",
       "    <tr>\n",
       "      <th>0</th>\n",
       "      <td>bluejacket</td>\n",
       "      <td>terminal</td>\n",
       "      <td>hemp</td>\n",
       "      <td>hibiscus</td>\n",
       "      <td>raspberry</td>\n",
       "      <td>abita</td>\n",
       "      <td>aquavit</td>\n",
       "      <td>fermentoren</td>\n",
       "      <td>neapolitan</td>\n",
       "      <td>cranberry</td>\n",
       "    </tr>\n",
       "    <tr>\n",
       "      <th>1</th>\n",
       "      <td>founder</td>\n",
       "      <td>cognac</td>\n",
       "      <td>boysenberry</td>\n",
       "      <td>jalapeno</td>\n",
       "      <td>maltcaramel</td>\n",
       "      <td>himmeriget</td>\n",
       "      <td>blueberry</td>\n",
       "      <td>zakoon</td>\n",
       "      <td>reno</td>\n",
       "      <td>brett</td>\n",
       "    </tr>\n",
       "    <tr>\n",
       "      <th>2</th>\n",
       "      <td>tequila</td>\n",
       "      <td>tg</td>\n",
       "      <td>coriander</td>\n",
       "      <td>strawberry</td>\n",
       "      <td>dubbel</td>\n",
       "      <td>firehouse</td>\n",
       "      <td>belgian</td>\n",
       "      <td>chardonnay</td>\n",
       "      <td>triple</td>\n",
       "      <td>mead</td>\n",
       "    </tr>\n",
       "    <tr>\n",
       "      <th>3</th>\n",
       "      <td>queen</td>\n",
       "      <td>bourbon</td>\n",
       "      <td>aluminum</td>\n",
       "      <td>tiramisu</td>\n",
       "      <td>oktoberfest</td>\n",
       "      <td>apple</td>\n",
       "      <td>chocolate</td>\n",
       "      <td>apricot</td>\n",
       "      <td>spruce</td>\n",
       "      <td>3708</td>\n",
       "    </tr>\n",
       "    <tr>\n",
       "      <th>4</th>\n",
       "      <td>sage</td>\n",
       "      <td>rice</td>\n",
       "      <td>betty</td>\n",
       "      <td>esb</td>\n",
       "      <td>plum</td>\n",
       "      <td>gose</td>\n",
       "      <td>pecan</td>\n",
       "      <td>whiskey</td>\n",
       "      <td>mint</td>\n",
       "      <td>montana</td>\n",
       "    </tr>\n",
       "    <tr>\n",
       "      <th>5</th>\n",
       "      <td>dorothy</td>\n",
       "      <td>meridian</td>\n",
       "      <td>kauai</td>\n",
       "      <td>skyview</td>\n",
       "      <td>raisin</td>\n",
       "      <td>maple</td>\n",
       "      <td>ginger</td>\n",
       "      <td>sour</td>\n",
       "      <td>peach</td>\n",
       "      <td>oyster</td>\n",
       "    </tr>\n",
       "    <tr>\n",
       "      <th>6</th>\n",
       "      <td>doughnut</td>\n",
       "      <td>pumpkin</td>\n",
       "      <td>bozeman</td>\n",
       "      <td>porter</td>\n",
       "      <td>brandy</td>\n",
       "      <td>blackberry</td>\n",
       "      <td>honolulu</td>\n",
       "      <td>cab</td>\n",
       "      <td>rye</td>\n",
       "      <td>potato</td>\n",
       "    </tr>\n",
       "    <tr>\n",
       "      <th>7</th>\n",
       "      <td>nectarine</td>\n",
       "      <td>coffee</td>\n",
       "      <td>crawler</td>\n",
       "      <td>whaleman</td>\n",
       "      <td>cinnamon</td>\n",
       "      <td>envie</td>\n",
       "      <td>hazelnut</td>\n",
       "      <td>cbc</td>\n",
       "      <td>chicory</td>\n",
       "      <td>nelson</td>\n",
       "    </tr>\n",
       "    <tr>\n",
       "      <th>8</th>\n",
       "      <td>sockeye</td>\n",
       "      <td>cedar</td>\n",
       "      <td>currant</td>\n",
       "      <td>rum</td>\n",
       "      <td>cherry</td>\n",
       "      <td>mosaic</td>\n",
       "      <td>quad</td>\n",
       "      <td>coconut</td>\n",
       "      <td>abraxas</td>\n",
       "      <td>smoked</td>\n",
       "    </tr>\n",
       "    <tr>\n",
       "      <th>9</th>\n",
       "      <td>peanut</td>\n",
       "      <td>knot</td>\n",
       "      <td>port</td>\n",
       "      <td>corn</td>\n",
       "      <td>gingerbread</td>\n",
       "      <td>gin</td>\n",
       "      <td>chili</td>\n",
       "      <td>gesho</td>\n",
       "      <td>papaya</td>\n",
       "      <td>saison</td>\n",
       "    </tr>\n",
       "  </tbody>\n",
       "</table>\n",
       "</div>"
      ],
      "text/plain": [
       "         word      word         word        word         word        word  \\\n",
       "0  bluejacket  terminal         hemp    hibiscus    raspberry       abita   \n",
       "1     founder    cognac  boysenberry    jalapeno  maltcaramel  himmeriget   \n",
       "2     tequila        tg    coriander  strawberry       dubbel   firehouse   \n",
       "3       queen   bourbon     aluminum    tiramisu  oktoberfest       apple   \n",
       "4        sage      rice        betty         esb         plum        gose   \n",
       "5     dorothy  meridian        kauai     skyview       raisin       maple   \n",
       "6    doughnut   pumpkin      bozeman      porter       brandy  blackberry   \n",
       "7   nectarine    coffee      crawler    whaleman     cinnamon       envie   \n",
       "8     sockeye     cedar      currant         rum       cherry      mosaic   \n",
       "9      peanut      knot         port        corn  gingerbread         gin   \n",
       "\n",
       "        word         word        word       word  \n",
       "0    aquavit  fermentoren  neapolitan  cranberry  \n",
       "1  blueberry       zakoon        reno      brett  \n",
       "2    belgian   chardonnay      triple       mead  \n",
       "3  chocolate      apricot      spruce       3708  \n",
       "4      pecan      whiskey        mint    montana  \n",
       "5     ginger         sour       peach     oyster  \n",
       "6   honolulu          cab         rye     potato  \n",
       "7   hazelnut          cbc     chicory     nelson  \n",
       "8       quad      coconut     abraxas     smoked  \n",
       "9      chili        gesho      papaya     saison  "
      ]
     },
     "execution_count": 152,
     "metadata": {},
     "output_type": "execute_result"
    }
   ],
   "source": [
    "# for output purposes\n",
    "a = pd.DataFrame(top_100_tfidf[:10], columns = ['word'], index= None)\n",
    "for i in range(10,91,10):\n",
    "    a = pd.concat([a, pd.DataFrame(top_100_tfidf[i:i+10], columns = ['word'], index= None)], axis = 1)\n",
    "    \n",
    "\n",
    "a"
   ]
  },
  {
   "cell_type": "code",
   "execution_count": 154,
   "metadata": {
    "collapsed": true
   },
   "outputs": [],
   "source": [
    "# run LDA. warning: computationally expensive!\n",
    "ldamodel = gensim.models.ldamodel.LdaModel(corpus_tfidf, num_topics=5, id2word = text_dict, passes=40)"
   ]
  },
  {
   "cell_type": "code",
   "execution_count": 159,
   "metadata": {
    "collapsed": false
   },
   "outputs": [
    {
     "name": "stdout",
     "output_type": "stream",
     "text": [
      "0.012*\"chocolate\" + 0.010*\"coffee\" + 0.009*\"bourbon\" + 0.006*\"black\" + 0.006*\"roasted\" + 0.004*\"roast\" + 0.004*\"brown\" + 0.004*\"vanilla\" + 0.003*\"dark\" + 0.003*\"stout\"\n",
      "0.000*\"chocolate\" + 0.000*\"coffee\" + 0.000*\"black\" + 0.000*\"roasted\" + 0.000*\"bourbon\" + 0.000*\"roast\" + 0.000*\"brown\" + 0.000*\"pumpkin\" + 0.000*\"vanilla\" + 0.000*\"stout\"\n",
      "0.000*\"coffee\" + 0.000*\"chocolate\" + 0.000*\"bourbon\" + 0.000*\"grapefruit\" + 0.000*\"pine\" + 0.000*\"citrus\" + 0.000*\"tropical\" + 0.000*\"orange\" + 0.000*\"mead\" + 0.000*\"black\"\n",
      "0.006*\"pine\" + 0.006*\"citrus\" + 0.006*\"grapefruit\" + 0.005*\"orange\" + 0.004*\"ipa\" + 0.004*\"tropical\" + 0.004*\"hop\" + 0.004*\"golden\" + 0.003*\"funk\" + 0.003*\"mango\"\n",
      "0.000*\"raspberry\" + 0.000*\"bourbon\" + 0.000*\"citrus\" + 0.000*\"chocolate\" + 0.000*\"tropical\" + 0.000*\"pine\" + 0.000*\"golden\" + 0.000*\"grapefruit\" + 0.000*\"funk\" + 0.000*\"coffee\"\n"
     ]
    }
   ],
   "source": [
    "for i,result in ldamodel.print_topics(5):\n",
    "    print result"
   ]
  },
  {
   "cell_type": "code",
   "execution_count": 157,
   "metadata": {
    "collapsed": false
   },
   "outputs": [],
   "source": [
    "with open('lda_5top_40pass.p', 'wb') as f:\n",
    "    pickle.dump(ldamodel, f)"
   ]
  }
 ],
 "metadata": {
  "kernelspec": {
   "display_name": "Python 2",
   "language": "python",
   "name": "python2"
  },
  "language_info": {
   "codemirror_mode": {
    "name": "ipython",
    "version": 2
   },
   "file_extension": ".py",
   "mimetype": "text/x-python",
   "name": "python",
   "nbconvert_exporter": "python",
   "pygments_lexer": "ipython2",
   "version": "2.7.12"
  }
 },
 "nbformat": 4,
 "nbformat_minor": 1
}
