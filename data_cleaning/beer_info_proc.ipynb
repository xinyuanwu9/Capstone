{
 "cells": [
  {
   "cell_type": "code",
   "execution_count": 1,
   "metadata": {
    "collapsed": true
   },
   "outputs": [],
   "source": [
    "import numpy as np\n",
    "import pandas as pd\n",
    "import re\n",
    "from scipy import stats"
   ]
  },
  {
   "cell_type": "markdown",
   "metadata": {},
   "source": [
    "## Data Overview"
   ]
  },
  {
   "cell_type": "code",
   "execution_count": 3,
   "metadata": {
    "collapsed": false
   },
   "outputs": [
    {
     "data": {
      "text/html": [
       "<div>\n",
       "<table border=\"1\" class=\"dataframe\">\n",
       "  <thead>\n",
       "    <tr style=\"text-align: right;\">\n",
       "      <th></th>\n",
       "      <th>review_count</th>\n",
       "      <th>style_score</th>\n",
       "      <th>brewer</th>\n",
       "      <th>wgt_avg</th>\n",
       "      <th>beer_img</th>\n",
       "      <th>state</th>\n",
       "      <th>beer_rank</th>\n",
       "      <th>overall_score</th>\n",
       "      <th>beer_style</th>\n",
       "      <th>beer_name</th>\n",
       "      <th>abv</th>\n",
       "      <th>est_cal</th>\n",
       "      <th>mean</th>\n",
       "      <th>ibu</th>\n",
       "      <th>beer_desc</th>\n",
       "    </tr>\n",
       "  </thead>\n",
       "  <tbody>\n",
       "    <tr>\n",
       "      <th>0</th>\n",
       "      <td>28</td>\n",
       "      <td>71.0</td>\n",
       "      <td>Fairhope Brewing Company</td>\n",
       "      <td>3.46</td>\n",
       "      <td>http://res.cloudinary.com/ratebeer/image/uploa...</td>\n",
       "      <td>ALABAMA</td>\n",
       "      <td>25</td>\n",
       "      <td>85.0</td>\n",
       "      <td>India Pale Ale (IPA)</td>\n",
       "      <td>Fairhope (Take The) Causeway IPA</td>\n",
       "      <td>8.2%</td>\n",
       "      <td>246.0</td>\n",
       "      <td>3.54/5.0</td>\n",
       "      <td>69.0</td>\n",
       "      <td>Previously 6.5% abv and 75 IBUs</td>\n",
       "    </tr>\n",
       "    <tr>\n",
       "      <th>1</th>\n",
       "      <td>246</td>\n",
       "      <td>87.0</td>\n",
       "      <td>Anchorage Brewing Company</td>\n",
       "      <td>NaN</td>\n",
       "      <td>http://res.cloudinary.com/ratebeer/image/uploa...</td>\n",
       "      <td>ALASKA</td>\n",
       "      <td>25</td>\n",
       "      <td>97.0</td>\n",
       "      <td>Sour/Wild Ale</td>\n",
       "      <td>Anchorage Anadromous Belgian Black Bier</td>\n",
       "      <td>8.5%</td>\n",
       "      <td>255.0</td>\n",
       "      <td>/</td>\n",
       "      <td>30.0</td>\n",
       "      <td>Ale brewed with summit hops. Triple fermented....</td>\n",
       "    </tr>\n",
       "    <tr>\n",
       "      <th>2</th>\n",
       "      <td>9</td>\n",
       "      <td>NaN</td>\n",
       "      <td>McFate Brewing Company</td>\n",
       "      <td>3.89</td>\n",
       "      <td>http://res.cloudinary.com/ratebeer/image/uploa...</td>\n",
       "      <td>ARIZONA</td>\n",
       "      <td>25</td>\n",
       "      <td>99.0</td>\n",
       "      <td>Imperial Stout</td>\n",
       "      <td>McFate Imperial Candy Bar Stout - Barrel Aged</td>\n",
       "      <td>9.5%</td>\n",
       "      <td>285.0</td>\n",
       "      <td>4.29/5.0</td>\n",
       "      <td>NaN</td>\n",
       "      <td>NaN</td>\n",
       "    </tr>\n",
       "    <tr>\n",
       "      <th>3</th>\n",
       "      <td>15</td>\n",
       "      <td>48.0</td>\n",
       "      <td>Core Brewing and Distilling</td>\n",
       "      <td>3.13</td>\n",
       "      <td>http://res.cloudinary.com/ratebeer/image/uploa...</td>\n",
       "      <td>ARKANSAS</td>\n",
       "      <td>25</td>\n",
       "      <td>46.0</td>\n",
       "      <td>Brown Ale</td>\n",
       "      <td>Core Toasted Coconut Ale</td>\n",
       "      <td>6%</td>\n",
       "      <td>180.0</td>\n",
       "      <td>3.19/5.0</td>\n",
       "      <td>27.0</td>\n",
       "      <td>NaN</td>\n",
       "    </tr>\n",
       "    <tr>\n",
       "      <th>4</th>\n",
       "      <td>1130</td>\n",
       "      <td>100.0</td>\n",
       "      <td>Port Brewing Co / The Lost Abbey</td>\n",
       "      <td>NaN</td>\n",
       "      <td>http://res.cloudinary.com/ratebeer/image/uploa...</td>\n",
       "      <td>CALIFORNIA</td>\n",
       "      <td>25</td>\n",
       "      <td>100.0</td>\n",
       "      <td>American Strong Ale</td>\n",
       "      <td>Port Brewing Older Viscosity</td>\n",
       "      <td>12%</td>\n",
       "      <td>360.0</td>\n",
       "      <td>/</td>\n",
       "      <td>NaN</td>\n",
       "      <td>100% Bourbon Barrel Aged Strong Ale.  This is ...</td>\n",
       "    </tr>\n",
       "  </tbody>\n",
       "</table>\n",
       "</div>"
      ],
      "text/plain": [
       "   review_count  style_score                            brewer  wgt_avg  \\\n",
       "0            28         71.0          Fairhope Brewing Company     3.46   \n",
       "1           246         87.0         Anchorage Brewing Company      NaN   \n",
       "2             9          NaN            McFate Brewing Company     3.89   \n",
       "3            15         48.0       Core Brewing and Distilling     3.13   \n",
       "4          1130        100.0  Port Brewing Co / The Lost Abbey      NaN   \n",
       "\n",
       "                                            beer_img       state  beer_rank  \\\n",
       "0  http://res.cloudinary.com/ratebeer/image/uploa...     ALABAMA         25   \n",
       "1  http://res.cloudinary.com/ratebeer/image/uploa...      ALASKA         25   \n",
       "2  http://res.cloudinary.com/ratebeer/image/uploa...     ARIZONA         25   \n",
       "3  http://res.cloudinary.com/ratebeer/image/uploa...    ARKANSAS         25   \n",
       "4  http://res.cloudinary.com/ratebeer/image/uploa...  CALIFORNIA         25   \n",
       "\n",
       "   overall_score            beer_style  \\\n",
       "0           85.0  India Pale Ale (IPA)   \n",
       "1           97.0         Sour/Wild Ale   \n",
       "2           99.0        Imperial Stout   \n",
       "3           46.0             Brown Ale   \n",
       "4          100.0   American Strong Ale   \n",
       "\n",
       "                                       beer_name   abv  est_cal      mean  \\\n",
       "0               Fairhope (Take The) Causeway IPA  8.2%    246.0  3.54/5.0   \n",
       "1       Anchorage Anadromous Belgian Black Bier   8.5%    255.0         /   \n",
       "2  McFate Imperial Candy Bar Stout - Barrel Aged  9.5%    285.0  4.29/5.0   \n",
       "3                       Core Toasted Coconut Ale    6%    180.0  3.19/5.0   \n",
       "4                   Port Brewing Older Viscosity   12%    360.0         /   \n",
       "\n",
       "    ibu                                          beer_desc  \n",
       "0  69.0                    Previously 6.5% abv and 75 IBUs  \n",
       "1  30.0  Ale brewed with summit hops. Triple fermented....  \n",
       "2   NaN                                                NaN  \n",
       "3  27.0                                                NaN  \n",
       "4   NaN  100% Bourbon Barrel Aged Strong Ale.  This is ...  "
      ]
     },
     "execution_count": 3,
     "metadata": {},
     "output_type": "execute_result"
    }
   ],
   "source": [
    "beer = pd.read_csv('../beers_info.csv')\n",
    "beer.head()"
   ]
  },
  {
   "cell_type": "code",
   "execution_count": 4,
   "metadata": {
    "collapsed": false
   },
   "outputs": [
    {
     "data": {
      "text/plain": [
       "(1275, 15)"
      ]
     },
     "execution_count": 4,
     "metadata": {},
     "output_type": "execute_result"
    }
   ],
   "source": [
    "beer.shape"
   ]
  },
  {
   "cell_type": "code",
   "execution_count": 5,
   "metadata": {
    "collapsed": false
   },
   "outputs": [
    {
     "data": {
      "text/html": [
       "<div>\n",
       "<table border=\"1\" class=\"dataframe\">\n",
       "  <thead>\n",
       "    <tr style=\"text-align: right;\">\n",
       "      <th></th>\n",
       "      <th>review_count</th>\n",
       "      <th>style_score</th>\n",
       "      <th>brewer</th>\n",
       "      <th>wgt_avg</th>\n",
       "      <th>beer_img</th>\n",
       "      <th>state</th>\n",
       "      <th>beer_rank</th>\n",
       "      <th>overall_score</th>\n",
       "      <th>beer_style</th>\n",
       "      <th>beer_name</th>\n",
       "      <th>abv</th>\n",
       "      <th>est_cal</th>\n",
       "      <th>mean</th>\n",
       "      <th>ibu</th>\n",
       "      <th>beer_desc</th>\n",
       "    </tr>\n",
       "  </thead>\n",
       "  <tbody>\n",
       "    <tr>\n",
       "      <th>0</th>\n",
       "      <td>0</td>\n",
       "      <td>45</td>\n",
       "      <td>0</td>\n",
       "      <td>742</td>\n",
       "      <td>0</td>\n",
       "      <td>0</td>\n",
       "      <td>0</td>\n",
       "      <td>8</td>\n",
       "      <td>0</td>\n",
       "      <td>0</td>\n",
       "      <td>646</td>\n",
       "      <td>429</td>\n",
       "      <td>0</td>\n",
       "      <td>678</td>\n",
       "      <td>125</td>\n",
       "    </tr>\n",
       "  </tbody>\n",
       "</table>\n",
       "</div>"
      ],
      "text/plain": [
       "   review_count  style_score  brewer  wgt_avg  beer_img  state  beer_rank  \\\n",
       "0             0           45       0      742         0      0          0   \n",
       "\n",
       "   overall_score  beer_style  beer_name  abv  est_cal  mean  ibu  beer_desc  \n",
       "0              8           0          0  646      429     0  678        125  "
      ]
     },
     "execution_count": 5,
     "metadata": {},
     "output_type": "execute_result"
    }
   ],
   "source": [
    "pd.DataFrame(beer.isnull().sum()).T   # number of missing values in each column"
   ]
  },
  {
   "cell_type": "code",
   "execution_count": 8,
   "metadata": {
    "collapsed": false
   },
   "outputs": [
    {
     "data": {
      "text/plain": [
       "[numpy.int64,\n",
       " numpy.float64,\n",
       " str,\n",
       " numpy.float64,\n",
       " str,\n",
       " str,\n",
       " numpy.int64,\n",
       " numpy.float64,\n",
       " str,\n",
       " str,\n",
       " str,\n",
       " numpy.float64,\n",
       " str,\n",
       " numpy.float64,\n",
       " str]"
      ]
     },
     "execution_count": 8,
     "metadata": {},
     "output_type": "execute_result"
    }
   ],
   "source": [
    "map(lambda x: type(x), list(beer.iloc[0]))"
   ]
  },
  {
   "cell_type": "markdown",
   "metadata": {},
   "source": [
    "## Clean by Column"
   ]
  },
  {
   "cell_type": "markdown",
   "metadata": {},
   "source": [
    "### 1. review_count (clean)"
   ]
  },
  {
   "cell_type": "code",
   "execution_count": null,
   "metadata": {
    "collapsed": false
   },
   "outputs": [],
   "source": [
    "#beer.review_count.unique()   # review_count col is clean already"
   ]
  },
  {
   "cell_type": "markdown",
   "metadata": {},
   "source": [
    "### 2. style_score"
   ]
  },
  {
   "cell_type": "code",
   "execution_count": null,
   "metadata": {
    "collapsed": false
   },
   "outputs": [],
   "source": [
    "#list(beer.review_count[beer.style_score.isnull()])   # when missing style_score, review_count is low as well"
   ]
  },
  {
   "cell_type": "code",
   "execution_count": null,
   "metadata": {
    "collapsed": false
   },
   "outputs": [],
   "source": [
    "#beer[beer.style_score.isnull()]   # run if you are interested"
   ]
  },
  {
   "cell_type": "markdown",
   "metadata": {},
   "source": [
    "### 3. brewer"
   ]
  },
  {
   "cell_type": "code",
   "execution_count": null,
   "metadata": {
    "collapsed": false
   },
   "outputs": [],
   "source": [
    "#beer.brewer.unique()"
   ]
  },
  {
   "cell_type": "code",
   "execution_count": 9,
   "metadata": {
    "collapsed": false
   },
   "outputs": [],
   "source": [
    "beer.brewer = map(lambda x: re.sub('\\\\xe2\\\\x80\\\\x99', '\\'', x), beer.brewer)"
   ]
  },
  {
   "cell_type": "markdown",
   "metadata": {},
   "source": [
    "### 4. wgt_avg (clean)"
   ]
  },
  {
   "cell_type": "code",
   "execution_count": null,
   "metadata": {
    "collapsed": false
   },
   "outputs": [],
   "source": [
    "#beer.wgt_avg.describe()  ### so many missing values, consider delete this column"
   ]
  },
  {
   "cell_type": "markdown",
   "metadata": {},
   "source": [
    "### 5. beer_img (clean)"
   ]
  },
  {
   "cell_type": "markdown",
   "metadata": {},
   "source": [
    "### 6. state (clean)"
   ]
  },
  {
   "cell_type": "markdown",
   "metadata": {},
   "source": [
    "### 7. beer_rank (clean)"
   ]
  },
  {
   "cell_type": "code",
   "execution_count": null,
   "metadata": {
    "collapsed": false
   },
   "outputs": [],
   "source": [
    "#beer.beer_rank.unique()"
   ]
  },
  {
   "cell_type": "markdown",
   "metadata": {},
   "source": [
    "### 8. overall_score"
   ]
  },
  {
   "cell_type": "code",
   "execution_count": null,
   "metadata": {
    "collapsed": false
   },
   "outputs": [],
   "source": [
    "#beer[beer.overall_score.isnull()]   # run if you are interested"
   ]
  },
  {
   "cell_type": "markdown",
   "metadata": {},
   "source": [
    "### 9. beer_style"
   ]
  },
  {
   "cell_type": "code",
   "execution_count": null,
   "metadata": {
    "collapsed": false
   },
   "outputs": [],
   "source": [
    "#beer.beer_style.unique()   # run if you are interested"
   ]
  },
  {
   "cell_type": "code",
   "execution_count": 10,
   "metadata": {
    "collapsed": false
   },
   "outputs": [],
   "source": [
    "beer.beer_style = ['Oktoberfest/Marzen' if 'Oktoberfest' in x else 'Kolsch' if 'lsch' in x else x for x in beer.beer_style]"
   ]
  },
  {
   "cell_type": "markdown",
   "metadata": {},
   "source": [
    "### 10. beer_name"
   ]
  },
  {
   "cell_type": "code",
   "execution_count": 14,
   "metadata": {
    "collapsed": false
   },
   "outputs": [
    {
     "name": "stdout",
     "output_type": "stream",
     "text": [
      "['Fairhope (Take The) Causeway IPA', 'Anchorage Anadromous Belgian Black Bier ', 'McFate Imperial Candy Bar Stout - Barrel Aged', 'Core Toasted Coconut Ale', 'Port Brewing Older Viscosity', 'Crooked Stave Raspberry Origins', '1809 Berliner Style Weisse Zymatore - Gin & Pinot Noir Barrels', 'Iron Hill Sasquatch', 'Funky Buddha Maple Bacon Coffee Porter', '5 Seasons Hopgasm', 'Big Island Red Giant Ale', 'Sockeye Double Dagger IIPA (Fresh Hop)', 'Three Floyds Ronaldo (2016 Dark Lord Variant)', 'Flossmoor Station Pretty Big IPA', 'Peace Tree Hop Sutra', 'Blind Tiger Top Gun IPA', 'Bluegrass Bourbon Barrel Smoked Stout', 'Country Boy Papaws Red Ale', 'West Sixth IPA', 'Against the Grain Tropical Segway Kitten', 'Bluegrass Russian Imperial Porter', 'Braxton Dead Blow - Starter Coffee', 'Bluegrass Bearded Pats Barleywine Style Ale', 'Against the Grain Gnight Ryder', 'Against the Grain Rico Sauvin', 'Against the Grain The Green Dragon', 'Against the Grain Citra Ass Down', 'Against the Grain 35K Stout', 'West Sixth Snakes In A Barrel ', 'Country Boy 4th Anniversary Wild Red Ale', 'Against the Grain / Dry & Bitter Your Lytest One', 'West Sixth Snake Eyes Imperial Stout ', 'Bluegrass Cherry Inyouendo', 'Bluegrass Bourbon Barrel Russian Imperial Porter', 'Country Boy Infinite Sadness', 'Against the Grain London Balling', 'Against the Grain Brett The Hipman Hop', 'Against the Grain / To l An Ale Pleasure', 'Quaff Bros Full Allotment', 'Against the Grain / De Molen Bo & Luke', 'Against the Grain 70K', 'Defiance Fuzzy Knuckles', 'Free State Hop Picker Pale Ale', 'Liquid Bread Liberty Stout', 'Tallgrass 16-Bit DPA', 'Blind Tiger Java Porter', 'Free State Hop Jack Ale', 'Free State Belgian Muse IPA', 'Liquid Bread Oatmeal Stout', 'Free State Stormwatch Dark Ale', 'Tallgrass Vanilla Bean Buffalo Sweat', 'Blind Tiger Russian Imperial Stout', 'Tallgrass Vanilla Bean Buffalo Sweat - Bourbon Barrel & Cinnamon', 'Free State Winterfest IPA', 'Free State Octoberfest', 'Tallgrass Wooden Rooster', 'Free State C4 Imperial Black IPA', 'Tallgrass Big Ricc', 'Tallgrass Ethos IPA', 'Free State Black Jack Porter', 'Free State Ironman Imperial Stout', 'Tallgrass Zombie Monkie', 'Free State Cloud Hopper Imperial IPA', 'Free State Old Backus Barleywine', 'Free State Owd Macs Imperial Stout', 'Toppling Goliath Hopsmack!', 'Toppling Goliath Xhops Series - Gamma', 'Toppling Goliath ReGifter Double IPA', 'Toppling Goliath XHops Series - Green', 'Madhouse Carpe Diem', 'Toppling Goliath pseudoSue - Citra Double Dry Hopped', 'Toppling Goliath / Mikkeller Nelson Schmelsson', 'Peace Tree No Coast IPA', 'Toppling Goliath Thresher IPA ', 'Toppling Goliath Galaxy Dry Hopped pseudoSue', 'Toppling Goliath Intergalactic Warrior IPA', 'Toppling Goliath Golden Nugget IPA', 'Toppling Goliath XHops Series - Gold', 'Toppling Goliath Light Speed Pale Ale', 'Toppling Goliath Mosaic Dry Hopped pseudoSue', 'Toppling Goliath Sol Hunter Pale Ale', 'Toppling Goliath ZeeLander', 'Toppling Goliath / Tree House David', 'Toppling Goliath Pompeii IPA', 'Toppling Goliath Twisted Galaxy', 'Toppling Goliath Sosus', 'Toppling Goliath pseudoSue', 'Toppling Goliath King Sue', 'Toppling Goliath Mornin Delight', 'Revolution Gravedigger Billy', 'Half Acre Double Daisy Cutter', 'Revolution Deths Tar', 'Half Acre Beer Hates Astronauts', 'Pipeworks Emerald Grouper ', 'Haymarket Indignant Imperial Stout - Bourbon Barrel', 'Haymarket Clares Thirsty Ale', 'Revolution Barrel Aged Institutionalized Barley Wine', 'Pipeworks Unicorn Galaxy Imperial IPA', 'Destihl Dosvidanya Russian Imperial Stout', 'Half Acre Galactic Double Daisy Cutter', 'Goose Island Bourbon County Stout - Templeton Rye Barrel', 'Goose Island Imperial IPA', 'Pipeworks Ninja Vs Unicorn Double IPA', 'Goose Island Nutulhu', 'Pipeworks Crimson Snapper', 'Pipeworks Citra Imperial IPA', 'Goose Island Night Stalker', 'Goose Island Cthulhu', 'Goose Island Bourbon County Stout - Regal Rye Barrel', 'Goose Island Bourbon County Barleywine', 'Goose Island Bourbon County Stout - Coffee', 'Goose Island Bourbon County Stout - Rare 2015', 'Goose Island Bourbon County Stout', 'Three Floyds BrooDoo', 'Three Floyds Blakkr', '18th Street Bitches Bank - Cognac Barrel Aged ', 'Three Floyds French Vanilla Militia', 'Three Floyds Quit Hitting Yourself', 'Three Floyds Arctic Panzer Wolf', '18th Street Barrel Aged Hunter - Wheat Whiskey', '18th Street Bitches Bank', 'Three Floyds Alpha Klaus', 'Three Floyds Behemoth - Bourbon Barrel', 'Three Floyds / The Bruery Rue DFloyd', 'Three Floyds Rye Da Tiger', 'Three Floyds Permanent Funeral', 'Three Floyds Dark Lord Russian Imperial Stout (Aquavit Barrel Aged)', 'Three Floyds Alpha King', 'Three Floyds Bourbon Barrel Aged Dark Lord De Muerte', 'Three Floyds Baller Stout', 'Three Floyds Dark Lord Russian Imperial Stout (Cognac Coffee)', 'Three Floyds Behemoth', 'Three Floyds Zombie Dust', 'Three Floyds Dreadnaught Imperial IPA', 'Three Floyds Dark Lord Russian Imperial Stout', 'Three Floyds Dark Lord Russian Imperial Stout (Bourbon Barrel Aged)', 'Three Floyds Dark Lord Russian Imperial Stout (Bourbon Vanilla Bean)', 'Grand Teton Wake Up Call Imperial Coffee Porter', 'Woodland Empire Beast Moans', 'Laughing Dog Hop Dog Harvest Pale Ale', 'Sockeye Big Creek Trappist', 'Barbarian Big Bad Funky Wolf ', 'Grand Teton Pursuit of Hoppiness', 'Grand Teton Trout Hop Black IPA', 'Selkirk Abbey Infidel', 'Laughing Dog Anubis Imperial Coffee Porter', 'Laughing Dog Sneaky Pete Imperial IPA', 'Sockeye Dagger Falls IPA', 'Grand Teton 5 OClock Shadow', 'Woodland Empire Cozy Up Big Ol Milk Stout', 'Laughing Dog Devil Dog Imperial IPA', 'Sockeye Hopnoxious Imperial IPA', 'Grand Teton Sheep Eater Scotch Ale', 'Payette 12 Gauge Imperial Stout', 'Grand Teton Brewers Series No. 2 - Brett Saison', 'Laughing Dog The Dogfather Imperial Stout - Bourbon Barrel', 'Payette 12 Gauge Imperial Stout - Barrel Aged', 'Big Horn Tres Amigos Tequila Aged Imperial IPA', 'Grand Teton Black Cauldron Imperial Stout', 'Grand Teton Double Vision Doppelbock', 'Sockeye Barrel Aged Seven Devils Imperial Stout', 'Maui Brewing Aloha Baktun', 'Maui Brewing Cascadian Dark Belgian Rye IPA', 'Maui Brewing Hop Kine', 'Kona Black Sand Porter', 'Honolulu Beerworks South Shore Stout ', 'Big Island Golden Sabbath', 'Maui Brewing Heaven & Hell Barleywine', 'Kona Bourbon Barrel Aged Black Sand Porter', 'Big Island White Mountain Porter', 'Maui Brewing KGB Woody', 'Kauai Island Captain Cooks IPA', 'Maui Brewing Lorenzini Double IPA (6th Sense)', 'Kona Pipeline Porter', 'Maui Brewing Freight Trains IPA', 'Big Island Holy Humulus ', 'Maui Brewing Shipwreck Stout', 'Big Island / Caldera Red Sea Imperial Red Gose', 'Maui Brewing Big Swell IPA', 'Big Island Overboard IPA', 'Maui Brewing Double Overhead IPA', 'Maui Brewing Coconut Hiwa Porter', 'Kona Old Blowhole Barley Wine', 'Maui Brewing Imperial CoCoNut PorTeR', 'Kona Da Grind Buzz Kona Coffee Imperial Stout', 'Terrapin Rye Squared', 'Red Brick 20th Anniversary ', 'Wrecking Bar Jemmy American Stout', 'Terrapin Side Project Hopzilla Double IPA', 'Wrecking Bar Choco Mountain Imperial Breakfast Stout', 'Terrapin Tiramisu-Hoo', 'Wrecking Bar Jemmy Dean Breakfast Stout', '5 Seasons North Plan B IPA', 'Wrecking Bar Siberius Maximus Russian Imperial Stout', 'Terrapin Big Hoppy Monster', 'Sweetwater Dank Tank Some Strange', 'Burnt Hickory Charred Walls of the Damned', 'Terrapin French Toasted W-n-B Coffee Oatmeal Imperial Stout', 'Creature Comforts Cosmik Debris', 'Sweetwater Bourbon Barrel Aged Imperial Stout', 'Creature Comforts See The Stars', 'Terrapin Oaked Aged Rye Squared', 'Terrapin Cinnamon Rolld Wake-n-Bake', 'Creature Comforts Tropiclia', 'Terrapin Wake-n-Bake Coffee Oatmeal Imperial Stout', '5 Seasons North Quinte55ence', 'Terrapin Substance Abuse Ale', 'Terrapin Oaked Wake-n-Bake Coffee Oatmeal Imperial Stout', 'Wrecking Bar Mexican Siberius Maximus Russian Imperial Stout', 'Funky Buddha Last Snow Porter', 'Cigar City / Mikkeller Nielsbohrium', 'Cigar City Cognac Barrel-Aged Imperial Sweet Stout', 'Cycle Wednesday - 2016', 'Cigar City Marshal Zhukovs Imperial Stout - Bourbon Barrel', 'Cigar City Marshal Zhukovs Penultimate Push', 'Cycle Pallet 2', 'Cycle &+', 'Cigar City Marshal Zhukovs Imperial Stout', 'Cycle RareR DOS', 'Cigar City Caff Americano Double Stout', 'J. Wakefield Miami Madness', 'Cycle Nooner #9', 'Funky Buddha Wide Awake Its Morning', 'Funky Buddha Morning Wood', 'Cycle Nooner #8', 'Funky Buddha Last Buffalo in the Park', 'J. Wakefield Dragonfruit Passion Fruit (DFPF) Berliner Weisse', 'Funky Buddha Snowed In - Bourbon Barrel', 'Cycle Four Roses BA Rye Stout', 'Cycle Barrel-Aged Hazelnut Imperial Stout', 'Cycle / 3 Sons Rare Scooop', 'Cigar City Hunahpus Imperial Stout', 'Cigar City Hunahpus Imperial Stout - Double Barrel Aged', 'Dominion Millennium', 'Iron Hill Bourbon Porter', 'Iron Hill Imperial IPA', 'Dogfish Head URKontinent', 'Dogfish Head Indian Brown Ale', 'Iron Hill Quadrupel (Quadfather)', 'Dogfish Head Olde School Barleywine', 'Dogfish Head Beer for Breakfast', 'Dogfish Head 60 Minute IPA', 'Iron Hill Bourbon (Tom) Barleywine', 'Dogfish Head Raison D Extra', 'Dogfish Head Immort Ale', 'Dogfish Head 75 Minute IPA (Cask/Bottle)', 'Dogfish Head Burton Baton', 'Dogfish Head Squall IPA', 'Dogfish Head 120 Minute IPA', 'Iron Hill Oak Aged Quad', 'Dominion Millennium Oak Aged', 'Dogfish Head Palo Santo Marron', 'Iron Hill Russian Imperial Stout', 'Dogfish Head Bitches Brew', 'Iron Hill Oak Aged Old Tom', 'Dogfish Head 90 Minute Imperial IPA', 'Dogfish Head World Wide Stout 2001/2003-Present (18%)', 'OEC Aeris Singularis (Pinot Noir/Gin Barrel)', 'OEC Experimentalis with Peaches (Pedro Ximenez Barrel)', 'OEC Exilis', 'New England Locust Reign', 'OEC Aeris', 'Two Roads Unorthodox', 'Thomas Hooker Imperial Porter', 'Willimantic Address Unknown IPA', 'OEC Nepenthes', 'New England Imperial Stout Trooper (Bourbon)', 'OEC Artista Zynergia: Gosatequin (Blend #1)', 'Two Roads Igors Dream - Rye Whiskey Barrel Aged', 'New England 668 Chardonneighbor Of The Beast ', 'OEC Albus', 'New England Galaxy Pale Ale', 'Thomas Hooker Liberator Doppelbock', 'OEC Artista Zynergia: Oudilis', 'Willimantic Willi Whammer', 'New England G-Bot Double IPA', 'OEC Experimentalis With Meyer Lemons (Pinot Noir/Gin Barrel)', 'New England Supernaut IPA', 'New England Imperial Stout Trooper', 'New England Fuzzy Baby Ducks IPA ', 'New England Coriolis', 'Casey Dry Hopped Oak Theory - Galaxy & Simcoe', 'Crooked Stave Silly Cybies', 'WeldWerks Coffee Maple Achromatic', 'Great Divide Hercules Double IPA', 'Avery The Maharaja Imperial India Pale Ale', 'New Belgium Love - Felix-Oscar Blend - Blackberry Whiskey Barrel', 'New Belgium La Folie', 'Avery Mephistopheles Stout', 'Casey Brett Loves Citra', 'Medovina Sweet Melissa', 'Great Divide Yeti Imperial Stout - Chocolate Oak Aged ', 'Avery Tweak', 'Crooked Stave Petite Sour Hibiscus & Cinnamon (Apple/Peach Whiskey)', 'Casey The Cut: Balaton Cherry', 'Great Divide Yeti Imperial Stout - Barrel Aged', 'Crooked Stave Nightmare on Brett (Raspberry)', 'Oskar Blues Ten FIDY - Stranahans Colorado Whiskey Barrel', 'Great Divide Yeti Imperial Stout', 'Oskar Blues Ten FIDY - Barrel Aged', 'Avery Barrel-Aged Series 36 - Callipygian', 'Oskar Blues Ten FIDY', 'Great Divide Yeti Imperial Stout - Espresso Oak Aged ', 'Avery Uncle Jacobs Stout', 'Great Divide Yeti Imperial Stout - Oak Aged ', 'North Coast Old Rasputin (Bourbon Barrel)', 'Lost Abbey The Angels Share - Bourbon Barrel', 'Russian River Beatification (Batch 002 +)', 'Russian River Consecration', 'Lost Abbey Duck Duck Gooze ', 'AleSmith Speedway Stout - Vanilla & Coconut', 'Lost Abbey Box Set: Track #10 (Bat out of Hell)', 'Lost Abbey Box Set: Track #6 (Highway to Hell)', 'Hangar 24 Barrel Roll: Pugachev Royale', 'Stone Imperial Russian Stout', 'Russian River Supplication', 'Stone Imperial Russian Stout - Bourbon Barrel', 'Firestone Walker Parabola', 'Lost Abbey Cable Car', 'AleSmith Speedway Stout - Vietnamese Coffee', 'AleSmith Speedway Stout - Brewers Blend: Vietnamese Coffee', 'Alpine Beer Company Keene Idea', 'AleSmith Speedway Stout - Velvet', 'AleSmith Speedway Stout - Hawaiian', 'Russian River Pliny the Elder', 'AleSmith Speedway Stout', 'AleSmith Speedway Stout - Bourbon Barrel Aged', 'Russian River Pliny the Younger', 'AleSmith Speedway Stout - Bourbon Barrel Aged: Vietnamese Coffee', 'Vinos Octoberfest', 'Vinos Rainbow Wheat', 'Fossil Cove La Brea Brown', 'Diamond Bear Presidential IPA', 'Core Hilltop IPA', 'Diamond Bear Dogtown Brown', 'Diamond Bear Strawberry Blonde', 'Diamond Bear Two Term Double IPA', 'Vinos Lazyboy Stout', 'Diamond Bear Paradise Porter', 'Vinos Holidaze', 'Vinos Pinnacle IPA', 'Core Barneys Imperial Red', 'Ozark Cream Stout', 'Core ESB', 'Core Easy Livin IPA', 'Lost Forty Pale Ale', 'Vinos Imperial Stout', 'Moody Brews Half Seas Over Imperial IPA', 'Core Oatmeal Stout', 'Ozark Onyx Coffee Stout', 'Vinos Rock Hopera Imperial IPA', 'Ozark American Pale Ale', 'Ozark Bourbon Barrel Aged Double Cream Stout', 'Thunder Canyon Warhead Stout', 'Four Peaks Double Knot', 'Superstition Marion Mead - Sparkling', 'Superstition Fruit of Venus', 'Superstition Date Night', 'Superstition Aphrodisia Pyment - Syrah/Grenache', 'Superstition Aphrodisia Pyment - Cabernet/Syrah', 'Superstition Aphrodisia Pyment - Cabernet/Pinot Noir/Syrah', 'Superstition Marion Mead - Still', 'Superstition Super Bee', 'Arizona Wilderness Picacho Pecan Pie Brown Ale', 'Arizona Wilderness DC Mountain Double IPA', 'Arizona Wilderness American Presidential Stout', 'Sun Up White Russian Imperial Stout ', 'Superstition Peanut Butter Jelly Crime', 'Superstition Black Berry White', 'Superstition Grand Cru Berry', 'Superstition Framboesa Atando', 'Superstition Aphrodisia Pyment - Cabernet ', 'Dragoon Lazarus', 'Superstition Straw Berry White', 'Superstition Endovelicus', 'Superstition Blue Berry White ', 'Superstition Berry White', 'Anchorage Whiteout Wit Bier', 'Anchorage The Experiment', 'Midnight Sun XXX Black Double IPA', 'Midnight Sun 2014 Alaskana Series: Termination Dust', 'Midnight Sun 2009 Crew Brews: Brewtality', 'Midnight Sun Monks Mistress (Bourbon)', 'Anchorage Galaxy White IPA', 'Anchorage / Jolly Pumpkin Calabaza Boreal ', 'Alaskan Pilot Series: Barley Wine Ale', 'Midnight Sun T.R.E.A.T. Imperial Chocolate Pumpkin Porter', 'Anchorage The Tide and Its Takers Triple', 'Anchorage Mosaic Saison', 'Alaskan Smoked Porter', 'Midnight Sun Moscow', 'Midnight Sun Monks Mistress', 'Anchorage Love Buzz Saison', 'Anchorage Darkest Hour Imperial Stout (2014-)', 'Anchorage Bitter Monk Belgian Style Double IPA', 'Midnight Sun Arctic Devil', 'Anchorage Time Waits For No One', 'Anchorage A Deal With The Devil Barleywine', 'Midnight Sun 2010 Pop Ten: Barfly', 'Midnight Sun Berserker', 'Midnight Sun 2007 Deadly Sins: Sloth', 'Straight To Ale He Aint Heffe', 'Salty Nut Dahkness Stout', 'Back Forty Trade Day Cuban Coffee Stout', 'Straight To Ale Verns Wheat Wine', 'Good People Hitchhiker American IPA', 'Blue Pants Pinstripe Candy Bar Stout', 'Avondale Vanillaphant Porter', 'Fairhope Painted Black IPA', 'Straight To Ale Monkeynaut IPA', 'Blue Pants Weedys Double IPA', 'Straight To Ale Illudium', 'Good People Coffee Oatmeal Stout', 'Beer Engineers Peanut Butter Porter', 'Straight To Ale Unobtanium', 'Straight To Ale Monkeys Uncle IIPA', 'Good People Fatso Imperial Stout', 'Straight To Ale Velvet Evil', 'Straight To Ale Gorillanaut Imperial IPA', 'Good People Snake Handler', 'Straight To Ale Laika Russian Imperial Stout - Cabernet Barrel Aged', 'Avondale Barrel Aged Brett Saison', 'Straight To Ale Laika Russian Imperial Stout', 'Straight To Ale Laika Russian Imperial Stout - Bourbon Barrel Aged', 'Good People El Gordo Imperial Stout', 'Parish Envie Pale Ale', 'Maine Beer Zoe', 'Stillwater Gose Gone Wild - Phuket', 'Tree House Green', 'Bells Two Hearted Ale', 'Town Hall Ol Jack Frost', 'SPB Lazarus', 'Side Project Blanc de Blancs', 'Big Sky Shake-a-Day Mai Tai IPA', 'Lucky Bucket Certified Evil 2010', 'Great Basin Tectonic Event IPA', 'Smuttynose Julios Fashionably Old Ale', 'Carton Epitome', 'Bosque (NM) Scale Tipper IPA', 'Grimm Lambo Door', 'Wicked Weed White Angel', 'Fargo Mighty Red', 'Fargo Super Green', 'Laughing Sun Cosmic Owl Belgian Pale Ale', 'Pointe of View Winery Semi-Dry Honey Wine', 'Pointe of View Winery Dry Apple Wine', 'Maple River Winery Country Crabapple Wine', 'Pointe of View Winery Sweet Honey Wine ', 'Pointe of View Winery H2BC', 'Fargo Stones Throw Scottish Ale', 'Pointe of View Winery Honey Wine with Elderflowers', 'Maple River Winery Honey Apple Wine', 'Fargo Wind Swept Belgian Witbier', 'Fargo Original Pale Lager', 'Laughing Sun Strawberry Wheat', 'Fargo Roustabout Stout', 'Fargo OFest Oktoberfest Lager', 'Laughing Sun Sinister Pear', 'Pointe of View Winery Apple Wine', 'Fargo Wood Chipper IPA', 'Maple River Winery Honeycomb Plum', 'Laughing Sun Black Shox Porter', 'Fargo Sodbuster Porter', 'Pointe of View Winery Viking Deed', 'Laughing Sun Feast Like a Sultan IPA', 'Fargo Iron Horse Pale Ale', 'Wicked Weed Montmaretto (Canvas Series)', 'Foothills Seeing Double IPA', 'Highland Black Watch Double Chocolate Milk Stout', 'Wicked Weed Framboos Morte', 'Pisgah Valdez', 'Foothills Baltic Porter', 'NoDa Hop, Drop n Roll IPA', 'Wicked Weed Angel of Darkness', 'Wicked Weed Pernicious IPA', 'Wicked Weed Bramble Barrel', 'Wicked Weed Ruffian Imperial Black IPA', 'Wicked Weed Freak Of Nature Double IPA', 'Wicked Weed Mnage-a-Freak', 'Wicked Weed Cherry Go Lightly', 'Wicked Weed Golden Angel', 'Wicked Weed Garon de Ferme', 'Wicked Weed Medora Blackberry Raspberry Sour', 'Foothills Barrel Aged Sexual Chocolate Imperial Stout', 'Wicked Weed Red Angel ', 'Foothills Sexual Chocolate Imperial Stout', 'Foothills / Duck-Rabbit / Olde Hickory Olde Rabbits Foot', 'The Duck-Rabbit Baltic Porter', 'Wicked Weed Dark Age Bourbon Stout', 'Olde Hickory The Event Horizon', 'Southern Tier Blackwater Series: Mokah', 'Evil Twin Auld Yin', 'Brooklyn Black Ops', 'Southern Tier Oaked Pumking', 'Other Half Double Mosaic Dream', 'Other Half Mosaic', 'Evil Twin Imperial Biscotti Break Raspberry Umami', 'Brooklyn Black Chocolate Stout', 'Southern Tier Imperial Oat', 'Captain Lawrence Rosso e Marrone', 'Evil Twin Imperial Doughnut Break', 'Evil Twin Even More Jesus Port', 'Evil Twin Imperial Biscotti Break - DeCicco Version', 'Evil Twin An Ms Caf Jess', 'Evil Twin An Ms a Jess', 'Captain Lawrence Cuvee de Castleton', 'Southern Tier Blackwater Series: Choklat', 'Evil Twin Imperial Biscotti Break', 'Evil Twin Even More Jesus', 'Evil Twin Pappys Imperial Biscotti Break', 'Southampton Imperial Russian Stout', 'Evil Twin Imperial Biscotti Break - Bourbon Barrel', 'Evil Twin Double Barrel Jesus', 'Evil Twin Pappys Even More Jesus', 'Chama River Imperial Red', 'Santa Fe Barrel Aged Sour State Pen Porter', 'Marble Imperial Red Ale', 'La Cumbre La Roja Grande', 'Marble India Pale Ale', 'La Cumbre El Negro RIS', 'Santa Fe Los Innovadores Kriek', 'Marble D.I.P.A.', 'Marble Reserve Ale', 'Santa Fe Wild Ale #6 (Bordeaux Series)   ', 'Chama River Dangerous Intensions', 'Santa Fe State Pen Imperial Porter', 'Chama River Anastasia Wine Barrel Aged Russian Imperial Stout', 'La Cumbre Red Ryeot', 'La Cumbre Father Nelson', 'Santa Fe Imperial Java Stout', 'Marble Imperial Stout', 'La Cumbre Acclimated IPA', 'Marble Bourbon Barrel-Aged Imperial Stout', 'La Cumbre Cafe Con Leche', 'La Cumbre Malpais Stout', 'La Cumbre Project Dank', 'La Cumbre Elevated IPA', 'La Cumbre Full Nelson', 'Ramstein Winter Wheat', 'Kane Silent Nights', 'Carton 077XX', 'Triumph Jewish Rye Beer', 'Triumph Imperial Stout', 'Kane Overhead', 'Flying Fish Exit 16 WE Wild Rice Double IPA', 'Triumph Coffee & Cream Stout', 'Harvest Moon Oceanus Procellarum', 'Ramstein Eis Storm Eisbock', 'Carton Dune Fruit', 'Melovino Southern Berry', 'Kane Hop Lab #9 - Citra Pale Ale', 'Kane A Night to End All Dawns - Coffee', 'Alba Vineyard Forbidden', 'Kane A Night to End All Dawns', 'Kane Mexican Brunch', 'Kane Head High', 'Triumph Rauchweizen', 'Carton Shipwreck Porter', 'Kane A Night to End All Dawns - Cacao', 'Kane Sunday Brunch', 'Kane A Night to End All Dawns - Vanilla Bean', 'Kane A Night To End All Dawns - Coconut', 'Stoneface Mozaccalypse', '603 Granite Stout', 'Deciduous Lambent', 'Smuttynose Smuttlabs Shebang', 'Smuttynose Big Beer Series: Rocky Road Stout', 'Kelsen Vendel Imperial Stout', 'Stoneface IPA', 'Deciduous Cumulation', 'Stoneface RIS', 'White Birch Nyx', 'Deciduous Renascence', 'Stoneface Porter', 'Portsmouth Royal Impy Stout', 'Portsmouth Barleywine', 'Stoneface RIS - Bourbon Barrel Aged', 'Stoneface Hopulization', 'Smuttynose Big A IPA', 'Smuttynose Robust Porter', 'Moonlight Meadery Kurts Apple Pie', 'Moonlight Meadery Destiny', 'Smuttynose Smuttlabs Apple Brandy Barrel Aged Gravitation', 'Smuttynose Smuttlabs Imperial Stout', 'Smuttynose Big Beer Series: Imperial Stout', 'Smuttynose Baltic Porter', 'Triple 7 Marker Pale Ale', 'Joseph James Im Out Imperial Stout', 'Silver Peak Peavine Porter', 'Joseph James 6th Anniversary Barrel-aged Rye Wine', 'Tenaya Creek Tandem Double India Pale Ale', 'Great Basin Outlaw Milk Stout', 'Chicago Hardway IPA', 'Great Basin Hop Head Ale', 'Big Dogs Dirty Dog IPA', 'Bad Beat Hoppy Times IPA', 'Tenaya Creek Hop Ride IPA', 'Big Dogs Sled Dog Imperial Stout', 'Tenaya Creek Monsoon Double IPA', 'Tenaya Creek Red Ryder', 'Saint James Plum Lambic', 'Big Dogs War Dog Imperial IPA', 'Joseph James Citra Rye Pale Ale', 'Joseph James Barrel Smoker', 'Great Basin Scytale 385', 'Joseph James Baby J German Chocolate Cake Stout', 'Tenaya Creek Old Jackalope Barleywine', 'Saint James Daily Wages', 'Tenaya Creek Imperial Stout', 'Joseph James Bourbon Barrel-Aged Russian Imperial Stout', 'Nebraska Inception Series Ardent Son', 'Nebraska Inception Series Franc Blanc', 'Brickway Vanilla Coffee Stout', 'Lucky Bucket IPA', 'Nebraska Inception Series #08 - Blanc is The New White', 'Nebraska Inception Series Tart Apricot Saison', 'Upstream Gianduja Imperial Rye Brown Ale', 'Lucky Bucket Barrel Aged Kriek', 'Nebraska Reserve Series Responsibly', 'Nebraska India Pale Ale (2011-  )', 'Jaipur Jalapeo Ale', 'Lucky Bucket Whiskey Barrel Aged Certified Evil', 'Thunderhead Espresso Stout', 'Nebraska HopAnomaly', 'Nebraska Inception Series Runnin with the Devil', 'Nebraska Little Betty Russian Imperial Stout', 'Nebraska New Oak-aged Rye IPA', 'Nebraska Reserve Series Barrel Aged Fathead  ', 'Nebraska Apricot Au Poivre Saison', 'Nebraska Reserve Series Melange A Trois ', 'Upstream Grand Cru', 'Nebraska Reserve Series Barrel Aged HopAnomaly', 'Nebraska Reserve Series Sexy Betty', 'Nebraska Reserve Series Black Betty Russian Imperial Stout', 'Lewis and Clark Tumbleweed IPA', 'Yellowstone Valley Numbskull IPA', 'Montana Brewing Custers Last Stout', 'Big Sky Shake-A-Day India Pale Ale', 'Big Hole Head Smashed In ', 'Bozeman Bozone Plum St. Porter ', 'Bozeman Bozone HopZone IPA', 'Big Sky Biere de Noel', 'Big Sky Rye Pale Ale', 'Big Sky IPA', 'Bitter Root Single Hop Ale - CTZ', 'The Front Mountain Man Scotch Ale', 'Draught Works Scepter Head IPA', 'Carters Saison De Carter', 'Big Sky Cowboy Coffee Porter', 'Bitter Root Last Cast Black IPA', 'Kettle House Olde Bongwater Hemp Porter', 'Montana Brewing Beartooth Espresso Porter', 'Flathead Lake The Imperial IPA', 'Big Sky Bobos Robust Porter', 'Carters De-Railed IPA', 'Big Sky Olde Bluehair Barleywine', 'Big Sky Ivan The Terrible Imperial Stout ', 'Big Sky Ivan the Terrible Imperial Stout - Bourbon Barrel', 'Side Project / De Garde Orviamo', 'Boulevard Smokestack Series: Saison-Brett', 'Side Project Saison du Fermier', 'Perennial Barrel Aged Sump (Rwandan Kyoto)', 'Side Project Unblended (Barrel #40)', 'Side Project Saison du Bl', 'Perennial Vanilla Abraxas', 'Perennial Maman', 'Perennial Coffee Abraxas', 'Side Project One Candle', 'Perennial Barrel Aged Sump', 'Mothers MILF', 'Side Project Thicket', 'Side Project Fuzzy', 'Side Project Bleuet du Fermier', 'Side Project Abricot du Fermier', 'Perennial Sump', 'Perennial Blue Label Maman - Evan Williams 23 ', 'Side Project Framboise du Fermier', 'Side Project Derivation Blend #3', 'Perennial Abraxas', 'Side Project Derivation Blend #2', 'Side Project Derivation Blend #1', 'Perennial Barrel Aged Abraxas', 'Lazy Magnolia Me and the Dev-Ale', 'SPB Devils Harvest American Pale Ale (Redux) (2016 - )', 'SPB Jack the Sipper', 'SPB Cicada Series Suzy Smash', 'Chandeleur Curlews Toasted Coconut Porter', 'SPB Devils Harvest Extra Pale Ale (-2016)', 'Lazy Magnolia Jefferson Stout', 'Chandeleur Lil Smack IPA', 'SPB Mississippi Fire Ant', 'Lazy Magnolia Gulf Porter', 'SPB Cicada Series Hipster Breakfast', 'SPB Cicada Series 2014 IPA', 'Lazy Magnolia Black Creek Southern Style Imperial Stout', 'Lazy Magnolia Ginger Jaque', 'Lazy Magnolia Southern Hopspitality', 'SPB Sinister Minister', 'SPB Cicada Series 2015 IPA', 'Lazy Magnolia 10', 'Crooked Letter Mystery Romp', 'SPB Mississippi Fire Ant: Bourbon Barrel Aged ', 'SPB Cicada Series Rgana Baltic Porter', 'Lazy Magnolia Southern Gentleman', 'Lazy Magnolia Timber Beast', 'SPB Crowd Control', 'Brau Brothers Rye Wyne Ale 2011', 'Indeed D.I.D.D.C.W.Q.M.S', 'Town Hall Twisted Trace', 'Surly Blakkr', 'Schell Noble Star - Starkeller Peach', 'Town Hall Coconut Milk Stout', 'Surly Wet 2012 & 2015', 'Lift Bridge Silhouette Bourbon Barrel Aged Russian Imperial Stout', 'Bent Paddle Double Shot Double Black', 'Fitgers Edmund Imperial Stout (Bourbon Barrel)', 'Town Hall Wee Heavy', 'Dangerous Man Peanut Butter Porter', 'Town Hall Masala Mama IPA', 'Surly Furious', 'Steel Toe Before the Dawn', 'Surly / Amager Todd - The Axe Man (Surly Version)', 'Surly Four', 'Town Hall Russian Roulette', 'Town Hall Czar Jack Imperial Stout', 'Barley Johns Rosies Ale', 'Surly Abrasive Ale', 'Surly Darkness 2014 - Bottled', 'Barley Johns The Dark Knight (Returns)', 'Surly Darkness', 'Bells Bourbon Barrel Batch 9000 Ale  ', 'Bells Traverse City Whiskey Barrel-Aged Expedition Stout', 'Schramms Raspberry', 'Founders Imperial Stout', 'The Livery Bourbon Barrel Aged Wheat Trippelbock', 'Schramms Apple', 'Perrin No Rules Vietnamese Porter', 'Kuhnhenn Fourth Dementia (4D) Old Ale - Bourbon Barrel ', 'Founders Bourbon Barrel Imperial Stout', 'Schramms The Statement', 'Founders Breakfast Stout', 'Bells Hopslam', 'Kuhnhenn Bourbon Barrel French Toast Mead', 'Dark Horse Bourbon Barrel Plead the 5th Imperial Stout', 'Schramms The Statement - Reserve', 'Schramms Black Agnes', 'Schramms Cranberry', 'Schramms Red Agnes', 'Bells Bourbon Barrel-Aged Expedition Stout', 'Bells Expedition Stout', 'Founders KBS (Kentucky Breakfast Stout)', 'Bells Black Note Stout', 'Schramms The Heart of Darkness', 'Schramms Madeline', 'Trillium Congress Street IPA', 'Trillium Mettle', 'Tree House Double Shot', 'Trillium Melcher Street IPA', 'Trillium Summer Street IPA - Double Dry Hopped', 'Trillium Headroom', 'Tree House In Perpetuity', 'Trillium Scaled - Double Dry Hopped', 'Samuel Adams Utopias', 'Trillium Fort Point Pale Ale', 'Tree House Haze', 'Trillium Fort Point Pale Ale - Galaxy Dry Hopped', 'Trillium Congress Street IPA - Double Dry Hopped', 'Trillium Fort Point Pale Ale - Double Dry Hopped', 'Trillium Upper Case', 'Tree House Juice Machine (2015- )', 'Tree House Doppelganger', 'Trillium Fort Point Pale Ale - Mosaic Dry Hopped', 'Tree House Very Hazy', 'Tree House Julius', 'Trillium Melcher Street IPA - Double Dry Hopped', 'Trillium Vicinity', 'Tree House Alter Ego', 'Tree House Good Morning', 'Stillwater Beer Table - Table Beer', 'Flying Dog Imperial IPA - Citra Single Hop', 'Flying Dog Double Dog Double Pale Ale', 'Stillwater Even Less Jesus (Remix)', 'Flying Dog Brewhouse Rarities: Smoked Belgian Stout', 'Stillwater Contemporary Works - Surround', 'Flying Dog Barrel-Aged Horn Dog', 'DuClaw Retribution', 'Stillwater / Mikkeller Rauchstar', 'Flying Dog Kujo', 'DuClaw Repent', 'Stillwater Import Series Vol. 5 Debauched - Brunello Barrel', 'Stillwater Give-Way', 'Stillwater G13', 'Heavy Seas Uncharted Waters: Siren Noire (2013 -)', 'Stillwater Barrel Aged Series - Folklore, the tale of Van Winkle', 'Stillwater Barrel Aged Series - Cellar Door', 'Stillwater / Casita Cerveceria On Fleek', 'Stillwater Barrel Aged Series - Stateside Saison', 'DuClaw Oak Aged Black Jack Stout', 'Heavy Seas Uncharted Waters: Blackbeards Breakfast', 'Flying Dog Wild Dog Barrel-Aged Gonzo ', 'Flying Dog Gonzo Imperial Porter ', 'Stillwater Gose Gone Wild', 'Maine Beer King Titus', 'Allagash St. Klippenstein', 'Allagash Nancy', 'Allagash Coolship Cerise', 'Maine Beer Weez', 'Maine Beer II', 'Allagash Tripel Reserve', 'Allagash Interlude', 'Allagash Tiarna', 'Allagash Golden Brett', 'Allagash Farm to Face', 'Allagash Merveilleux', 'Allagash Coolship Red', 'Oxbow / Stillwater Stillbow Oxtisanal', 'Allagash Century Ale', 'Allagash Avanc', 'Maine Beer MO', 'Maine Beer I', 'Foundation Epiphany IPA', 'Bissell Brothers Swish', 'Maine Beer Lunch', 'Maine Beer Another One', 'Allagash Cuve dIndustrial', 'Maine Beer Dinner', 'Abita Select Imperator', 'Abita Wrought Iron IPA', 'Bayou Teche Saison dEcrevisse (-2015)', 'Great Raft All My Tomorrows', 'Parish Dr Hoptagon', 'Bayou Teche Biere Joi Barrel Aged', 'NOLA / 7venth Sun House of the Rising', 'Great Raft Reasonably Corrupt Schwarzbier', 'Abita Bourbon Street Baltic Porter', 'NOLA Girl Stout Cookie', 'Parish Grand Reserve', 'Abita Bourbon Street Coffee Stout', 'Parish Opus Vert', 'NOLA Irish Channel Stout', 'NOLA Sauvage', 'Chafunkta Old 504 Porter', 'Bayou Teche Loup Garou', 'Abita Macchiato Espresso Milk Stout', 'Abita Bourbon Street Barrel Aged Imperial Stout', 'Parish Farmhouse IPA', 'Abita Shotgun Double IPA', 'NOLA Piety', 'NOLA Lowerline', 'Parish Ghost In The Machine', 'Hoppin Frog Barrel Aged BORIS Bairille Aois', 'Prairie Americana', 'Upright Fantasia', 'Selins Grove Pumpkin Ale', 'Revival White Electric Coffee Stout', 'Westbrook Leopold', 'Dempseys Longship Lager', 'Blackstone Black Belle', 'Brash Vulgar Display of Power', 'Uinta Detour Double India Pale Ale', 'Hill Farmstead Works of Love (Sante Adairius - 2013)', 'Reaver Beach The Kracken', 'Elysian Punkuccino Coffee Pumpkin Ale', 'DC Brau For Others', 'Bridge Brew Works The Blunt', 'Tyranena BGW Dirty Old Man ', 'Library Rattlesnake Rye Pale Ale', 'Altitude 7200 Stout', 'Melvin Killer Bees', 'Freedoms Edge High Noon Chili Pepper Ale', 'Black Tooth Indian Paintbrush Ale', 'Black Tooth Hot Streak IPA', 'Wind River Strom Bomb Oatmeal Stout', 'Bitter Creek A Beer Named Bob', 'Wind River Wyoming Pale Ale (WPA)', 'Black Tooth Saddle Bronc Brown', 'Melvin Clinic ISA', 'Altitude High Plains Pale Ale', 'Snake River Danimals Farmhouse Saison', 'Snake River Pakos IPA', 'Melvin Drunken Master', 'Melvin Brosaic', 'Snake River Zonker Stout', 'Snake River Le Serpent Cerise', 'Snake River Le Serpent', 'Melvin Hubert MPA', 'Melvin IPA', 'Melvin Asterisk Double IPA', 'Melvin Shaolin Brew IPA', 'Melvin 2x4', 'Snake River Le Serpent Framboise', 'New Glarus Dancing Man Wheat', 'New Glarus Thumbprint Series Cran-bic Ale', 'New Glarus R & D Vintage 2014', 'Leinenkugels Big Eddy Russian Imperial Stout', 'New Glarus Thumbprint Series Wild Sour Ale', 'New Glarus Thumbprint Series Scream IIPA', 'Brenner Witchcraft Imperial Stout', 'Central Waters Brewers Reserve Bourbon Barrel Scotch Ale', 'New Glarus Thumbprint Series IIPA', 'Central Waters Black Gold', 'Central Waters 18 Anniversary Edition', 'Central Waters Brewers Reserve Bourbon Barrel Barleywine', 'Central Waters Brewers Reserve Bourbon Barrel Stout', 'Funk Factory Geuzeria / Oso Framrood', 'Tyranena BGW The Devil Made Me Do It', 'Tyranena BGW Whos Your Daddy? Bourbon Barrel-Aged Imperial Porter', 'Central Waters 17 Anniversary Edition', 'Tyranena BGW Devil Over A Barrel', 'New Glarus Raspberry Tart', 'New Glarus R & D Wild Peach', 'New Glarus Serendipity', 'Funk Factory Geuzeria / Oso Frampaars', 'New Glarus Wisconsin Belgian Red', 'Central Waters Ardea Insignis Imperial Stout', 'Bridge Brew Works Black Diamond Lager', 'Lost River Black Ale', 'Mountain Dragon Tulip Poplar Honey Mead', 'Bridge Brew Works India Pale Ale', 'Morgantown Andersons Kettle Bottom Brown Ale', 'Greenbrier Valley Wild & Wonderful Series #2: Hefeweizen', 'Bridge Brew Works Trubell', 'Big Timber IPA', 'Morgantown Zack Morgans IPA', 'Greenbrier Valley Wild Trail Pale Ale', 'Bridge Brew Works Momma Rye IPA', 'Healthberry Farm Honey River Tulip Poplar Mead', 'Morgantown First Shift Coffee Porter', 'North End Dawks Classic Porter', 'Kenco Farms Blue Mead', 'Bridge Brew Works The Dun Glen Dubbel', 'Greenbrier Valley Mothman Black IPA', 'Greenbrier Valley Devil Anse IPA', 'Bridge Brew Works Hellbender IPA', 'Chestnut Brew Works Halleck Pale Ale', 'Morgantown Coal City Stout', 'Bridge Brew Works Peregrine Porter', 'Bridge Brew Works Moxxee Coffee Stout', 'Big Timber Porter', 'Bluejacket Wary Fiend', 'Bluejacket Mexican Radio (Whiskey Barrel Aged)', 'Right Proper Kodachrome Dream(ing)', 'Bluejacket P.X. Sherry Barrel-Aged High Society 2016', 'Bluejacket Further', 'Bluejacket / Intangible Ales Travlrs 12k', '3 Stars Starsky and Dutch', 'Atlas Brew Works NSFW', 'Bluejacket Lost Weekend', 'DC Brau Alpha Domina Mellis', 'DC Brau Penn Quarter Porter', 'Bluejacket / Brooklyn / New Belgium Rheinard de Vos', 'Right Proper The Lubitsch Touch', 'Bluejacket Mexican Radio', 'Bluejacket / Intangible Ales Gene Turns 10k', 'Bluejacket Forbidden Planet', 'Bluejacket Wallflower', 'Bluejacket A Little Golden Gem', 'Right Proper Kick.Kick.Snare', 'DC Brau / Oskar Blues Smells Like Freedom', 'James E. Pepper 1776 American Brown Ale ', 'Right Proper Diamonds, Fur Coat, Champagne', 'DC Brau Solar Abyss', 'DC Brau On the Wings of Armageddon', 'Elysian The Fix', 'Urban Family Lady of the Night', 'Holy Mountain Midnight Still - Cherry Rye', 'Pike XXXXX Stout', 'Elysian Dragonstooth Stout', 'Boundary Bay Imperial IPA', 'Old Schoolhouse Imperial Stout', 'Black Raven Grandfather Raven Imperial Stout', 'Fish Tale 10 Anniversary Ale', 'Silver City Le Fat', 'Alpenfire smoke', 'Holy Mountain Misre au Borinage', 'LaConner Olde Curmudgeon', 'Fremont Cowiche Canyon - Citra & Simcoe (Fresh Hop)', 'Black Raven Wisdom Seeker Double IPA', 'Holy Mountain Midnight Still - Coffee Vanilla', 'Fremont Dark Star - Bourbon Barrel Spice Wars', 'Fremont Abominable - Bourbon Barrel ', 'Walking Man Jaywalker Russian Imperial Stout', 'Fremont Dark Star - Bourbon Barrel Coffee Edition', 'Fremont Dark Star - Bourbon Barrel', 'Fremont Rusty Nail', 'Fremont Brew 1000', 'Fremont Abominable - Bourbon Barrel Coffee Cinnamon', 'Lickinghole Creek Heir Apparent', 'Mad Fox Batch 100 Strong Black Ale', 'Lickinghole Creek Coconut Quadrupel Ale', 'Lickinghole Creek Great Commander', 'The Veil Master Master Shredder Shredder', 'Legend Imperial IPA', 'The Veil Crucial Taunt Double IPA', 'Devils Backbone / Wicked Weed Seven Summits', 'Hardywood Bourbon Barrel Raspberry Stout With Vanilla Beans', 'Hardywood Gingerbread Stout', 'Hardywood Bourbon GBS (Gingerbread Stout)', 'Hardywood Apple Brandy Barrel GBS (Gingerbread Stout)', 'Sweetwater Tavern Barrel Aged High Desert Imperial Stout', 'AleWerks Brewmasters Reserve Bourbon Barrel Porter', 'Lickinghole Creek Supreme Leader', 'Hardywood Trickery', 'Three Notchd Biggie Smores Imperial Stout ', 'AleWerks Secret Admirer', 'Sweetwater Tavern High Desert Imperial Stout', 'Hardywood Christmas Morning', 'Hardywood Kentucky Christmas Morning', 'AleWerks Cafe Royale', 'Hardywood Foolery', 'AleWerks Bitter Valentine', 'Hill Farmstead What Is Enlightenment?', 'Hill Farmstead Society & Solitude #4', 'Hill Farmstead Society & Solitude #3', 'Hill Farmstead Flora - Plum', 'Hill Farmstead Citra Single Hop Pale Ale', 'Grassroots Legitimacy', 'Hill Farmstead Susan', 'Hill Farmstead Society & Solitude #2', 'Hill Farmstead Dorothy - Wine Barrel Aged', 'Lawsons Finest Sip of Sunshine IPA', 'Lawsons Finest Double Sunshine IPA', 'Alchemist Focal Banger', 'Hill Farmstead Society & Solitude #6', 'Hill Farmstead Genealogy of Morals - Bourbon', 'Hill Farmstead Everett', 'Hill Farmstead Double Galaxy', 'Hill Farmstead Double Citra', 'Hill Farmstead Society & Solitude #5', 'Hill Farmstead Juicy', 'Hill Farmstead Ephraim', 'Hill Farmstead Damon', 'Hill Farmstead Abner', 'Alchemist Heady Topper', 'Hill Farmstead Ann', 'Uinta Crooked Line Stompin Grounds Coffee Stout', 'Epic / DC Brau Brainless: Corruption', 'Epic Smoked & Oaked Belgian-Style Ale', 'Epic Imperial Red Ale', 'Hoppers Summerset Saison', 'Epic Brainless IPA', 'Uinta Crooked Line Oak Jacked Imperial Pumpkin', 'Epic Hopulent IPA', 'Red Rock Paardebloem ', 'Epic / Crooked Stave Elder Brett Saison-Brett Golden Ale', 'Epic Imperial IPA', 'Epic Imperial Stout', 'Uinta Crooked Line Cockeyed Cooper ', 'Epic Old Sage Brett', 'Epic Sour Brainless on Peaches', 'Squatters 529', 'Epic Son of a Baptist', 'Uinta Dubhe Imperial Black IPA', 'Uinta Crooked Line Sea Legs Baltic Porter', 'Squatters Outer Darkness', 'Uinta Crooked Line Labyrinth Black Ale', 'Epic Big Bad Baptista', 'Squatters Fifth Element', 'Epic Big Bad Baptist ', '(512) Cascabel Cream Stout', 'Austin Beerworks Heavy Machinery IPA Series #2: Double IPA', 'Freetail Raspberry Ananke', 'Jester King Nocturn Chrysalis - Gin Barrel Aged', 'Real Ale The Kraken', 'Jester King / Mikkeller Whiskey Barrel Rodeo', 'Brash Biggie Smalls Imperial Brown Ale ', 'Jester King Nocturn Chrysalis (Batch 2+)', 'Lakewood Bourbon Barrel Temptress (BBT)', 'Saint Arnold Bishops Barrel #8', 'Jester King / Mikkeller Weasel Rodeo', 'Jester King Aurelian Lure', 'Brash Cortado', 'Jester King Bire de Syrah', 'Jester King   (Fn to)', 'Jester King Bire de Blanc du Bois', 'Saint Arnold Divine Reserve #15', 'Karbach 003 Bourbon Barrel Hellfighter', 'Lakewood French Quarter Temptress', 'Saint Arnold Bishops Barrel #1', 'Community Barrel Aged Legion', 'Jester King Montmorency vs. Balaton', 'Jester King Atrial Rubicite', 'Jester King Sherry Barrel Atrial Rubicite', 'Terminal BrewHouse Magnum PA', 'Blackberry Farm Spring Saison', 'Yazoo Sly Rye Porter', 'Turtle Anarchy Another Way to Rye', 'Terminal BrewHouse The White Shadow', 'Yazoo / New Belgium Embrace The Funk Series: Rufus', 'Wiseacre Adjective Animal', 'Blackberry Farm Barrel Series - Brett Saison', 'Terminal BrewHouse Southsidenstein Stout', 'Blackberry Farm Blackberry Rye', 'Boscos HopGod Ale', 'Blackstone Adam Bomb IPA', 'Blackberry Farm New World Cuvee Dry Hop Saison (2016)', 'Yazoo Fortuitous', 'Yazoo Embrace The Funk Series: Citra Luxe', 'Blackberry Farm Brett Saison', 'Wiseacre Gotta Get Up to Get Down Coffee Milk Stout', 'Blackberry Farm / Evil Twin From Tennessee With Smoke', 'Yazoo Embrace the Funk Series: Deux Rouges', 'Blackberry Farm Classic Saison', 'Yazoo SUE', 'Blackberry Farm Noble Cuvee Dry Hop Saison (2016)', 'Blackberry Farm Summer Saison', 'Wiseacre Astronaut Status', 'Dempseys Valkyrie Red', 'Crow Peak Easy Livin Summer Ale', 'Crow Peak Redwater Ale', 'Crow Peak Roughlocktoberfest', 'Firehouse Honey Rye Porter', 'Firehouse Strong Arm Porter', 'Firehouse Prodigy Porter', 'Firehouse Brewers Golden', 'Crow Peak Canyon Cream Ale', 'Firehouse Wilderness Wheat', 'Firehouse Buffalo Bitter', 'Firehouse Red', 'Crow Peak Eleventh Hour IPA', 'Fernson IPA', 'Fernson Farmhouse Ale', 'Firehouse Chukkar Ale', 'Crow Peak Bear Butte Brown Ale', 'Sick N Twisted Hop On Top IPA', 'Crow Peak Mjollnir', 'Sick N Twisted Panty Droppin Porter', 'Firehouse Smoke Jumper Stout', 'Firehouse Brown Cow Ale', 'Crow Peak Pile-O-Dirt Porter', 'Prairie Berry Raspberry Honeywine', 'Westbrook Anfernee - Whiskey Barrel Aged', 'Westbrook Shanes Big DIPA', 'Westbrook 5th Anniversary Chocolate Raspberry Imperial Stout', 'Westbrook 2nd Anniversary Capn Skoons Ballistic Stout', 'Westbrook / Evil Twin Mini Growler', 'COAST The Boy King Double IPA', 'Westbrook 4th Anniversary Chocolate Coconut Almond Imperial Stout', 'Humboldt Black Xantus', 'COAST Blackbeerd Imperial Stout - Bourbon Barrel', 'Westbrook Siberian Black Magic Panther - Bourbon Barrel', 'Westbrook 2nd Anniversary Capn Skoons Ballistic Stout - Bourbon Barrel', 'Westbrook Comrade Appleseed', 'COAST Blackbeerd Imperial Stout - Jack Daniels Barrel', 'Westbrook Siberian Black Magic Panther - Apple Brandy Barrel', 'Westbrook Mexican Cake Imperial Stout - Double Chocolate Bourbon Barrel', 'Westbrook Mexican Cake Imperial Stout - Coffee', 'Westbrook Mexican Cake Imperial Stout - Tequila Barrel', 'Westbrook Mexican Cake Imperial Stout - Bourbon Barrel (2015)', 'Westbrook 4th Anniversary - Bourbon Barrel Aged', 'Westbrook Mexican Cake Imperial Stout - Bourbon Barrel (2014)', 'Westbrook Mexican Cake Imperial Stout', 'Westbrook Mexican Cake Imperial Stout - Red Wine Barrel', 'Westbrook Mexican Cake Imperial Stout - Bourbon Coconut ', 'Westbrook Mexican Cake Imperial Stout - Pappy Barrel', 'Trinity Russian Imperial Stout', 'Grey Sail Pour Judgement IPA', 'Narragansett Private Stock Imperial Russian Stout', 'Proclamation Tendril', 'Newport Storm Cyclone Series Zach', 'Narragansett Autocrat Coffee Milk Stout', 'Foolproof Raincloud Porter', 'Union Station Half Day IPA', 'Foolproof Shuckolate', 'Newport Storm Cyclone Series Vlad', 'Revival Burnsider Pale Ale', 'Union Station Vanilla Bean Porter', 'Proclamation zzzlumber', 'Proclamation Zzzlumber - Barrel-Aged', 'Revival Double Black IPA', 'Trinity Decadence Imperial IPA', 'Grey Sail Stargazer Imperial Stout', 'Proclamation Derivative Mosaic Hopped Pale Ale', 'Foolproof Revery Russian Imperial Stout', 'Proclamation Keraterra (Citra/Amarillo)', 'Proclamation Derivative Citra Hopped Pale Ale', 'Proclamation Postcursor', 'Proclamation Derivative Galaxy Hopped Pale Ale', 'Grey Sail Captains Daughter', 'Tregs Nugget Nectar Ale', 'Forest & Main Paradisaea', 'Tired Hands Virgins & Diamonds', 'Victory Java Cask', 'Selins Grove Bourbon St. Fillans Wee Heavy', 'Bullfrog Le Roar Grrrz Kriek', 'Bullfrog Le Roar Grrrz Aardbei', 'Bullfrog Le Roar Grrrz Plum', 'Bullfrog Le Roar Grrrz', 'Tired Hands Pineal IPA', 'Tired Hands We Are All Infinite Energy Vibrating at the Same Frequency', 'Voodoo The K13', 'Voodoo Grande Negro Voodoo Papi (Lairds Apple Brandy)', 'Bullfrog Le Roar Grrrz Apricot ', 'Tired Hands Sticky Drippy Crystals', 'Victory Old Horizontal', 'Victory Storm King Imperial Stout', 'Pizza Boy Sunny Side Up - Double Coffee', 'Bullfrog Et Tu Brut', 'Bullfrog Le Roar Grrrz Druiven', 'Selins Grove The Phoenix Kriek', 'Ottos Bourbon-Barrel Aged Jolly Roger Imperial Stout', 'Voodoo Grande Negro Voodoo Papi (Bourbon Barrel Aged) ', 'Voodoo ManBearPig', 'Cascade Noyaux', 'Upright Flora Rustica (Barrel Aged)', 'Rogue Double Chocolate Stout', 'Hair of the Dog Otto from the Wood', 'De Garde / Side Project Saison Desay - Chardonnay Barrel', 'De Garde Cherry Raz Bu', 'De Garde The Anniversary', 'Hair of the Dog Doggie Claws (2003-)', 'De Garde Imperial Black Raz Bu', 'Deschutes Black Butte XXVIII', 'Hair of the Dog Cherry Adam from the Wood', 'Pelican Mother of all Storms', 'Boneyard Notorious IPA3', 'De Garde The Broken Truck', 'Logsdon Peche n Brett', 'Block 15 Turbulent Consequence: Pche', 'Deschutes The Abyss - Rye Whiskey', 'Hair of the Dog Adam from the Wood', 'De Garde Nectarine Premiere', 'Hair of the Dog Fred from the Wood', 'De Garde Imperial Purple Raz Bu', 'De Garde The Peach', 'Hair of the Dog Adam', 'Deschutes The Abyss', 'Prairie Merica', 'Prairie Funky Gold Amarillo', 'Prairie Okie', 'Prairie Funky Gold Simcoe', 'Anthem Pappy Burleson', 'Roughtail Hoptometrist Double India Pale Ale', 'Prairie Wine Barrel Noir', 'Prairie Prairie Noir', 'Prairie Pirate Noir', 'Prairie Prairie Hop', 'Prairie Funky Gold Mosaic', 'Prairie Brett C.', 'American Solera Foeder Gold', 'Prairie Coffee Okie', 'Prairie Paradise', 'Prairie Bomb! - Balcones Barrel Aged', 'Prairie Birthday Bomb!', 'American Solera Foeder Cerise', 'Prairie Freds Blend', 'Prairie / Evil Twin Bible Belt', 'Prairie Pirate Bomb!', 'Prairie Bomb! - Barrel Aged', 'Prairie Bomb!', 'Prairie Apple Brandy Barrel Noir', 'Hoppin Frog Rocky Mountain BORIS', 'Hoppin Frog TORIS The Tyrant: Triple Oatmeal Stout', 'Columbus Bodhi', 'Great Lakes Chillwave Double IPA', 'Jackie Os Bourbon Barrel Oil Of Aphrodite', 'Fat Heads Head Hunter IPA', 'Jackie Os Coffee Bourbon Barrel Oil Of Aphrodite', 'Hoppin Frog BORIS Batch #200', 'Warped Wing Baltic Argonaut', 'Jackie Os Bourbon Barrel Champion Ground', 'Jackie Os Bourbon Barrel Dark Apparition', 'Hoppin Frog Cafe BORIS', 'Fat Heads Hop JuJu Imperial IPA', 'Jackie Os Bourbon Barrel Oro Negro', 'Hoppin Frog Barrel Aged BORIS Royale', 'Hoppin Frog Barrel Aged BORIS Van Wink', 'Jackie Os Vanilla & Coffee Bean Bourbon Barrel Dark Apparition', 'Great Lakes Blackout Stout - Barrel-Aged ', 'Jackie Os Iced Coffee Apparition', 'Thirsty Dog Siberian Night Imperial Stout', 'Hoppin Frog BORIS The Crusher', 'Hoppin Frog DORIS The Destroyer', 'Hoppin Frog Barrel Aged DORIS The Destroyer', 'Hoppin Frog Barrel Aged BORIS The Crusher ']\n"
     ]
    },
    {
     "data": {
      "text/plain": [
       "0                        Fairhope (Take The) Causeway IPA\n",
       "1                Anchorage Anadromous Belgian Black Bier \n",
       "2           McFate Imperial Candy Bar Stout - Barrel Aged\n",
       "3                                Core Toasted Coconut Ale\n",
       "4                            Port Brewing Older Viscosity\n",
       "5                         Crooked Stave Raspberry Origins\n",
       "6       1809 Berliner Style Weisse Zymatore - Gin & Pi...\n",
       "7                                     Iron Hill Sasquatch\n",
       "8                  Funky Buddha Maple Bacon Coffee Porter\n",
       "9                                       5 Seasons Hopgasm\n",
       "10                               Big Island Red Giant Ale\n",
       "11                 Sockeye Double Dagger IIPA (Fresh Hop)\n",
       "12          Three Floyds Ronaldo (2016 Dark Lord Variant)\n",
       "13                       Flossmoor Station Pretty Big IPA\n",
       "14                                   Peace Tree Hop Sutra\n",
       "15                                Blind Tiger Top Gun IPA\n",
       "16                  Bluegrass Bourbon Barrel Smoked Stout\n",
       "17                            Country Boy Papaw’s Red Ale\n",
       "18                                         West Sixth IPA\n",
       "19               Against the Grain Tropical Segway Kitten\n",
       "20                      Bluegrass Russian Imperial Porter\n",
       "21                     Braxton Dead Blow - Starter Coffee\n",
       "22            Bluegrass Bearded Pats Barleywine Style Ale\n",
       "23                         Against the Grain Gnight Ryder\n",
       "24                          Against the Grain Rico Sauvin\n",
       "25                     Against the Grain The Green Dragon\n",
       "26                       Against the Grain Citra Ass Down\n",
       "27                            Against the Grain 35K Stout\n",
       "28                         West Sixth Snakes In A Barrel \n",
       "29               Country Boy 4th Anniversary Wild Red Ale\n",
       "                              ...                        \n",
       "1245                                 Prairie Fred’s Blend\n",
       "1246                       Prairie / Evil Twin Bible Belt\n",
       "1247                                 Prairie Pirate Bomb!\n",
       "1248                          Prairie Bomb! - Barrel Aged\n",
       "1249                                        Prairie Bomb!\n",
       "1250                     Prairie Apple Brandy Barrel Noir\n",
       "1251                    Hoppin’ Frog Rocky Mountain BORIS\n",
       "1252    Hoppin’ Frog TORIS The Tyrant: Triple Oatmeal ...\n",
       "1253                                       Columbus Bodhi\n",
       "1254                     Great Lakes Chillwave Double IPA\n",
       "1255           Jackie O’s Bourbon Barrel Oil Of Aphrodite\n",
       "1256                           Fat Head’s Head Hunter IPA\n",
       "1257    Jackie O’s Coffee Bourbon Barrel Oil Of Aphrodite\n",
       "1258                        Hoppin’ Frog BORIS Batch #200\n",
       "1259                          Warped Wing Baltic Argonaut\n",
       "1260            Jackie O’s Bourbon Barrel Champion Ground\n",
       "1261            Jackie O’s Bourbon Barrel Dark Apparition\n",
       "1262                              Hoppin’ Frog Cafe BORIS\n",
       "1263                     Fat Head’s Hop JuJu Imperial IPA\n",
       "1264                  Jackie O’s Bourbon Barrel Oro Negro\n",
       "1265                Hoppin’ Frog Barrel Aged BORIS Royale\n",
       "1266              Hoppin’ Frog Barrel Aged BORIS Van Wink\n",
       "1267    Jackie O’s Vanilla & Coffee Bean Bourbon Barre...\n",
       "1268            Great Lakes Blackout Stout - Barrel-Aged \n",
       "1269                    Jackie O’s Iced Coffee Apparition\n",
       "1270            Thirsty Dog Siberian Night Imperial Stout\n",
       "1271                       Hoppin’ Frog BORIS The Crusher\n",
       "1272                     Hoppin’ Frog DORIS The Destroyer\n",
       "1273         Hoppin’ Frog Barrel Aged DORIS The Destroyer\n",
       "1274          Hoppin’ Frog Barrel Aged BORIS The Crusher \n",
       "Name: beer_name, dtype: object"
      ]
     },
     "execution_count": 14,
     "metadata": {},
     "output_type": "execute_result"
    }
   ],
   "source": [
    "a = map(lambda x: x.decode('utf-8').encode('ascii', 'ignore'), beer.beer_name)\n",
    "print a\n",
    "beer.beer_name"
   ]
  },
  {
   "cell_type": "markdown",
   "metadata": {},
   "source": [
    "### 11. abv"
   ]
  },
  {
   "cell_type": "code",
   "execution_count": null,
   "metadata": {
    "collapsed": false
   },
   "outputs": [],
   "source": [
    "#beer.abv.describe()"
   ]
  },
  {
   "cell_type": "code",
   "execution_count": null,
   "metadata": {
    "collapsed": false
   },
   "outputs": [],
   "source": [
    "##aside\n",
    "#a = np.nan\n",
    "#print a\n",
    "#print a == np.nan\n",
    "#print a is np.nan"
   ]
  },
  {
   "cell_type": "code",
   "execution_count": 8,
   "metadata": {
    "collapsed": false
   },
   "outputs": [
    {
     "data": {
      "text/plain": [
       "count     629\n",
       "unique    124\n",
       "top        10\n",
       "freq       36\n",
       "Name: abv, dtype: object"
      ]
     },
     "execution_count": 8,
     "metadata": {},
     "output_type": "execute_result"
    }
   ],
   "source": [
    "beer.abv = [str(x).replace(\"%\", '') if x is not np.nan else np.nan for x in beer.abv]\n",
    "beer.abv.describe()"
   ]
  },
  {
   "cell_type": "markdown",
   "metadata": {},
   "source": [
    "### 12. est_cal (clean)"
   ]
  },
  {
   "cell_type": "code",
   "execution_count": null,
   "metadata": {
    "collapsed": false
   },
   "outputs": [],
   "source": [
    "#beer.est_cal.unique()"
   ]
  },
  {
   "cell_type": "markdown",
   "metadata": {},
   "source": [
    "### 13. mean"
   ]
  },
  {
   "cell_type": "code",
   "execution_count": null,
   "metadata": {
    "collapsed": false
   },
   "outputs": [],
   "source": [
    "#beer['mean'].describe()\n",
    "#beer['mean'].unique()"
   ]
  },
  {
   "cell_type": "code",
   "execution_count": 9,
   "metadata": {
    "collapsed": false
   },
   "outputs": [],
   "source": [
    "m1 = map(lambda x: re.sub('\\/5.0', '', x), beer['mean'])\n",
    "beer['mean'] = [np.nan if x == '/' else float(x) for x in m1]"
   ]
  },
  {
   "cell_type": "code",
   "execution_count": null,
   "metadata": {
    "collapsed": false
   },
   "outputs": [],
   "source": [
    "#beer['mean'].describe()"
   ]
  },
  {
   "cell_type": "markdown",
   "metadata": {},
   "source": [
    "### 14. ibu (clean)"
   ]
  },
  {
   "cell_type": "code",
   "execution_count": null,
   "metadata": {
    "collapsed": false
   },
   "outputs": [],
   "source": [
    "#beer['ibu'].describe()\n",
    "#beer['ibu'].unique()\n",
    "#type(beer['ibu'].unique()[0])"
   ]
  },
  {
   "cell_type": "markdown",
   "metadata": {},
   "source": [
    "### 15. beer_desc"
   ]
  },
  {
   "cell_type": "code",
   "execution_count": 10,
   "metadata": {
    "collapsed": false
   },
   "outputs": [
    {
     "data": {
      "text/plain": [
       "350"
      ]
     },
     "execution_count": 10,
     "metadata": {},
     "output_type": "execute_result"
    }
   ],
   "source": [
    "[bool(re.search('\\\\xe2\\\\x80\\\\x99', x)) if x is not np.nan else np.nan for x in beer['beer_desc']].count(True)"
   ]
  },
  {
   "cell_type": "code",
   "execution_count": 11,
   "metadata": {
    "collapsed": false
   },
   "outputs": [],
   "source": [
    "beer['beer_desc'] = [re.sub('\\\\xe2\\\\x80\\\\x99', '\\'', x) if x is not np.nan else np.nan for x in beer['beer_desc']]"
   ]
  },
  {
   "cell_type": "code",
   "execution_count": 12,
   "metadata": {
    "collapsed": false
   },
   "outputs": [],
   "source": [
    "beer['beer_desc'] = [x.decode('ascii','ignore') if x is not np.nan else np.nan for x in beer['beer_desc']]"
   ]
  },
  {
   "cell_type": "markdown",
   "metadata": {},
   "source": [
    "## Arrange, Sort and Output"
   ]
  },
  {
   "cell_type": "code",
   "execution_count": 13,
   "metadata": {
    "collapsed": false
   },
   "outputs": [],
   "source": [
    "beer.columns\n",
    "beer = beer[['state', 'beer_rank', 'beer_name', 'beer_style', 'brewer', 'review_count', 'overall_score',\n",
    "'style_score', 'wgt_avg', 'abv', 'est_cal', 'mean', 'ibu', 'beer_desc', 'beer_img']]"
   ]
  },
  {
   "cell_type": "code",
   "execution_count": 14,
   "metadata": {
    "collapsed": false
   },
   "outputs": [
    {
     "name": "stdout",
     "output_type": "stream",
     "text": [
      "(1275, 15)\n"
     ]
    },
    {
     "data": {
      "text/html": [
       "<div>\n",
       "<table border=\"1\" class=\"dataframe\">\n",
       "  <thead>\n",
       "    <tr style=\"text-align: right;\">\n",
       "      <th></th>\n",
       "      <th>state</th>\n",
       "      <th>beer_rank</th>\n",
       "      <th>beer_name</th>\n",
       "      <th>beer_style</th>\n",
       "      <th>brewer</th>\n",
       "      <th>review_count</th>\n",
       "      <th>overall_score</th>\n",
       "      <th>style_score</th>\n",
       "      <th>wgt_avg</th>\n",
       "      <th>abv</th>\n",
       "      <th>est_cal</th>\n",
       "      <th>mean</th>\n",
       "      <th>ibu</th>\n",
       "      <th>beer_desc</th>\n",
       "      <th>beer_img</th>\n",
       "    </tr>\n",
       "  </thead>\n",
       "  <tbody>\n",
       "    <tr>\n",
       "      <th>424</th>\n",
       "      <td>ALABAMA</td>\n",
       "      <td>1</td>\n",
       "      <td>Good People El Gordo Imperial Stout</td>\n",
       "      <td>Imperial Stout</td>\n",
       "      <td>Good People Brewing Company</td>\n",
       "      <td>15</td>\n",
       "      <td>99.0</td>\n",
       "      <td>90.0</td>\n",
       "      <td>3.89</td>\n",
       "      <td>13.9</td>\n",
       "      <td>417.0</td>\n",
       "      <td>4.13</td>\n",
       "      <td>65.0</td>\n",
       "      <td>NaN</td>\n",
       "      <td>http://res.cloudinary.com/ratebeer/image/uploa...</td>\n",
       "    </tr>\n",
       "    <tr>\n",
       "      <th>423</th>\n",
       "      <td>ALABAMA</td>\n",
       "      <td>2</td>\n",
       "      <td>Straight To Ale Laika Russian Imperial Stout -...</td>\n",
       "      <td>Imperial Stout</td>\n",
       "      <td>Straight To Ale</td>\n",
       "      <td>53</td>\n",
       "      <td>98.0</td>\n",
       "      <td>72.0</td>\n",
       "      <td>NaN</td>\n",
       "      <td>11.7</td>\n",
       "      <td>351.0</td>\n",
       "      <td>NaN</td>\n",
       "      <td>NaN</td>\n",
       "      <td>NaN</td>\n",
       "      <td>http://res.cloudinary.com/ratebeer/image/uploa...</td>\n",
       "    </tr>\n",
       "    <tr>\n",
       "      <th>422</th>\n",
       "      <td>ALABAMA</td>\n",
       "      <td>3</td>\n",
       "      <td>Straight To Ale Laika Russian Imperial Stout</td>\n",
       "      <td>Imperial Stout</td>\n",
       "      <td>Straight To Ale</td>\n",
       "      <td>55</td>\n",
       "      <td>97.0</td>\n",
       "      <td>71.0</td>\n",
       "      <td>NaN</td>\n",
       "      <td>NaN</td>\n",
       "      <td>74.0</td>\n",
       "      <td>NaN</td>\n",
       "      <td>NaN</td>\n",
       "      <td>Second offering from the \"Right to Brew\" serie...</td>\n",
       "      <td>http://res.cloudinary.com/ratebeer/image/uploa...</td>\n",
       "    </tr>\n",
       "    <tr>\n",
       "      <th>421</th>\n",
       "      <td>ALABAMA</td>\n",
       "      <td>4</td>\n",
       "      <td>Avondale Barrel Aged Brett Saison</td>\n",
       "      <td>Saison</td>\n",
       "      <td>Avondale Brewing Company</td>\n",
       "      <td>10</td>\n",
       "      <td>97.0</td>\n",
       "      <td>95.0</td>\n",
       "      <td>3.69</td>\n",
       "      <td>7.5</td>\n",
       "      <td>225.0</td>\n",
       "      <td>4.01</td>\n",
       "      <td>NaN</td>\n",
       "      <td>This brew is our regular Saison aged in french...</td>\n",
       "      <td>http://res.cloudinary.com/ratebeer/image/uploa...</td>\n",
       "    </tr>\n",
       "    <tr>\n",
       "      <th>420</th>\n",
       "      <td>ALABAMA</td>\n",
       "      <td>5</td>\n",
       "      <td>Straight To Ale Laika Russian Imperial Stout -...</td>\n",
       "      <td>Imperial Stout</td>\n",
       "      <td>Straight To Ale</td>\n",
       "      <td>48</td>\n",
       "      <td>96.0</td>\n",
       "      <td>58.0</td>\n",
       "      <td>NaN</td>\n",
       "      <td>11.8</td>\n",
       "      <td>354.0</td>\n",
       "      <td>NaN</td>\n",
       "      <td>NaN</td>\n",
       "      <td>Straight To Ale Barrel Aged Laika Russian Impe...</td>\n",
       "      <td>http://res.cloudinary.com/ratebeer/image/uploa...</td>\n",
       "    </tr>\n",
       "  </tbody>\n",
       "</table>\n",
       "</div>"
      ],
      "text/plain": [
       "       state  beer_rank                                          beer_name  \\\n",
       "424  ALABAMA          1                Good People El Gordo Imperial Stout   \n",
       "423  ALABAMA          2  Straight To Ale Laika Russian Imperial Stout -...   \n",
       "422  ALABAMA          3       Straight To Ale Laika Russian Imperial Stout   \n",
       "421  ALABAMA          4                  Avondale Barrel Aged Brett Saison   \n",
       "420  ALABAMA          5  Straight To Ale Laika Russian Imperial Stout -...   \n",
       "\n",
       "         beer_style                       brewer  review_count  overall_score  \\\n",
       "424  Imperial Stout  Good People Brewing Company            15           99.0   \n",
       "423  Imperial Stout              Straight To Ale            53           98.0   \n",
       "422  Imperial Stout              Straight To Ale            55           97.0   \n",
       "421          Saison     Avondale Brewing Company            10           97.0   \n",
       "420  Imperial Stout              Straight To Ale            48           96.0   \n",
       "\n",
       "     style_score  wgt_avg   abv  est_cal  mean   ibu  \\\n",
       "424         90.0     3.89  13.9    417.0  4.13  65.0   \n",
       "423         72.0      NaN  11.7    351.0   NaN   NaN   \n",
       "422         71.0      NaN   NaN     74.0   NaN   NaN   \n",
       "421         95.0     3.69   7.5    225.0  4.01   NaN   \n",
       "420         58.0      NaN  11.8    354.0   NaN   NaN   \n",
       "\n",
       "                                             beer_desc  \\\n",
       "424                                                NaN   \n",
       "423                                                NaN   \n",
       "422  Second offering from the \"Right to Brew\" serie...   \n",
       "421  This brew is our regular Saison aged in french...   \n",
       "420  Straight To Ale Barrel Aged Laika Russian Impe...   \n",
       "\n",
       "                                              beer_img  \n",
       "424  http://res.cloudinary.com/ratebeer/image/uploa...  \n",
       "423  http://res.cloudinary.com/ratebeer/image/uploa...  \n",
       "422  http://res.cloudinary.com/ratebeer/image/uploa...  \n",
       "421  http://res.cloudinary.com/ratebeer/image/uploa...  \n",
       "420  http://res.cloudinary.com/ratebeer/image/uploa...  "
      ]
     },
     "execution_count": 14,
     "metadata": {},
     "output_type": "execute_result"
    }
   ],
   "source": [
    "beer.sort_values(['state', 'beer_rank'], ascending = [1, 1], inplace = True)\n",
    "print beer.shape\n",
    "beer.head()"
   ]
  },
  {
   "cell_type": "code",
   "execution_count": 15,
   "metadata": {
    "collapsed": false
   },
   "outputs": [],
   "source": [
    "beer.to_csv('beer_info_proc.csv', index = False)"
   ]
  },
  {
   "cell_type": "code",
   "execution_count": null,
   "metadata": {
    "collapsed": true
   },
   "outputs": [],
   "source": []
  }
 ],
 "metadata": {
  "anaconda-cloud": {},
  "kernelspec": {
   "display_name": "Python [default]",
   "language": "python",
   "name": "python2"
  },
  "language_info": {
   "codemirror_mode": {
    "name": "ipython",
    "version": 2
   },
   "file_extension": ".py",
   "mimetype": "text/x-python",
   "name": "python",
   "nbconvert_exporter": "python",
   "pygments_lexer": "ipython2",
   "version": "2.7.12"
  }
 },
 "nbformat": 4,
 "nbformat_minor": 1
}
