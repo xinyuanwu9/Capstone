{
 "cells": [
  {
   "cell_type": "code",
   "execution_count": 44,
   "metadata": {
    "collapsed": true
   },
   "outputs": [],
   "source": [
    "import numpy as np\n",
    "import pandas as pd\n",
    "import re\n",
    "from scipy import stats"
   ]
  },
  {
   "cell_type": "markdown",
   "metadata": {},
   "source": [
    "## Data Overview"
   ]
  },
  {
   "cell_type": "code",
   "execution_count": 45,
   "metadata": {
    "collapsed": false
   },
   "outputs": [
    {
     "data": {
      "text/html": [
       "<div>\n",
       "<table border=\"1\" class=\"dataframe\">\n",
       "  <thead>\n",
       "    <tr style=\"text-align: right;\">\n",
       "      <th></th>\n",
       "      <th>review_count</th>\n",
       "      <th>style_score</th>\n",
       "      <th>brewer</th>\n",
       "      <th>wgt_avg</th>\n",
       "      <th>beer_img</th>\n",
       "      <th>state</th>\n",
       "      <th>beer_rank</th>\n",
       "      <th>overall_score</th>\n",
       "      <th>beer_style</th>\n",
       "      <th>beer_name</th>\n",
       "      <th>abv</th>\n",
       "      <th>est_cal</th>\n",
       "      <th>mean</th>\n",
       "      <th>ibu</th>\n",
       "      <th>beer_desc</th>\n",
       "    </tr>\n",
       "  </thead>\n",
       "  <tbody>\n",
       "    <tr>\n",
       "      <th>0</th>\n",
       "      <td>28</td>\n",
       "      <td>71.0</td>\n",
       "      <td>Fairhope Brewing Company</td>\n",
       "      <td>3.46</td>\n",
       "      <td>http://res.cloudinary.com/ratebeer/image/uploa...</td>\n",
       "      <td>ALABAMA</td>\n",
       "      <td>25</td>\n",
       "      <td>85.0</td>\n",
       "      <td>India Pale Ale (IPA)</td>\n",
       "      <td>Fairhope (Take The) Causeway IPA</td>\n",
       "      <td>8.2%</td>\n",
       "      <td>246.0</td>\n",
       "      <td>3.54/5.0</td>\n",
       "      <td>69.0</td>\n",
       "      <td>Previously 6.5% abv and 75 IBUs</td>\n",
       "    </tr>\n",
       "    <tr>\n",
       "      <th>1</th>\n",
       "      <td>246</td>\n",
       "      <td>87.0</td>\n",
       "      <td>Anchorage Brewing Company</td>\n",
       "      <td>NaN</td>\n",
       "      <td>http://res.cloudinary.com/ratebeer/image/uploa...</td>\n",
       "      <td>ALASKA</td>\n",
       "      <td>25</td>\n",
       "      <td>97.0</td>\n",
       "      <td>Sour/Wild Ale</td>\n",
       "      <td>Anchorage Anadromous Belgian Black Bier</td>\n",
       "      <td>8.5%</td>\n",
       "      <td>255.0</td>\n",
       "      <td>/</td>\n",
       "      <td>30.0</td>\n",
       "      <td>Ale brewed with summit hops. Triple fermented....</td>\n",
       "    </tr>\n",
       "    <tr>\n",
       "      <th>2</th>\n",
       "      <td>9</td>\n",
       "      <td>NaN</td>\n",
       "      <td>McFate Brewing Company</td>\n",
       "      <td>3.89</td>\n",
       "      <td>http://res.cloudinary.com/ratebeer/image/uploa...</td>\n",
       "      <td>ARIZONA</td>\n",
       "      <td>25</td>\n",
       "      <td>99.0</td>\n",
       "      <td>Imperial Stout</td>\n",
       "      <td>McFate Imperial Candy Bar Stout - Barrel Aged</td>\n",
       "      <td>9.5%</td>\n",
       "      <td>285.0</td>\n",
       "      <td>4.29/5.0</td>\n",
       "      <td>NaN</td>\n",
       "      <td>NaN</td>\n",
       "    </tr>\n",
       "    <tr>\n",
       "      <th>3</th>\n",
       "      <td>15</td>\n",
       "      <td>48.0</td>\n",
       "      <td>Core Brewing and Distilling</td>\n",
       "      <td>3.13</td>\n",
       "      <td>http://res.cloudinary.com/ratebeer/image/uploa...</td>\n",
       "      <td>ARKANSAS</td>\n",
       "      <td>25</td>\n",
       "      <td>46.0</td>\n",
       "      <td>Brown Ale</td>\n",
       "      <td>Core Toasted Coconut Ale</td>\n",
       "      <td>6%</td>\n",
       "      <td>180.0</td>\n",
       "      <td>3.19/5.0</td>\n",
       "      <td>27.0</td>\n",
       "      <td>NaN</td>\n",
       "    </tr>\n",
       "    <tr>\n",
       "      <th>4</th>\n",
       "      <td>1130</td>\n",
       "      <td>100.0</td>\n",
       "      <td>Port Brewing Co / The Lost Abbey</td>\n",
       "      <td>NaN</td>\n",
       "      <td>http://res.cloudinary.com/ratebeer/image/uploa...</td>\n",
       "      <td>CALIFORNIA</td>\n",
       "      <td>25</td>\n",
       "      <td>100.0</td>\n",
       "      <td>American Strong Ale</td>\n",
       "      <td>Port Brewing Older Viscosity</td>\n",
       "      <td>12%</td>\n",
       "      <td>360.0</td>\n",
       "      <td>/</td>\n",
       "      <td>NaN</td>\n",
       "      <td>100% Bourbon Barrel Aged Strong Ale.  This is ...</td>\n",
       "    </tr>\n",
       "  </tbody>\n",
       "</table>\n",
       "</div>"
      ],
      "text/plain": [
       "   review_count  style_score                            brewer  wgt_avg  \\\n",
       "0            28         71.0          Fairhope Brewing Company     3.46   \n",
       "1           246         87.0         Anchorage Brewing Company      NaN   \n",
       "2             9          NaN            McFate Brewing Company     3.89   \n",
       "3            15         48.0       Core Brewing and Distilling     3.13   \n",
       "4          1130        100.0  Port Brewing Co / The Lost Abbey      NaN   \n",
       "\n",
       "                                            beer_img       state  beer_rank  \\\n",
       "0  http://res.cloudinary.com/ratebeer/image/uploa...     ALABAMA         25   \n",
       "1  http://res.cloudinary.com/ratebeer/image/uploa...      ALASKA         25   \n",
       "2  http://res.cloudinary.com/ratebeer/image/uploa...     ARIZONA         25   \n",
       "3  http://res.cloudinary.com/ratebeer/image/uploa...    ARKANSAS         25   \n",
       "4  http://res.cloudinary.com/ratebeer/image/uploa...  CALIFORNIA         25   \n",
       "\n",
       "   overall_score            beer_style  \\\n",
       "0           85.0  India Pale Ale (IPA)   \n",
       "1           97.0         Sour/Wild Ale   \n",
       "2           99.0        Imperial Stout   \n",
       "3           46.0             Brown Ale   \n",
       "4          100.0   American Strong Ale   \n",
       "\n",
       "                                       beer_name   abv  est_cal      mean  \\\n",
       "0               Fairhope (Take The) Causeway IPA  8.2%    246.0  3.54/5.0   \n",
       "1       Anchorage Anadromous Belgian Black Bier   8.5%    255.0         /   \n",
       "2  McFate Imperial Candy Bar Stout - Barrel Aged  9.5%    285.0  4.29/5.0   \n",
       "3                       Core Toasted Coconut Ale    6%    180.0  3.19/5.0   \n",
       "4                   Port Brewing Older Viscosity   12%    360.0         /   \n",
       "\n",
       "    ibu                                          beer_desc  \n",
       "0  69.0                    Previously 6.5% abv and 75 IBUs  \n",
       "1  30.0  Ale brewed with summit hops. Triple fermented....  \n",
       "2   NaN                                                NaN  \n",
       "3  27.0                                                NaN  \n",
       "4   NaN  100% Bourbon Barrel Aged Strong Ale.  This is ...  "
      ]
     },
     "execution_count": 45,
     "metadata": {},
     "output_type": "execute_result"
    }
   ],
   "source": [
    "beer = pd.read_csv('github/data_cleaning/beers_info.csv')\n",
    "beer.head()"
   ]
  },
  {
   "cell_type": "code",
   "execution_count": 46,
   "metadata": {
    "collapsed": false
   },
   "outputs": [
    {
     "data": {
      "text/plain": [
       "(1275, 15)"
      ]
     },
     "execution_count": 46,
     "metadata": {},
     "output_type": "execute_result"
    }
   ],
   "source": [
    "beer.shape"
   ]
  },
  {
   "cell_type": "code",
   "execution_count": 47,
   "metadata": {
    "collapsed": false
   },
   "outputs": [
    {
     "data": {
      "text/html": [
       "<div>\n",
       "<table border=\"1\" class=\"dataframe\">\n",
       "  <thead>\n",
       "    <tr style=\"text-align: right;\">\n",
       "      <th></th>\n",
       "      <th>review_count</th>\n",
       "      <th>style_score</th>\n",
       "      <th>brewer</th>\n",
       "      <th>wgt_avg</th>\n",
       "      <th>beer_img</th>\n",
       "      <th>state</th>\n",
       "      <th>beer_rank</th>\n",
       "      <th>overall_score</th>\n",
       "      <th>beer_style</th>\n",
       "      <th>beer_name</th>\n",
       "      <th>abv</th>\n",
       "      <th>est_cal</th>\n",
       "      <th>mean</th>\n",
       "      <th>ibu</th>\n",
       "      <th>beer_desc</th>\n",
       "    </tr>\n",
       "  </thead>\n",
       "  <tbody>\n",
       "    <tr>\n",
       "      <th>0</th>\n",
       "      <td>0</td>\n",
       "      <td>45</td>\n",
       "      <td>0</td>\n",
       "      <td>742</td>\n",
       "      <td>0</td>\n",
       "      <td>0</td>\n",
       "      <td>0</td>\n",
       "      <td>8</td>\n",
       "      <td>0</td>\n",
       "      <td>0</td>\n",
       "      <td>646</td>\n",
       "      <td>429</td>\n",
       "      <td>0</td>\n",
       "      <td>678</td>\n",
       "      <td>125</td>\n",
       "    </tr>\n",
       "  </tbody>\n",
       "</table>\n",
       "</div>"
      ],
      "text/plain": [
       "   review_count  style_score  brewer  wgt_avg  beer_img  state  beer_rank  \\\n",
       "0             0           45       0      742         0      0          0   \n",
       "\n",
       "   overall_score  beer_style  beer_name  abv  est_cal  mean  ibu  beer_desc  \n",
       "0              8           0          0  646      429     0  678        125  "
      ]
     },
     "execution_count": 47,
     "metadata": {},
     "output_type": "execute_result"
    }
   ],
   "source": [
    "pd.DataFrame(beer.isnull().sum()).T   # number of missing values in each column"
   ]
  },
  {
   "cell_type": "code",
   "execution_count": 48,
   "metadata": {
    "collapsed": false
   },
   "outputs": [
    {
     "data": {
      "text/plain": [
       "[numpy.int64,\n",
       " numpy.float64,\n",
       " str,\n",
       " numpy.float64,\n",
       " str,\n",
       " str,\n",
       " numpy.int64,\n",
       " numpy.float64,\n",
       " str,\n",
       " str,\n",
       " str,\n",
       " numpy.float64,\n",
       " str,\n",
       " numpy.float64,\n",
       " str]"
      ]
     },
     "execution_count": 48,
     "metadata": {},
     "output_type": "execute_result"
    }
   ],
   "source": [
    "map(lambda x: type(x), list(beer.iloc[0]))"
   ]
  },
  {
   "cell_type": "markdown",
   "metadata": {},
   "source": [
    "## Clean by Column"
   ]
  },
  {
   "cell_type": "markdown",
   "metadata": {},
   "source": [
    "### 1. review_count (clean)"
   ]
  },
  {
   "cell_type": "code",
   "execution_count": 49,
   "metadata": {
    "collapsed": false
   },
   "outputs": [],
   "source": [
    "#beer.review_count.unique()   # review_count col is clean already"
   ]
  },
  {
   "cell_type": "markdown",
   "metadata": {},
   "source": [
    "### 2. style_score"
   ]
  },
  {
   "cell_type": "code",
   "execution_count": 50,
   "metadata": {
    "collapsed": false
   },
   "outputs": [],
   "source": [
    "#list(beer.review_count[beer.style_score.isnull()])   # when missing style_score, review_count is low as well"
   ]
  },
  {
   "cell_type": "code",
   "execution_count": 51,
   "metadata": {
    "collapsed": false
   },
   "outputs": [],
   "source": [
    "#beer[beer.style_score.isnull()]   # run if you are interested"
   ]
  },
  {
   "cell_type": "markdown",
   "metadata": {},
   "source": [
    "### 3. brewer"
   ]
  },
  {
   "cell_type": "code",
   "execution_count": 52,
   "metadata": {
    "collapsed": false
   },
   "outputs": [],
   "source": [
    "#beer.brewer.unique()"
   ]
  },
  {
   "cell_type": "code",
   "execution_count": 53,
   "metadata": {
    "collapsed": false
   },
   "outputs": [],
   "source": [
    "beer.brewer = map(lambda x: re.sub('\\\\xe2\\\\x80\\\\x99', '\\'', x)\\\n",
    "                  .decode('utf-8', 'ignore').encode('ascii', 'ignore'), beer.brewer)"
   ]
  },
  {
   "cell_type": "code",
   "execution_count": 54,
   "metadata": {
    "collapsed": false
   },
   "outputs": [],
   "source": [
    "#beer.brewer.unique()"
   ]
  },
  {
   "cell_type": "markdown",
   "metadata": {},
   "source": [
    "### 4. wgt_avg (clean)"
   ]
  },
  {
   "cell_type": "code",
   "execution_count": 55,
   "metadata": {
    "collapsed": false
   },
   "outputs": [],
   "source": [
    "#beer.wgt_avg.describe()  ### so many missing values, consider delete this column"
   ]
  },
  {
   "cell_type": "markdown",
   "metadata": {},
   "source": [
    "### 5. beer_img (clean)"
   ]
  },
  {
   "cell_type": "markdown",
   "metadata": {},
   "source": [
    "### 6. state (clean)"
   ]
  },
  {
   "cell_type": "markdown",
   "metadata": {},
   "source": [
    "### 7. beer_rank (clean)"
   ]
  },
  {
   "cell_type": "code",
   "execution_count": 56,
   "metadata": {
    "collapsed": false
   },
   "outputs": [],
   "source": [
    "#beer.beer_rank.unique()"
   ]
  },
  {
   "cell_type": "markdown",
   "metadata": {},
   "source": [
    "### 8. overall_score"
   ]
  },
  {
   "cell_type": "code",
   "execution_count": 57,
   "metadata": {
    "collapsed": false
   },
   "outputs": [],
   "source": [
    "#beer[beer.overall_score.isnull()]   # run if you are interested"
   ]
  },
  {
   "cell_type": "markdown",
   "metadata": {},
   "source": [
    "### 9. beer_style"
   ]
  },
  {
   "cell_type": "code",
   "execution_count": 58,
   "metadata": {
    "collapsed": false
   },
   "outputs": [],
   "source": [
    "#beer.beer_style.unique()   # run if you are interested\n",
    "#print type(beer['beer_style'][0])"
   ]
  },
  {
   "cell_type": "code",
   "execution_count": 59,
   "metadata": {
    "collapsed": false
   },
   "outputs": [],
   "source": [
    "beer['beer_style'] = ['Oktoberfest/Marzen' if 'Oktoberfest' in x else 'Kolsch' if 'lsch' in x else x for x in beer.beer_style]"
   ]
  },
  {
   "cell_type": "code",
   "execution_count": 60,
   "metadata": {
    "collapsed": true
   },
   "outputs": [],
   "source": [
    "beer['beer_style'] = map(lambda x: x.decode('utf-8', 'ignore').encode('ascii', 'ignore'), beer['beer_style'])"
   ]
  },
  {
   "cell_type": "code",
   "execution_count": 61,
   "metadata": {
    "collapsed": false
   },
   "outputs": [],
   "source": [
    "#beer['beer_style'].unique()"
   ]
  },
  {
   "cell_type": "markdown",
   "metadata": {},
   "source": [
    "### 10. beer_name"
   ]
  },
  {
   "cell_type": "code",
   "execution_count": 62,
   "metadata": {
    "collapsed": false
   },
   "outputs": [],
   "source": [
    "a = map(lambda x: x.decode('utf-8').encode('ascii', 'ignore').replace('?', ''), beer.beer_name)\n",
    "beer['beer_name'] = a"
   ]
  },
  {
   "cell_type": "markdown",
   "metadata": {},
   "source": [
    "### 11. abv"
   ]
  },
  {
   "cell_type": "code",
   "execution_count": null,
   "metadata": {
    "collapsed": false
   },
   "outputs": [],
   "source": [
    "#beer.abv.describe()"
   ]
  },
  {
   "cell_type": "code",
   "execution_count": null,
   "metadata": {
    "collapsed": false
   },
   "outputs": [],
   "source": [
    "##aside\n",
    "#a = np.nan\n",
    "#print a\n",
    "#print a == np.nan\n",
    "#print a is np.nan"
   ]
  },
  {
   "cell_type": "code",
   "execution_count": 63,
   "metadata": {
    "collapsed": false
   },
   "outputs": [
    {
     "data": {
      "text/plain": [
       "count     629\n",
       "unique    124\n",
       "top        10\n",
       "freq       36\n",
       "Name: abv, dtype: object"
      ]
     },
     "execution_count": 63,
     "metadata": {},
     "output_type": "execute_result"
    }
   ],
   "source": [
    "beer.abv = [str(x).replace(\"%\", '') if x is not np.nan else np.nan for x in beer.abv]\n",
    "beer.abv.describe()"
   ]
  },
  {
   "cell_type": "markdown",
   "metadata": {},
   "source": [
    "### 12. est_cal (clean)"
   ]
  },
  {
   "cell_type": "code",
   "execution_count": null,
   "metadata": {
    "collapsed": false
   },
   "outputs": [],
   "source": [
    "#beer.est_cal.unique()"
   ]
  },
  {
   "cell_type": "markdown",
   "metadata": {},
   "source": [
    "### 13. mean"
   ]
  },
  {
   "cell_type": "code",
   "execution_count": null,
   "metadata": {
    "collapsed": false
   },
   "outputs": [],
   "source": [
    "#beer['mean'].describe()\n",
    "#beer['mean'].unique()"
   ]
  },
  {
   "cell_type": "code",
   "execution_count": 64,
   "metadata": {
    "collapsed": false
   },
   "outputs": [],
   "source": [
    "m1 = map(lambda x: re.sub('\\/5.0', '', x), beer['mean'])\n",
    "beer['mean'] = [np.nan if x == '/' else float(x) for x in m1]"
   ]
  },
  {
   "cell_type": "code",
   "execution_count": 68,
   "metadata": {
    "collapsed": false
   },
   "outputs": [],
   "source": [
    "#beer['mean']"
   ]
  },
  {
   "cell_type": "markdown",
   "metadata": {},
   "source": [
    "### 14. ibu (clean)"
   ]
  },
  {
   "cell_type": "code",
   "execution_count": null,
   "metadata": {
    "collapsed": false
   },
   "outputs": [],
   "source": [
    "#beer['ibu'].describe()\n",
    "#beer['ibu'].unique()\n",
    "#type(beer['ibu'].unique()[0])"
   ]
  },
  {
   "cell_type": "markdown",
   "metadata": {},
   "source": [
    "### 15. beer_desc"
   ]
  },
  {
   "cell_type": "code",
   "execution_count": 69,
   "metadata": {
    "collapsed": false
   },
   "outputs": [
    {
     "data": {
      "text/plain": [
       "350"
      ]
     },
     "execution_count": 69,
     "metadata": {},
     "output_type": "execute_result"
    }
   ],
   "source": [
    "[bool(re.search('\\\\xe2\\\\x80\\\\x99', x)) if x is not np.nan else np.nan for x in beer['beer_desc']].count(True)"
   ]
  },
  {
   "cell_type": "code",
   "execution_count": 70,
   "metadata": {
    "collapsed": false
   },
   "outputs": [],
   "source": [
    "beer['beer_desc'] = [re.sub('\\\\xe2\\\\x80\\\\x99', '\\'', x) if x is not np.nan else np.nan for x in beer['beer_desc']]"
   ]
  },
  {
   "cell_type": "code",
   "execution_count": 71,
   "metadata": {
    "collapsed": false
   },
   "outputs": [
    {
     "data": {
      "text/plain": [
       "0"
      ]
     },
     "execution_count": 71,
     "metadata": {},
     "output_type": "execute_result"
    }
   ],
   "source": [
    "#[bool(re.search('\\\\xe2\\\\x80\\\\x99', x)) if x is not np.nan else np.nan for x in beer['beer_desc']].count(True) ## for test"
   ]
  },
  {
   "cell_type": "code",
   "execution_count": 73,
   "metadata": {
    "collapsed": false
   },
   "outputs": [],
   "source": [
    "beer['beer_desc'] = [x.decode('utf-8','ignore').encode('ascii', 'ignore') if x is not \n",
    "                     np.nan else np.nan for x in beer['beer_desc']]"
   ]
  },
  {
   "cell_type": "markdown",
   "metadata": {},
   "source": [
    "## Arrange, Sort and Output"
   ]
  },
  {
   "cell_type": "code",
   "execution_count": 74,
   "metadata": {
    "collapsed": false
   },
   "outputs": [],
   "source": [
    "beer.columns\n",
    "beer = beer[['state', 'beer_rank', 'beer_name', 'beer_style', 'brewer', 'review_count', 'overall_score',\n",
    "'style_score', 'wgt_avg', 'abv', 'est_cal', 'mean', 'ibu', 'beer_desc', 'beer_img']]"
   ]
  },
  {
   "cell_type": "code",
   "execution_count": 75,
   "metadata": {
    "collapsed": false
   },
   "outputs": [
    {
     "name": "stdout",
     "output_type": "stream",
     "text": [
      "(1275, 15)\n"
     ]
    },
    {
     "data": {
      "text/html": [
       "<div>\n",
       "<table border=\"1\" class=\"dataframe\">\n",
       "  <thead>\n",
       "    <tr style=\"text-align: right;\">\n",
       "      <th></th>\n",
       "      <th>state</th>\n",
       "      <th>beer_rank</th>\n",
       "      <th>beer_name</th>\n",
       "      <th>beer_style</th>\n",
       "      <th>brewer</th>\n",
       "      <th>review_count</th>\n",
       "      <th>overall_score</th>\n",
       "      <th>style_score</th>\n",
       "      <th>wgt_avg</th>\n",
       "      <th>abv</th>\n",
       "      <th>est_cal</th>\n",
       "      <th>mean</th>\n",
       "      <th>ibu</th>\n",
       "      <th>beer_desc</th>\n",
       "      <th>beer_img</th>\n",
       "    </tr>\n",
       "  </thead>\n",
       "  <tbody>\n",
       "    <tr>\n",
       "      <th>424</th>\n",
       "      <td>ALABAMA</td>\n",
       "      <td>1</td>\n",
       "      <td>Good People El Gordo Imperial Stout</td>\n",
       "      <td>Imperial Stout</td>\n",
       "      <td>Good People Brewing Company</td>\n",
       "      <td>15</td>\n",
       "      <td>99.0</td>\n",
       "      <td>90.0</td>\n",
       "      <td>3.89</td>\n",
       "      <td>13.9</td>\n",
       "      <td>417.0</td>\n",
       "      <td>4.13</td>\n",
       "      <td>65.0</td>\n",
       "      <td>NaN</td>\n",
       "      <td>http://res.cloudinary.com/ratebeer/image/uploa...</td>\n",
       "    </tr>\n",
       "    <tr>\n",
       "      <th>423</th>\n",
       "      <td>ALABAMA</td>\n",
       "      <td>2</td>\n",
       "      <td>Straight To Ale Laika Russian Imperial Stout -...</td>\n",
       "      <td>Imperial Stout</td>\n",
       "      <td>Straight To Ale</td>\n",
       "      <td>53</td>\n",
       "      <td>98.0</td>\n",
       "      <td>72.0</td>\n",
       "      <td>NaN</td>\n",
       "      <td>11.7</td>\n",
       "      <td>351.0</td>\n",
       "      <td>NaN</td>\n",
       "      <td>NaN</td>\n",
       "      <td>NaN</td>\n",
       "      <td>http://res.cloudinary.com/ratebeer/image/uploa...</td>\n",
       "    </tr>\n",
       "    <tr>\n",
       "      <th>422</th>\n",
       "      <td>ALABAMA</td>\n",
       "      <td>3</td>\n",
       "      <td>Straight To Ale Laika Russian Imperial Stout</td>\n",
       "      <td>Imperial Stout</td>\n",
       "      <td>Straight To Ale</td>\n",
       "      <td>55</td>\n",
       "      <td>97.0</td>\n",
       "      <td>71.0</td>\n",
       "      <td>NaN</td>\n",
       "      <td>NaN</td>\n",
       "      <td>74.0</td>\n",
       "      <td>NaN</td>\n",
       "      <td>NaN</td>\n",
       "      <td>Second offering from the \"Right to Brew\" serie...</td>\n",
       "      <td>http://res.cloudinary.com/ratebeer/image/uploa...</td>\n",
       "    </tr>\n",
       "    <tr>\n",
       "      <th>421</th>\n",
       "      <td>ALABAMA</td>\n",
       "      <td>4</td>\n",
       "      <td>Avondale Barrel Aged Brett Saison</td>\n",
       "      <td>Saison</td>\n",
       "      <td>Avondale Brewing Company</td>\n",
       "      <td>10</td>\n",
       "      <td>97.0</td>\n",
       "      <td>95.0</td>\n",
       "      <td>3.69</td>\n",
       "      <td>7.5</td>\n",
       "      <td>225.0</td>\n",
       "      <td>4.01</td>\n",
       "      <td>NaN</td>\n",
       "      <td>This brew is our regular Saison aged in french...</td>\n",
       "      <td>http://res.cloudinary.com/ratebeer/image/uploa...</td>\n",
       "    </tr>\n",
       "    <tr>\n",
       "      <th>420</th>\n",
       "      <td>ALABAMA</td>\n",
       "      <td>5</td>\n",
       "      <td>Straight To Ale Laika Russian Imperial Stout -...</td>\n",
       "      <td>Imperial Stout</td>\n",
       "      <td>Straight To Ale</td>\n",
       "      <td>48</td>\n",
       "      <td>96.0</td>\n",
       "      <td>58.0</td>\n",
       "      <td>NaN</td>\n",
       "      <td>11.8</td>\n",
       "      <td>354.0</td>\n",
       "      <td>NaN</td>\n",
       "      <td>NaN</td>\n",
       "      <td>Straight To Ale Barrel Aged Laika Russian Impe...</td>\n",
       "      <td>http://res.cloudinary.com/ratebeer/image/uploa...</td>\n",
       "    </tr>\n",
       "  </tbody>\n",
       "</table>\n",
       "</div>"
      ],
      "text/plain": [
       "       state  beer_rank                                          beer_name  \\\n",
       "424  ALABAMA          1                Good People El Gordo Imperial Stout   \n",
       "423  ALABAMA          2  Straight To Ale Laika Russian Imperial Stout -...   \n",
       "422  ALABAMA          3       Straight To Ale Laika Russian Imperial Stout   \n",
       "421  ALABAMA          4                  Avondale Barrel Aged Brett Saison   \n",
       "420  ALABAMA          5  Straight To Ale Laika Russian Imperial Stout -...   \n",
       "\n",
       "         beer_style                       brewer  review_count  overall_score  \\\n",
       "424  Imperial Stout  Good People Brewing Company            15           99.0   \n",
       "423  Imperial Stout              Straight To Ale            53           98.0   \n",
       "422  Imperial Stout              Straight To Ale            55           97.0   \n",
       "421          Saison     Avondale Brewing Company            10           97.0   \n",
       "420  Imperial Stout              Straight To Ale            48           96.0   \n",
       "\n",
       "     style_score  wgt_avg   abv  est_cal  mean   ibu  \\\n",
       "424         90.0     3.89  13.9    417.0  4.13  65.0   \n",
       "423         72.0      NaN  11.7    351.0   NaN   NaN   \n",
       "422         71.0      NaN   NaN     74.0   NaN   NaN   \n",
       "421         95.0     3.69   7.5    225.0  4.01   NaN   \n",
       "420         58.0      NaN  11.8    354.0   NaN   NaN   \n",
       "\n",
       "                                             beer_desc  \\\n",
       "424                                                NaN   \n",
       "423                                                NaN   \n",
       "422  Second offering from the \"Right to Brew\" serie...   \n",
       "421  This brew is our regular Saison aged in french...   \n",
       "420  Straight To Ale Barrel Aged Laika Russian Impe...   \n",
       "\n",
       "                                              beer_img  \n",
       "424  http://res.cloudinary.com/ratebeer/image/uploa...  \n",
       "423  http://res.cloudinary.com/ratebeer/image/uploa...  \n",
       "422  http://res.cloudinary.com/ratebeer/image/uploa...  \n",
       "421  http://res.cloudinary.com/ratebeer/image/uploa...  \n",
       "420  http://res.cloudinary.com/ratebeer/image/uploa...  "
      ]
     },
     "execution_count": 75,
     "metadata": {},
     "output_type": "execute_result"
    }
   ],
   "source": [
    "beer.sort_values(['state', 'beer_rank'], ascending = [1, 1], inplace = True)\n",
    "print beer.shape\n",
    "beer.head()"
   ]
  },
  {
   "cell_type": "code",
   "execution_count": 76,
   "metadata": {
    "collapsed": false
   },
   "outputs": [],
   "source": [
    "beer.to_csv('beer_info_proc.csv', index = False)"
   ]
  },
  {
   "cell_type": "code",
   "execution_count": null,
   "metadata": {
    "collapsed": true
   },
   "outputs": [],
   "source": []
  }
 ],
 "metadata": {
  "anaconda-cloud": {},
  "kernelspec": {
   "display_name": "Python [default]",
   "language": "python",
   "name": "python2"
  },
  "language_info": {
   "codemirror_mode": {
    "name": "ipython",
    "version": 2
   },
   "file_extension": ".py",
   "mimetype": "text/x-python",
   "name": "python",
   "nbconvert_exporter": "python",
   "pygments_lexer": "ipython2",
   "version": "2.7.12"
  }
 },
 "nbformat": 4,
 "nbformat_minor": 1
}
