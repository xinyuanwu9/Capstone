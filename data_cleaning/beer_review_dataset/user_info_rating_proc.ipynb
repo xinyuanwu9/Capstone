{
 "cells": [
  {
   "cell_type": "code",
   "execution_count": 295,
   "metadata": {
    "collapsed": true
   },
   "outputs": [],
   "source": [
    "import pandas as pd\n",
    "import numpy as np\n",
    "import re"
   ]
  },
  {
   "cell_type": "code",
   "execution_count": 296,
   "metadata": {
    "collapsed": true
   },
   "outputs": [],
   "source": [
    "df1 = pd.read_csv('github/Scraped_Review_Data/beerreview1_13.csv')\n",
    "df2 = pd.read_csv('github/Scraped_Review_Data/beerreview14_26.csv')\n",
    "df3 = pd.read_csv('github/Scraped_Review_Data/beerreview27_39.csv')\n",
    "df4 = pd.read_csv('github/Scraped_Review_Data/beerreview40_51.csv')"
   ]
  },
  {
   "cell_type": "code",
   "execution_count": 297,
   "metadata": {
    "collapsed": false
   },
   "outputs": [],
   "source": [
    "df = pd.concat([df1, df2, df3, df4], axis = 0, ignore_index = True)"
   ]
  },
  {
   "cell_type": "code",
   "execution_count": 298,
   "metadata": {
    "collapsed": false
   },
   "outputs": [
    {
     "data": {
      "text/html": [
       "<div>\n",
       "<table border=\"1\" class=\"dataframe\">\n",
       "  <thead>\n",
       "    <tr style=\"text-align: right;\">\n",
       "      <th></th>\n",
       "      <th>palate</th>\n",
       "      <th>taste</th>\n",
       "      <th>appearance</th>\n",
       "      <th>review</th>\n",
       "      <th>overall</th>\n",
       "      <th>aroma</th>\n",
       "      <th>user_rating</th>\n",
       "      <th>user_info</th>\n",
       "      <th>state</th>\n",
       "      <th>beer_name</th>\n",
       "      <th>user_name</th>\n",
       "    </tr>\n",
       "  </thead>\n",
       "  <tbody>\n",
       "    <tr>\n",
       "      <th>0</th>\n",
       "      <td>4</td>\n",
       "      <td>7</td>\n",
       "      <td>3</td>\n",
       "      <td>3.7| Bottle (12 oz). Shared by JulienHuxley, t...</td>\n",
       "      <td>15</td>\n",
       "      <td>8</td>\n",
       "      <td>3.7</td>\n",
       "      <td>- Quebec, CANADA - JUL 31, 2015</td>\n",
       "      <td>Alabama</td>\n",
       "      <td>Avondale Barrel Aged Brett Saison</td>\n",
       "      <td>tom10101</td>\n",
       "    </tr>\n",
       "    <tr>\n",
       "      <th>1</th>\n",
       "      <td>4</td>\n",
       "      <td>8</td>\n",
       "      <td>3</td>\n",
       "      <td>Bottle shared with Tom. Hazy gold-amber pour w...</td>\n",
       "      <td>15</td>\n",
       "      <td>8</td>\n",
       "      <td>3.8</td>\n",
       "      <td>- Trois-Rivi̬res, Quebec, CANADA - JUL 24, 2015</td>\n",
       "      <td>Alabama</td>\n",
       "      <td>Avondale Barrel Aged Brett Saison</td>\n",
       "      <td>JulienHuxley</td>\n",
       "    </tr>\n",
       "    <tr>\n",
       "      <th>2</th>\n",
       "      <td>4</td>\n",
       "      <td>6</td>\n",
       "      <td>3</td>\n",
       "      <td>Bottle thanks to Seth. Pours a cloudy yellow o...</td>\n",
       "      <td>16</td>\n",
       "      <td>7</td>\n",
       "      <td>3.6</td>\n",
       "      <td>- Houston, Texas, USA - FEB 26, 2015</td>\n",
       "      <td>Alabama</td>\n",
       "      <td>Avondale Barrel Aged Brett Saison</td>\n",
       "      <td>djd07</td>\n",
       "    </tr>\n",
       "    <tr>\n",
       "      <th>3</th>\n",
       "      <td>4</td>\n",
       "      <td>8</td>\n",
       "      <td>5</td>\n",
       "      <td>Excellent taste, good flaver, good body, stron...</td>\n",
       "      <td>17</td>\n",
       "      <td>9</td>\n",
       "      <td>4.3</td>\n",
       "      <td>-  - DEC 28, 2014</td>\n",
       "      <td>Alabama</td>\n",
       "      <td>Avondale Barrel Aged Brett Saison</td>\n",
       "      <td>Justosj76</td>\n",
       "    </tr>\n",
       "    <tr>\n",
       "      <th>4</th>\n",
       "      <td>4</td>\n",
       "      <td>9</td>\n",
       "      <td>3</td>\n",
       "      <td>Plurged and went for their barrel aged series ...</td>\n",
       "      <td>17</td>\n",
       "      <td>8</td>\n",
       "      <td>4.1</td>\n",
       "      <td>- Atlanta, Georgia, USA - AUG 13, 2014</td>\n",
       "      <td>Alabama</td>\n",
       "      <td>Avondale Barrel Aged Brett Saison</td>\n",
       "      <td>Westmeister</td>\n",
       "    </tr>\n",
       "  </tbody>\n",
       "</table>\n",
       "</div>"
      ],
      "text/plain": [
       "   palate  taste  appearance  \\\n",
       "0       4      7           3   \n",
       "1       4      8           3   \n",
       "2       4      6           3   \n",
       "3       4      8           5   \n",
       "4       4      9           3   \n",
       "\n",
       "                                              review  overall  aroma  \\\n",
       "0  3.7| Bottle (12 oz). Shared by JulienHuxley, t...       15      8   \n",
       "1  Bottle shared with Tom. Hazy gold-amber pour w...       15      8   \n",
       "2  Bottle thanks to Seth. Pours a cloudy yellow o...       16      7   \n",
       "3  Excellent taste, good flaver, good body, stron...       17      9   \n",
       "4  Plurged and went for their barrel aged series ...       17      8   \n",
       "\n",
       "   user_rating                                         user_info    state  \\\n",
       "0          3.7                   - Quebec, CANADA - JUL 31, 2015  Alabama   \n",
       "1          3.8   - Trois-Rivi̬res, Quebec, CANADA - JUL 24, 2015  Alabama   \n",
       "2          3.6              - Houston, Texas, USA - FEB 26, 2015  Alabama   \n",
       "3          4.3                                 -  - DEC 28, 2014  Alabama   \n",
       "4          4.1            - Atlanta, Georgia, USA - AUG 13, 2014  Alabama   \n",
       "\n",
       "                           beer_name     user_name  \n",
       "0  Avondale Barrel Aged Brett Saison      tom10101  \n",
       "1  Avondale Barrel Aged Brett Saison  JulienHuxley  \n",
       "2  Avondale Barrel Aged Brett Saison         djd07  \n",
       "3  Avondale Barrel Aged Brett Saison     Justosj76  \n",
       "4  Avondale Barrel Aged Brett Saison   Westmeister  "
      ]
     },
     "execution_count": 298,
     "metadata": {},
     "output_type": "execute_result"
    }
   ],
   "source": [
    "df.head()"
   ]
  },
  {
   "cell_type": "code",
   "execution_count": 299,
   "metadata": {
    "collapsed": true
   },
   "outputs": [],
   "source": [
    "df = df[['user_name', 'user_info', 'state', 'beer_name', 'overall', 'user_rating', 'aroma',\n",
    "        'appearance', 'palate', 'taste']]   # sort the col and get rid of review col"
   ]
  },
  {
   "cell_type": "code",
   "execution_count": 300,
   "metadata": {
    "collapsed": false
   },
   "outputs": [
    {
     "data": {
      "text/html": [
       "<div>\n",
       "<table border=\"1\" class=\"dataframe\">\n",
       "  <thead>\n",
       "    <tr style=\"text-align: right;\">\n",
       "      <th></th>\n",
       "      <th>user_name</th>\n",
       "      <th>user_info</th>\n",
       "      <th>state</th>\n",
       "      <th>beer_name</th>\n",
       "      <th>overall</th>\n",
       "      <th>user_rating</th>\n",
       "      <th>aroma</th>\n",
       "      <th>appearance</th>\n",
       "      <th>palate</th>\n",
       "      <th>taste</th>\n",
       "    </tr>\n",
       "  </thead>\n",
       "  <tbody>\n",
       "    <tr>\n",
       "      <th>0</th>\n",
       "      <td>tom10101</td>\n",
       "      <td>- Quebec, CANADA - JUL 31, 2015</td>\n",
       "      <td>Alabama</td>\n",
       "      <td>Avondale Barrel Aged Brett Saison</td>\n",
       "      <td>15</td>\n",
       "      <td>3.7</td>\n",
       "      <td>8</td>\n",
       "      <td>3</td>\n",
       "      <td>4</td>\n",
       "      <td>7</td>\n",
       "    </tr>\n",
       "    <tr>\n",
       "      <th>1</th>\n",
       "      <td>JulienHuxley</td>\n",
       "      <td>- Trois-Rivi̬res, Quebec, CANADA - JUL 24, 2015</td>\n",
       "      <td>Alabama</td>\n",
       "      <td>Avondale Barrel Aged Brett Saison</td>\n",
       "      <td>15</td>\n",
       "      <td>3.8</td>\n",
       "      <td>8</td>\n",
       "      <td>3</td>\n",
       "      <td>4</td>\n",
       "      <td>8</td>\n",
       "    </tr>\n",
       "    <tr>\n",
       "      <th>2</th>\n",
       "      <td>djd07</td>\n",
       "      <td>- Houston, Texas, USA - FEB 26, 2015</td>\n",
       "      <td>Alabama</td>\n",
       "      <td>Avondale Barrel Aged Brett Saison</td>\n",
       "      <td>16</td>\n",
       "      <td>3.6</td>\n",
       "      <td>7</td>\n",
       "      <td>3</td>\n",
       "      <td>4</td>\n",
       "      <td>6</td>\n",
       "    </tr>\n",
       "    <tr>\n",
       "      <th>3</th>\n",
       "      <td>Justosj76</td>\n",
       "      <td>-  - DEC 28, 2014</td>\n",
       "      <td>Alabama</td>\n",
       "      <td>Avondale Barrel Aged Brett Saison</td>\n",
       "      <td>17</td>\n",
       "      <td>4.3</td>\n",
       "      <td>9</td>\n",
       "      <td>5</td>\n",
       "      <td>4</td>\n",
       "      <td>8</td>\n",
       "    </tr>\n",
       "    <tr>\n",
       "      <th>4</th>\n",
       "      <td>Westmeister</td>\n",
       "      <td>- Atlanta, Georgia, USA - AUG 13, 2014</td>\n",
       "      <td>Alabama</td>\n",
       "      <td>Avondale Barrel Aged Brett Saison</td>\n",
       "      <td>17</td>\n",
       "      <td>4.1</td>\n",
       "      <td>8</td>\n",
       "      <td>3</td>\n",
       "      <td>4</td>\n",
       "      <td>9</td>\n",
       "    </tr>\n",
       "  </tbody>\n",
       "</table>\n",
       "</div>"
      ],
      "text/plain": [
       "      user_name                                         user_info    state  \\\n",
       "0      tom10101                   - Quebec, CANADA - JUL 31, 2015  Alabama   \n",
       "1  JulienHuxley   - Trois-Rivi̬res, Quebec, CANADA - JUL 24, 2015  Alabama   \n",
       "2         djd07              - Houston, Texas, USA - FEB 26, 2015  Alabama   \n",
       "3     Justosj76                                 -  - DEC 28, 2014  Alabama   \n",
       "4   Westmeister            - Atlanta, Georgia, USA - AUG 13, 2014  Alabama   \n",
       "\n",
       "                           beer_name  overall  user_rating  aroma  appearance  \\\n",
       "0  Avondale Barrel Aged Brett Saison       15          3.7      8           3   \n",
       "1  Avondale Barrel Aged Brett Saison       15          3.8      8           3   \n",
       "2  Avondale Barrel Aged Brett Saison       16          3.6      7           3   \n",
       "3  Avondale Barrel Aged Brett Saison       17          4.3      9           5   \n",
       "4  Avondale Barrel Aged Brett Saison       17          4.1      8           3   \n",
       "\n",
       "   palate  taste  \n",
       "0       4      7  \n",
       "1       4      8  \n",
       "2       4      6  \n",
       "3       4      8  \n",
       "4       4      9  "
      ]
     },
     "execution_count": 300,
     "metadata": {},
     "output_type": "execute_result"
    }
   ],
   "source": [
    "df.head()"
   ]
  },
  {
   "cell_type": "code",
   "execution_count": 301,
   "metadata": {
    "collapsed": false
   },
   "outputs": [
    {
     "data": {
      "text/plain": [
       "[50128]"
      ]
     },
     "execution_count": 301,
     "metadata": {},
     "output_type": "execute_result"
    }
   ],
   "source": [
    "df[df['user_name'].isnull()].index.tolist()   # locate the user with missing name"
   ]
  },
  {
   "cell_type": "code",
   "execution_count": 302,
   "metadata": {
    "collapsed": false
   },
   "outputs": [
    {
     "data": {
      "text/plain": [
       "user_name                                                    NaN\n",
       "user_info               - Kennesaw, Georgia, USA - SEP 25, 2008 \n",
       "state                                                   Delaware\n",
       "beer_name      Dogfish Head World Wide Stout 2001/2003-Presen...\n",
       "overall                                                       17\n",
       "user_rating                                                  4.3\n",
       "aroma                                                          8\n",
       "appearance                                                     5\n",
       "palate                                                         4\n",
       "taste                                                          9\n",
       "Name: 50128, dtype: object"
      ]
     },
     "execution_count": 302,
     "metadata": {},
     "output_type": "execute_result"
    }
   ],
   "source": [
    "df.loc[50128, :]  # verify this location"
   ]
  },
  {
   "cell_type": "code",
   "execution_count": 303,
   "metadata": {
    "collapsed": false
   },
   "outputs": [],
   "source": [
    "df.drop(50128, inplace=True)   # remove this obs"
   ]
  },
  {
   "cell_type": "code",
   "execution_count": 304,
   "metadata": {
    "collapsed": false
   },
   "outputs": [
    {
     "data": {
      "text/plain": [
       "[]"
      ]
     },
     "execution_count": 304,
     "metadata": {},
     "output_type": "execute_result"
    }
   ],
   "source": [
    "df[df['user_name'].isnull()].index.tolist()  # verify"
   ]
  },
  {
   "cell_type": "code",
   "execution_count": 305,
   "metadata": {
    "collapsed": false
   },
   "outputs": [
    {
     "data": {
      "text/html": [
       "<div>\n",
       "<table border=\"1\" class=\"dataframe\">\n",
       "  <thead>\n",
       "    <tr style=\"text-align: right;\">\n",
       "      <th></th>\n",
       "      <th>user_name</th>\n",
       "      <th>user_info</th>\n",
       "      <th>state</th>\n",
       "      <th>beer_name</th>\n",
       "      <th>overall</th>\n",
       "      <th>user_rating</th>\n",
       "      <th>aroma</th>\n",
       "      <th>appearance</th>\n",
       "      <th>palate</th>\n",
       "      <th>taste</th>\n",
       "    </tr>\n",
       "  </thead>\n",
       "  <tbody>\n",
       "    <tr>\n",
       "      <th>0</th>\n",
       "      <td>0</td>\n",
       "      <td>0</td>\n",
       "      <td>0</td>\n",
       "      <td>0</td>\n",
       "      <td>0</td>\n",
       "      <td>0</td>\n",
       "      <td>0</td>\n",
       "      <td>0</td>\n",
       "      <td>0</td>\n",
       "      <td>0</td>\n",
       "    </tr>\n",
       "  </tbody>\n",
       "</table>\n",
       "</div>"
      ],
      "text/plain": [
       "   user_name  user_info  state  beer_name  overall  user_rating  aroma  \\\n",
       "0          0          0      0          0        0            0      0   \n",
       "\n",
       "   appearance  palate  taste  \n",
       "0           0       0      0  "
      ]
     },
     "execution_count": 305,
     "metadata": {},
     "output_type": "execute_result"
    }
   ],
   "source": [
    "pd.DataFrame(df.isnull().sum()).T  # no missing value anymore"
   ]
  },
  {
   "cell_type": "code",
   "execution_count": 306,
   "metadata": {
    "collapsed": false
   },
   "outputs": [
    {
     "data": {
      "text/html": [
       "<div>\n",
       "<table border=\"1\" class=\"dataframe\">\n",
       "  <thead>\n",
       "    <tr style=\"text-align: right;\">\n",
       "      <th></th>\n",
       "      <th>user_name</th>\n",
       "      <th>user_info</th>\n",
       "      <th>state</th>\n",
       "      <th>beer_name</th>\n",
       "      <th>overall</th>\n",
       "      <th>user_rating</th>\n",
       "      <th>aroma</th>\n",
       "      <th>appearance</th>\n",
       "      <th>palate</th>\n",
       "      <th>taste</th>\n",
       "    </tr>\n",
       "  </thead>\n",
       "  <tbody>\n",
       "    <tr>\n",
       "      <th>0</th>\n",
       "      <td>&lt;type 'str'&gt;</td>\n",
       "      <td>&lt;type 'str'&gt;</td>\n",
       "      <td>&lt;type 'str'&gt;</td>\n",
       "      <td>&lt;type 'str'&gt;</td>\n",
       "      <td>&lt;type 'numpy.int64'&gt;</td>\n",
       "      <td>&lt;type 'numpy.float64'&gt;</td>\n",
       "      <td>&lt;type 'numpy.int64'&gt;</td>\n",
       "      <td>&lt;type 'numpy.int64'&gt;</td>\n",
       "      <td>&lt;type 'numpy.int64'&gt;</td>\n",
       "      <td>&lt;type 'numpy.int64'&gt;</td>\n",
       "    </tr>\n",
       "  </tbody>\n",
       "</table>\n",
       "</div>"
      ],
      "text/plain": [
       "      user_name     user_info         state     beer_name  \\\n",
       "0  <type 'str'>  <type 'str'>  <type 'str'>  <type 'str'>   \n",
       "\n",
       "                overall             user_rating                 aroma  \\\n",
       "0  <type 'numpy.int64'>  <type 'numpy.float64'>  <type 'numpy.int64'>   \n",
       "\n",
       "             appearance                palate                 taste  \n",
       "0  <type 'numpy.int64'>  <type 'numpy.int64'>  <type 'numpy.int64'>  "
      ]
     },
     "execution_count": 306,
     "metadata": {},
     "output_type": "execute_result"
    }
   ],
   "source": [
    "pd.DataFrame(map(lambda x: type(x), list(df.iloc[0])), index=df.columns).T   # data type for each column"
   ]
  },
  {
   "cell_type": "code",
   "execution_count": 307,
   "metadata": {
    "collapsed": false
   },
   "outputs": [
    {
     "data": {
      "text/plain": [
       "(276693, 10)"
      ]
     },
     "execution_count": 307,
     "metadata": {},
     "output_type": "execute_result"
    }
   ],
   "source": [
    "df.shape"
   ]
  },
  {
   "cell_type": "markdown",
   "metadata": {},
   "source": [
    "## Clean by Column"
   ]
  },
  {
   "cell_type": "markdown",
   "metadata": {},
   "source": [
    "### 1. user_name"
   ]
  },
  {
   "cell_type": "code",
   "execution_count": 308,
   "metadata": {
    "collapsed": false
   },
   "outputs": [
    {
     "name": "stdout",
     "output_type": "stream",
     "text": [
      "276693\n",
      "276693\n"
     ]
    }
   ],
   "source": [
    "un = df['user_name']\n",
    "print len(un)\n",
    "clean_name = lambda x: ''.join(e for e in re.sub('\\([^)]*\\)', '', x) if e.isalnum())\n",
    "un2 = map(lambda x: clean_name(x), un)  # clean user_name col\n",
    "print len(un2)"
   ]
  },
  {
   "cell_type": "code",
   "execution_count": 309,
   "metadata": {
    "collapsed": false
   },
   "outputs": [
    {
     "data": {
      "text/plain": [
       "0"
      ]
     },
     "execution_count": 309,
     "metadata": {},
     "output_type": "execute_result"
    }
   ],
   "source": [
    "un2.count('')"
   ]
  },
  {
   "cell_type": "code",
   "execution_count": 310,
   "metadata": {
    "collapsed": true
   },
   "outputs": [],
   "source": [
    "df['user_name'] = un2"
   ]
  },
  {
   "cell_type": "markdown",
   "metadata": {},
   "source": [
    "### 2. user_info"
   ]
  },
  {
   "cell_type": "markdown",
   "metadata": {},
   "source": [
    "For this column, only date is extracted for now."
   ]
  },
  {
   "cell_type": "code",
   "execution_count": 313,
   "metadata": {
    "collapsed": true
   },
   "outputs": [],
   "source": [
    "ui = df['user_info']"
   ]
  },
  {
   "cell_type": "code",
   "execution_count": 314,
   "metadata": {
    "collapsed": false
   },
   "outputs": [
    {
     "data": {
      "text/plain": [
       "0                     - Quebec, CANADA - JUL 31, 2015\n",
       "1     - Trois-Rivi̬res, Quebec, CANADA - JUL 24, 2015\n",
       "2                - Houston, Texas, USA - FEB 26, 2015\n",
       "3                                   -  - DEC 28, 2014\n",
       "4              - Atlanta, Georgia, USA - AUG 13, 2014\n",
       "Name: user_info, dtype: object"
      ]
     },
     "execution_count": 314,
     "metadata": {},
     "output_type": "execute_result"
    }
   ],
   "source": [
    "ui[:5]"
   ]
  },
  {
   "cell_type": "code",
   "execution_count": 315,
   "metadata": {
    "collapsed": false
   },
   "outputs": [],
   "source": [
    "find_date = lambda x: re.search('[A-Z]{3} \\d{1,2}, \\d{4}$', x)\n",
    "user_date = map(lambda x: find_date(x).group() if find_date(x) else np.nan, ui)   # extract date str from the user_info"
   ]
  },
  {
   "cell_type": "code",
   "execution_count": 316,
   "metadata": {
    "collapsed": false
   },
   "outputs": [
    {
     "data": {
      "text/plain": [
       "6759"
      ]
     },
     "execution_count": 316,
     "metadata": {},
     "output_type": "execute_result"
    }
   ],
   "source": [
    "user_date.count(np.nan)   # count missing values after extracting date"
   ]
  },
  {
   "cell_type": "code",
   "execution_count": 317,
   "metadata": {
    "collapsed": false
   },
   "outputs": [
    {
     "data": {
      "text/plain": [
       "array([12, 11], dtype=int64)"
      ]
     },
     "execution_count": 317,
     "metadata": {},
     "output_type": "execute_result"
    }
   ],
   "source": [
    "# verify the length of the str in user_date list. Possible values are 11 and 12.\n",
    "pd.Series(map(lambda x: len(x), [item for item in user_date if item is not np.nan])).unique()"
   ]
  },
  {
   "cell_type": "code",
   "execution_count": 318,
   "metadata": {
    "collapsed": false
   },
   "outputs": [],
   "source": [
    "user_date = pd.to_datetime(user_date, errors='ignore', format='%b %d, %Y')"
   ]
  },
  {
   "cell_type": "code",
   "execution_count": 319,
   "metadata": {
    "collapsed": true
   },
   "outputs": [],
   "source": [
    "df['user_date'] = user_date"
   ]
  },
  {
   "cell_type": "code",
   "execution_count": null,
   "metadata": {
    "collapsed": false
   },
   "outputs": [],
   "source": [
    "df = df[['user_name', 'user_date', 'state', 'beer_name', 'overall', 'taste', 'aroma',\n",
    "        'appearance', 'palate', 'user_rating']]   # sort the col and get rid of user_info col"
   ]
  },
  {
   "cell_type": "markdown",
   "metadata": {},
   "source": [
    "### 3. state"
   ]
  },
  {
   "cell_type": "code",
   "execution_count": null,
   "metadata": {
    "collapsed": true
   },
   "outputs": [],
   "source": [
    "st = df['state']"
   ]
  },
  {
   "cell_type": "code",
   "execution_count": null,
   "metadata": {
    "collapsed": false,
    "scrolled": true
   },
   "outputs": [],
   "source": [
    "len(st.unique())   # state variable is very clean"
   ]
  },
  {
   "cell_type": "markdown",
   "metadata": {},
   "source": [
    "### 4. beer_name"
   ]
  },
  {
   "cell_type": "code",
   "execution_count": null,
   "metadata": {
    "collapsed": true
   },
   "outputs": [],
   "source": [
    "bn = df['beer_name']"
   ]
  },
  {
   "cell_type": "code",
   "execution_count": null,
   "metadata": {
    "collapsed": false
   },
   "outputs": [],
   "source": [
    "df['beer_name'] = map(lambda x: x.decode('utf-8', 'ignore').encode('utf-8', 'ignore'), bn)"
   ]
  },
  {
   "cell_type": "markdown",
   "metadata": {},
   "source": [
    "### 5. overall, taste, aroma, appearance, palate and user_rating (clean)"
   ]
  },
  {
   "cell_type": "code",
   "execution_count": null,
   "metadata": {
    "collapsed": false
   },
   "outputs": [],
   "source": [
    "df.head()"
   ]
  },
  {
   "cell_type": "code",
   "execution_count": null,
   "metadata": {
    "collapsed": false
   },
   "outputs": [],
   "source": [
    "pd.DataFrame(df.isnull().sum()).T  # no missing value anymore"
   ]
  },
  {
   "cell_type": "code",
   "execution_count": null,
   "metadata": {
    "collapsed": true
   },
   "outputs": [],
   "source": [
    "df.to_csv('user_info_rating_proc.csv', index=False)   # export df"
   ]
  },
  {
   "cell_type": "code",
   "execution_count": null,
   "metadata": {
    "collapsed": true
   },
   "outputs": [],
   "source": []
  }
 ],
 "metadata": {
  "anaconda-cloud": {},
  "kernelspec": {
   "display_name": "Python [default]",
   "language": "python",
   "name": "python2"
  },
  "language_info": {
   "codemirror_mode": {
    "name": "ipython",
    "version": 2
   },
   "file_extension": ".py",
   "mimetype": "text/x-python",
   "name": "python",
   "nbconvert_exporter": "python",
   "pygments_lexer": "ipython2",
   "version": "2.7.12"
  }
 },
 "nbformat": 4,
 "nbformat_minor": 1
}
