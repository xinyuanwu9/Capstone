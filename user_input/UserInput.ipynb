{
 "cells": [
  {
   "cell_type": "code",
   "execution_count": 24,
   "metadata": {
    "collapsed": true
   },
   "outputs": [],
   "source": [
    "# UserInput.py\n",
    "# Given new user input, recommends a new beer\n",
    "# N is number of reviews\n",
    "# if N < 10, recommend based on content\n",
    "# if N >= 10, recommend based on collaborative filtering"
   ]
  },
  {
   "cell_type": "code",
   "execution_count": 41,
   "metadata": {
    "collapsed": true
   },
   "outputs": [],
   "source": [
    "import numpy as np\n",
    "import pandas as pd\n",
    "import cPickle as pickle"
   ]
  },
  {
   "cell_type": "code",
   "execution_count": 42,
   "metadata": {
    "collapsed": false
   },
   "outputs": [],
   "source": [
    "# load matrix here\n",
    "# with open( , 'rb') as f:\n",
    "#    user_items = pickle.load(f)\n",
    "\n",
    "# insert user info here\n",
    "# new_user = np.repeat(np.nan, user_items.shape[1])\n",
    "# insert ratings from user input to fill in rated beers\n",
    "\n",
    "# load beer dictionary here\n",
    "# with open( , 'rb') as f:\n",
    "#    beer_names = pickle.load(f)"
   ]
  },
  {
   "cell_type": "markdown",
   "metadata": {},
   "source": [
    "## Content Based"
   ]
  },
  {
   "cell_type": "code",
   "execution_count": null,
   "metadata": {
    "collapsed": true
   },
   "outputs": [],
   "source": [
    "# INSERT HERE"
   ]
  },
  {
   "cell_type": "markdown",
   "metadata": {},
   "source": [
    " ## CF"
   ]
  },
  {
   "cell_type": "code",
   "execution_count": 125,
   "metadata": {
    "collapsed": false
   },
   "outputs": [
    {
     "name": "stdout",
     "output_type": "stream",
     "text": [
      "[[5 5 3 1 1 3 4 5 2 2 5 5 5 4 2]\n",
      " [2 1 1 1 2 1 5 3 4 3 4 1 4 3 2]\n",
      " [1 4 3 1 1 3 4 4 4 2 4 5 5 1 5]\n",
      " [3 3 3 4 4 3 5 4 4 4 5 4 5 2 2]\n",
      " [3 3 5 5 5 4 5 3 3 3 2 5 3 4 5]\n",
      " [2 3 5 2 5 3 4 4 4 2 3 1 2 1 2]\n",
      " [1 3 1 3 1 3 5 2 4 3 5 5 1 4 1]\n",
      " [1 5 3 2 2 4 2 5 1 3 1 1 2 5 4]\n",
      " [5 1 4 2 2 1 4 2 1 3 3 1 3 1 2]\n",
      " [1 1 2 1 4 4 5 5 4 5 1 3 2 3 4]\n",
      " [4 4 4 2 5 2 4 3 1 4 2 2 3 5 4]\n",
      " [4 1 4 4 3 1 2 3 3 3 3 1 5 3 1]\n",
      " [1 1 3 3 3 2 1 1 4 5 4 3 4 2 4]\n",
      " [1 2 1 5 5 5 4 2 5 3 3 2 4 5 5]\n",
      " [2 3 2 2 1 5 2 3 2 1 4 4 3 5 3]] [  5.  nan   1.   2.   3.   5.   5.   5.   3.  nan   1.   2.   3.   5.   5.]\n"
     ]
    }
   ],
   "source": [
    "# dummy matrix and user input\n",
    "dummy = np.matrix(np.random.randint(1,6, (15,15)))\n",
    "homer = np.array([5,np.nan,1,2,3,5,5,5,3,np.nan,1,2,3,5,5])\n",
    "print dummy, homer"
   ]
  },
  {
   "cell_type": "code",
   "execution_count": 147,
   "metadata": {
    "collapsed": false
   },
   "outputs": [
    {
     "name": "stdout",
     "output_type": "stream",
     "text": [
      "[ 0  2  3  4  5  6  7  8 10 11 12 13 14] [1 9] [[5 3 1 1 3 4 5 2 5 5 5 4 2]\n",
      " [2 1 1 2 1 5 3 4 4 1 4 3 2]\n",
      " [1 3 1 1 3 4 4 4 4 5 5 1 5]\n",
      " [3 3 4 4 3 5 4 4 5 4 5 2 2]\n",
      " [3 5 5 5 4 5 3 3 2 5 3 4 5]\n",
      " [2 5 2 5 3 4 4 4 3 1 2 1 2]\n",
      " [1 1 3 1 3 5 2 4 5 5 1 4 1]\n",
      " [1 3 2 2 4 2 5 1 1 1 2 5 4]\n",
      " [5 4 2 2 1 4 2 1 3 1 3 1 2]\n",
      " [1 2 1 4 4 5 5 4 1 3 2 3 4]\n",
      " [4 4 2 5 2 4 3 1 2 2 3 5 4]\n",
      " [4 4 4 3 1 2 3 3 3 1 5 3 1]\n",
      " [1 3 3 3 2 1 1 4 4 3 4 2 4]\n",
      " [1 1 5 5 5 4 2 5 3 2 4 5 5]\n",
      " [2 2 2 1 5 2 3 2 4 4 3 5 3]] [[5 2]\n",
      " [1 3]\n",
      " [4 2]\n",
      " [3 4]\n",
      " [3 3]\n",
      " [3 2]\n",
      " [3 3]\n",
      " [5 3]\n",
      " [1 3]\n",
      " [1 5]\n",
      " [4 4]\n",
      " [1 3]\n",
      " [1 5]\n",
      " [2 3]\n",
      " [3 1]] [ 5.  1.  2.  3.  5.  5.  5.  3.  1.  2.  3.  5.  5.]\n"
     ]
    }
   ],
   "source": [
    "index = np.where(~np.isnan(homer))[0]\n",
    "missing_index = np.where(np.isnan(homer))[0]\n",
    "# take items as columns\n",
    "dummy_red = dummy[:,index]\n",
    "dummy_miss = dummy[:, missing_index]\n",
    "homer2 = homer[index]\n",
    "\n",
    "\n",
    "print index, missing, dummy_red, dummy_miss, homer2"
   ]
  },
  {
   "cell_type": "code",
   "execution_count": 127,
   "metadata": {
    "collapsed": false
   },
   "outputs": [
    {
     "name": "stdout",
     "output_type": "stream",
     "text": [
      "3.02222222222\n"
     ]
    }
   ],
   "source": [
    "# calculate global rating avg mu \n",
    "mu = dummy.mean()\n",
    "print mu"
   ]
  },
  {
   "cell_type": "code",
   "execution_count": 128,
   "metadata": {
    "collapsed": false
   },
   "outputs": [
    {
     "name": "stdout",
     "output_type": "stream",
     "text": [
      "[ 4.3654321   0.87308642  1.74617284  2.61925926  4.3654321   4.3654321\n",
      "  4.3654321   2.61925926  0.87308642  1.74617284  2.61925926  4.3654321\n",
      "  4.3654321 ]\n"
     ]
    },
    {
     "data": {
      "text/plain": [
       "3.0222222222222217"
      ]
     },
     "execution_count": 128,
     "metadata": {},
     "output_type": "execute_result"
    }
   ],
   "source": [
    "# normalize via global avg mu\n",
    "homer3 = (homer2 / (homer2.mean() / mu ))\n",
    "print homer3\n",
    "homer3.mean()"
   ]
  },
  {
   "cell_type": "code",
   "execution_count": 149,
   "metadata": {
    "collapsed": false
   },
   "outputs": [
    {
     "name": "stdout",
     "output_type": "stream",
     "text": [
      "[ 7.06433713  6.46156117  7.79925099  7.52668798  7.08768153  7.40151268\n",
      "  8.18569483  5.15207448  7.24237666  4.67699068  5.27960622  7.61614075\n",
      "  8.16736474  6.83351724  5.92172563] [ 0.85485106  0.84126781  0.80108954  0.83822283  0.88343625  0.80228841\n",
      "  0.75806779  0.90232099  0.79528586  0.92339629  0.90461339  0.78488393\n",
      "  0.74267958  0.87685966  0.87226095]\n"
     ]
    },
    {
     "name": "stderr",
     "output_type": "stream",
     "text": [
      "/Library/Frameworks/Python.framework/Versions/2.7/lib/python2.7/site-packages/sklearn/utils/validation.py:395: DeprecationWarning: Passing 1d arrays as data is deprecated in 0.17 and will raise ValueError in 0.19. Reshape your data either using X.reshape(-1, 1) if your data has a single feature or X.reshape(1, -1) if it contains a single sample.\n",
      "  DeprecationWarning)\n",
      "/Library/Frameworks/Python.framework/Versions/2.7/lib/python2.7/site-packages/sklearn/utils/validation.py:395: DeprecationWarning: Passing 1d arrays as data is deprecated in 0.17 and will raise ValueError in 0.19. Reshape your data either using X.reshape(-1, 1) if your data has a single feature or X.reshape(1, -1) if it contains a single sample.\n",
      "  DeprecationWarning)\n"
     ]
    }
   ],
   "source": [
    "# compute euclidean distance and cosine similarity\n",
    "from sklearn.metrics import pairwise as pw\n",
    "pw_dist = pw.pairwise_distances(dummy_red, homer3)\n",
    "pw_dist = pw_dist.flatten()\n",
    "pw_cos = pw.cosine_similarity(dummy_red,homer3).flatten()\n",
    "print pw_dist, pw_cos"
   ]
  },
  {
   "cell_type": "code",
   "execution_count": 130,
   "metadata": {
    "collapsed": true
   },
   "outputs": [],
   "source": [
    "#from sklearn.neighbors import DistanceMetric\n",
    "#k = DistanceMetric.get_metric('euclidean')\n",
    "#k.pairwise(dummy_red, homer3)"
   ]
  },
  {
   "cell_type": "code",
   "execution_count": 131,
   "metadata": {
    "collapsed": false
   },
   "outputs": [
    {
     "data": {
      "text/html": [
       "<div>\n",
       "<table border=\"1\" class=\"dataframe\">\n",
       "  <thead>\n",
       "    <tr style=\"text-align: right;\">\n",
       "      <th></th>\n",
       "      <th>0</th>\n",
       "    </tr>\n",
       "  </thead>\n",
       "  <tbody>\n",
       "    <tr>\n",
       "      <th>9</th>\n",
       "      <td>4.676991</td>\n",
       "    </tr>\n",
       "    <tr>\n",
       "      <th>7</th>\n",
       "      <td>5.152074</td>\n",
       "    </tr>\n",
       "    <tr>\n",
       "      <th>10</th>\n",
       "      <td>5.279606</td>\n",
       "    </tr>\n",
       "    <tr>\n",
       "      <th>14</th>\n",
       "      <td>5.921726</td>\n",
       "    </tr>\n",
       "    <tr>\n",
       "      <th>1</th>\n",
       "      <td>6.461561</td>\n",
       "    </tr>\n",
       "  </tbody>\n",
       "</table>\n",
       "</div>"
      ],
      "text/plain": [
       "           0\n",
       "9   4.676991\n",
       "7   5.152074\n",
       "10  5.279606\n",
       "14  5.921726\n",
       "1   6.461561"
      ]
     },
     "execution_count": 131,
     "metadata": {},
     "output_type": "execute_result"
    }
   ],
   "source": [
    "# smallest distance are nearest neighbors\n",
    "pw_dist_df =pd.DataFrame([pw_dist]).transpose()\n",
    "dist_topn = pw_dist_df.nsmallest(5, 0)\n",
    "dist_topn"
   ]
  },
  {
   "cell_type": "code",
   "execution_count": 132,
   "metadata": {
    "collapsed": false
   },
   "outputs": [
    {
     "data": {
      "text/html": [
       "<div>\n",
       "<table border=\"1\" class=\"dataframe\">\n",
       "  <thead>\n",
       "    <tr style=\"text-align: right;\">\n",
       "      <th></th>\n",
       "      <th>0</th>\n",
       "    </tr>\n",
       "  </thead>\n",
       "  <tbody>\n",
       "    <tr>\n",
       "      <th>9</th>\n",
       "      <td>0.923396</td>\n",
       "    </tr>\n",
       "    <tr>\n",
       "      <th>10</th>\n",
       "      <td>0.904613</td>\n",
       "    </tr>\n",
       "    <tr>\n",
       "      <th>7</th>\n",
       "      <td>0.902321</td>\n",
       "    </tr>\n",
       "    <tr>\n",
       "      <th>4</th>\n",
       "      <td>0.883436</td>\n",
       "    </tr>\n",
       "    <tr>\n",
       "      <th>13</th>\n",
       "      <td>0.876860</td>\n",
       "    </tr>\n",
       "  </tbody>\n",
       "</table>\n",
       "</div>"
      ],
      "text/plain": [
       "           0\n",
       "9   0.923396\n",
       "10  0.904613\n",
       "7   0.902321\n",
       "4   0.883436\n",
       "13  0.876860"
      ]
     },
     "execution_count": 132,
     "metadata": {},
     "output_type": "execute_result"
    }
   ],
   "source": [
    "# largest values are most similar users\n",
    "pw_cos_df = pd.DataFrame([pw_cos]).transpose()\n",
    "cos_topn = pw_cos_df.nlargest(5,0)\n",
    "cos_topn"
   ]
  },
  {
   "cell_type": "code",
   "execution_count": 150,
   "metadata": {
    "collapsed": false
   },
   "outputs": [
    {
     "name": "stdout",
     "output_type": "stream",
     "text": [
      "[[ 0.23503459]\n",
      " [ 0.21539847]\n",
      " [ 0.19204184]\n",
      " [ 0.18740297]\n",
      " [ 0.17012214]]\n",
      "[[ 0.20562749]\n",
      " [ 0.2014448 ]\n",
      " [ 0.20093432]\n",
      " [ 0.19672895]\n",
      " [ 0.19526443]]\n"
     ]
    }
   ],
   "source": [
    "# turn distance/similarity into weights\n",
    "# might need to inspect distance again, right now I simply reversed the weights\n",
    "dist_weights = np.flipud(np.matrix(dist_topn / sum(dist_topn[0])))\n",
    "\n",
    "cos_weights = np.matrix(cos_topn / sum(cos_topn[0]))\n",
    "print dist_weights\n",
    "print cos_weights"
   ]
  },
  {
   "cell_type": "code",
   "execution_count": 136,
   "metadata": {
    "collapsed": false
   },
   "outputs": [
    {
     "data": {
      "text/plain": [
       "matrix([[5, 2],\n",
       "        [1, 3],\n",
       "        [4, 2],\n",
       "        [3, 4],\n",
       "        [3, 3],\n",
       "        [3, 2],\n",
       "        [3, 3],\n",
       "        [5, 3],\n",
       "        [1, 3],\n",
       "        [1, 5],\n",
       "        [4, 4],\n",
       "        [1, 3],\n",
       "        [1, 5],\n",
       "        [2, 3],\n",
       "        [3, 1]])"
      ]
     },
     "execution_count": 136,
     "metadata": {},
     "output_type": "execute_result"
    }
   ],
   "source": [
    "dummy_miss"
   ]
  },
  {
   "cell_type": "code",
   "execution_count": 151,
   "metadata": {
    "collapsed": false
   },
   "outputs": [
    {
     "name": "stdout",
     "output_type": "stream",
     "text": [
      "[[1 5]\n",
      " [5 3]\n",
      " [4 4]\n",
      " [3 1]\n",
      " [1 3]]\n",
      "[[1 5]\n",
      " [4 4]\n",
      " [5 3]\n",
      " [3 3]\n",
      " [2 3]]\n"
     ]
    }
   ],
   "source": [
    "# get ratings from the top n users for the missing beers\n",
    "dist_miss_ratings = dummy_miss[dist_topn.index,:] \n",
    "cos_miss_ratings = dummy_miss[cos_topn.index,:] \n",
    "print dist_miss_ratings\n",
    "print cos_miss_ratings"
   ]
  },
  {
   "cell_type": "code",
   "execution_count": 152,
   "metadata": {
    "collapsed": false
   },
   "outputs": [
    {
     "name": "stdout",
     "output_type": "stream",
     "text": [
      "[[ 2.81252531]\n",
      " [ 3.28730509]]\n",
      "[[ 2.99679402]\n",
      " [ 3.61269979]]\n"
     ]
    }
   ],
   "source": [
    "# weigh ratings\n",
    "dist_new_ratings = dist_miss_ratings.transpose() * dist_weights\n",
    "cos_new_ratings = cos_miss_ratings.transpose() * cos_weights\n",
    "print dist_new_ratings\n",
    "print cos_new_ratings"
   ]
  },
  {
   "cell_type": "code",
   "execution_count": 140,
   "metadata": {
    "collapsed": false
   },
   "outputs": [
    {
     "data": {
      "text/plain": [
       "1"
      ]
     },
     "execution_count": 140,
     "metadata": {},
     "output_type": "execute_result"
    }
   ],
   "source": [
    "# find top rating(s)\n",
    "dist_new_index = np.where(dist_new_ratings == dist_new_ratings.max())[0][0]\n",
    "cos_new_index = np.where(cos_new_ratings == cos_new_ratings.max())[0][0]\n",
    "cos_new_index"
   ]
  },
  {
   "cell_type": "code",
   "execution_count": 148,
   "metadata": {
    "collapsed": false
   },
   "outputs": [
    {
     "name": "stdout",
     "output_type": "stream",
     "text": [
      "9\n",
      "9\n"
     ]
    }
   ],
   "source": [
    "\n",
    "print missing_index[dist_new_index]\n",
    "print missing_index[cos_new_index]\n",
    "\n",
    "# match index with beer name"
   ]
  },
  {
   "cell_type": "code",
   "execution_count": 231,
   "metadata": {
    "collapsed": false
   },
   "outputs": [],
   "source": []
  },
  {
   "cell_type": "code",
   "execution_count": null,
   "metadata": {
    "collapsed": true
   },
   "outputs": [],
   "source": []
  }
 ],
 "metadata": {
  "kernelspec": {
   "display_name": "Python 2",
   "language": "python",
   "name": "python2"
  },
  "language_info": {
   "codemirror_mode": {
    "name": "ipython",
    "version": 2
   },
   "file_extension": ".py",
   "mimetype": "text/x-python",
   "name": "python",
   "nbconvert_exporter": "python",
   "pygments_lexer": "ipython2",
   "version": "2.7.12"
  }
 },
 "nbformat": 4,
 "nbformat_minor": 1
}
