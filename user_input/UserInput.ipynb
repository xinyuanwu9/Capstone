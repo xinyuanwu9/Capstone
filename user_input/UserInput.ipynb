{
 "cells": [
  {
   "cell_type": "code",
   "execution_count": 24,
   "metadata": {
    "collapsed": true
   },
   "outputs": [],
   "source": [
    "# UserInput.py\n",
    "# Given new user input, recommends a new beer\n",
    "# N is number of reviews\n",
    "# if N < 10, recommend based on content\n",
    "# if N >= 10, recommend based on collaborative filtering"
   ]
  },
  {
   "cell_type": "code",
   "execution_count": 175,
   "metadata": {
    "collapsed": true
   },
   "outputs": [],
   "source": [
    "import numpy as np\n",
    "import pandas as pd\n",
    "import cPickle as pickle\n",
    "import time"
   ]
  },
  {
   "cell_type": "code",
   "execution_count": 176,
   "metadata": {
    "collapsed": false
   },
   "outputs": [],
   "source": [
    "# load matrix here\n",
    "dummy = np.load('ratings_mat.npy')\n",
    "# with open( , 'rb') as f:\n",
    "#    user_items = pickle.load(f)\n",
    "\n",
    "# insert user info here\n",
    "# new_user = np.repeat(np.nan, user_items.shape[1])\n",
    "# insert ratings from user input to fill in rated beers\n",
    "\n",
    "# load beer dictionary here\n",
    "with open('beer_dict.p', 'rb') as f:\n",
    "    beer_names = pickle.load(f)"
   ]
  },
  {
   "cell_type": "code",
   "execution_count": 177,
   "metadata": {
    "collapsed": false
   },
   "outputs": [
    {
     "name": "stdout",
     "output_type": "stream",
     "text": [
      "(16926, 1269)\n"
     ]
    },
    {
     "data": {
      "text/plain": [
       "array([ nan,  nan,  nan, ...,  nan,  nan,  nan])"
      ]
     },
     "execution_count": 177,
     "metadata": {},
     "output_type": "execute_result"
    }
   ],
   "source": [
    "print dummy.shape\n",
    "homer = np.repeat(np.nan, dummy.shape[1])\n",
    "for i in np.random.randint(0, dummy.shape[1], 10):\n",
    "    homer[i] = np.random.randint(1,6,1)[0]\n",
    "homer"
   ]
  },
  {
   "cell_type": "markdown",
   "metadata": {},
   "source": [
    "## Content Based"
   ]
  },
  {
   "cell_type": "code",
   "execution_count": 178,
   "metadata": {
    "collapsed": true
   },
   "outputs": [],
   "source": [
    "# INSERT HERE"
   ]
  },
  {
   "cell_type": "markdown",
   "metadata": {},
   "source": [
    " ## CF"
   ]
  },
  {
   "cell_type": "code",
   "execution_count": 179,
   "metadata": {
    "collapsed": false
   },
   "outputs": [],
   "source": [
    "# dummy matrix and user input\n",
    "#dummy = np.matrix(np.random.randint(1,6, (15,15)))\n",
    "#homer = np.array([5,np.nan,1,2,3,5,5,5,3,np.nan,1,2,3,5,5])\n",
    "#print dummy, homer"
   ]
  },
  {
   "cell_type": "code",
   "execution_count": 180,
   "metadata": {
    "collapsed": false
   },
   "outputs": [
    {
     "name": "stdout",
     "output_type": "stream",
     "text": [
      "[  67  150  361  645  754  786  789  881 1104 1203] [   0    1    2 ..., 1266 1267 1268] [[ 14.05754986  14.7538352   14.30936108 ...,  15.03618088  16.31951942\n",
      "   14.36883917]\n",
      " [ 14.10982828  15.03974667  14.54934616 ...,  15.30307789  16.49207802\n",
      "   14.59940825]\n",
      " [ 15.67037001  16.3264967   15.49775658 ...,  16.34307432  17.54444523\n",
      "   15.37419949]\n",
      " ..., \n",
      " [ 14.00210724  15.22362652  14.57287388 ...,  15.24411373  16.13290672\n",
      "   14.66198082]\n",
      " [ 14.05037718  15.93011169  14.9567275  ...,  15.65309067  16.55825481\n",
      "   15.5677721 ]\n",
      " [ 15.44491749  16.22988729  15.24766703 ...,  16.1084589   16.90242214\n",
      "   15.51710434]] [[ 15.37260609  15.6599721   15.23829718 ...,  16.30479145  16.71478615\n",
      "   16.71687088]\n",
      " [ 15.55795612  16.03480635  15.48153067 ...,  16.47781582  16.83671074\n",
      "   16.92485199]\n",
      " [ 16.48925858  17.11251602  16.16220579 ...,  17.75134525  18.48328514\n",
      "   18.26525536]\n",
      " ..., \n",
      " [ 15.92637739  16.32348213  15.70524702 ...,  16.01468134  15.91480083\n",
      "   16.44088631]\n",
      " [ 16.59626884  17.25162354  16.39886351 ...,  16.41061649  15.97781439\n",
      "   16.7520215 ]\n",
      " [ 16.87665415  17.4457119   16.45901527 ...,  16.57495575  16.26750345\n",
      "   17.08984766]] [ 5.  4.  5.  4.  5.  2.  2.  5.  3.  5.]\n"
     ]
    }
   ],
   "source": [
    "index = np.where(~np.isnan(homer))[0]\n",
    "missing_index = np.where(np.isnan(homer))[0]\n",
    "# take items as columns\n",
    "dummy_red = dummy[:,index]\n",
    "dummy_miss = dummy[:, missing_index]\n",
    "homer2 = homer[index]\n",
    "\n",
    "\n",
    "print index, missing_index, dummy_red, dummy_miss, homer2"
   ]
  },
  {
   "cell_type": "code",
   "execution_count": 181,
   "metadata": {
    "collapsed": false
   },
   "outputs": [
    {
     "name": "stdout",
     "output_type": "stream",
     "text": [
      "15.8225959262\n"
     ]
    }
   ],
   "source": [
    "# calculate global rating avg mu \n",
    "mu = dummy.mean()\n",
    "print mu"
   ]
  },
  {
   "cell_type": "code",
   "execution_count": 182,
   "metadata": {
    "collapsed": false
   },
   "outputs": [
    {
     "name": "stdout",
     "output_type": "stream",
     "text": [
      "[ 19.77824491  15.82259593  19.77824491  15.82259593  19.77824491\n",
      "   7.91129796   7.91129796  19.77824491  11.86694694  19.77824491]\n"
     ]
    },
    {
     "data": {
      "text/plain": [
       "15.822595926208598"
      ]
     },
     "execution_count": 182,
     "metadata": {},
     "output_type": "execute_result"
    }
   ],
   "source": [
    "# normalize via global avg mu\n",
    "homer3 = (homer2 / (homer2.mean() / mu ))\n",
    "print homer3\n",
    "homer3.mean()"
   ]
  },
  {
   "cell_type": "code",
   "execution_count": 183,
   "metadata": {
    "collapsed": false
   },
   "outputs": [
    {
     "name": "stdout",
     "output_type": "stream",
     "text": [
      "0.00339794158936\n",
      "[ 14.68910657  14.68467616  14.10519437 ...,  14.55433472  14.05121229\n",
      "  13.8279497 ] [ 0.9615586   0.960769    0.96286574 ...,  0.96176879  0.96355487\n",
      "  0.96427007]\n",
      "0.00968194007874\n"
     ]
    },
    {
     "name": "stderr",
     "output_type": "stream",
     "text": [
      "/Library/Frameworks/Python.framework/Versions/2.7/lib/python2.7/site-packages/sklearn/utils/validation.py:395: DeprecationWarning: Passing 1d arrays as data is deprecated in 0.17 and will raise ValueError in 0.19. Reshape your data either using X.reshape(-1, 1) if your data has a single feature or X.reshape(1, -1) if it contains a single sample.\n",
      "  DeprecationWarning)\n",
      "/Library/Frameworks/Python.framework/Versions/2.7/lib/python2.7/site-packages/sklearn/utils/validation.py:395: DeprecationWarning: Passing 1d arrays as data is deprecated in 0.17 and will raise ValueError in 0.19. Reshape your data either using X.reshape(-1, 1) if your data has a single feature or X.reshape(1, -1) if it contains a single sample.\n",
      "  DeprecationWarning)\n"
     ]
    }
   ],
   "source": [
    "# compute euclidean distance and cosine similarity\n",
    "start = time.time()\n",
    "from sklearn.metrics import pairwise as pw\n",
    "pw_dist = pw.pairwise_distances(dummy_red, homer3).flatten()\n",
    "print time.time() - start\n",
    "pw_cos = pw.cosine_similarity(dummy_red,homer3).flatten()\n",
    "print pw_dist, pw_cos\n",
    "print time.time() - start"
   ]
  },
  {
   "cell_type": "code",
   "execution_count": 184,
   "metadata": {
    "collapsed": true
   },
   "outputs": [],
   "source": [
    "#from sklearn.neighbors import DistanceMetric\n",
    "#k = DistanceMetric.get_metric('euclidean')\n",
    "#k.pairwise(dummy_red, homer3)"
   ]
  },
  {
   "cell_type": "code",
   "execution_count": 185,
   "metadata": {
    "collapsed": false
   },
   "outputs": [
    {
     "data": {
      "text/html": [
       "<div>\n",
       "<table border=\"1\" class=\"dataframe\">\n",
       "  <thead>\n",
       "    <tr style=\"text-align: right;\">\n",
       "      <th></th>\n",
       "      <th>0</th>\n",
       "    </tr>\n",
       "  </thead>\n",
       "  <tbody>\n",
       "    <tr>\n",
       "      <th>11809</th>\n",
       "      <td>12.468161</td>\n",
       "    </tr>\n",
       "    <tr>\n",
       "      <th>16144</th>\n",
       "      <td>12.493434</td>\n",
       "    </tr>\n",
       "    <tr>\n",
       "      <th>15430</th>\n",
       "      <td>12.610295</td>\n",
       "    </tr>\n",
       "    <tr>\n",
       "      <th>4563</th>\n",
       "      <td>12.683999</td>\n",
       "    </tr>\n",
       "    <tr>\n",
       "      <th>3444</th>\n",
       "      <td>12.686825</td>\n",
       "    </tr>\n",
       "  </tbody>\n",
       "</table>\n",
       "</div>"
      ],
      "text/plain": [
       "               0\n",
       "11809  12.468161\n",
       "16144  12.493434\n",
       "15430  12.610295\n",
       "4563   12.683999\n",
       "3444   12.686825"
      ]
     },
     "execution_count": 185,
     "metadata": {},
     "output_type": "execute_result"
    }
   ],
   "source": [
    "# smallest distance are nearest neighbors\n",
    "pw_dist_df =pd.DataFrame([pw_dist]).transpose()\n",
    "dist_topn = pw_dist_df.nsmallest(5, 0)\n",
    "dist_topn"
   ]
  },
  {
   "cell_type": "code",
   "execution_count": 186,
   "metadata": {
    "collapsed": false
   },
   "outputs": [
    {
     "data": {
      "text/html": [
       "<div>\n",
       "<table border=\"1\" class=\"dataframe\">\n",
       "  <thead>\n",
       "    <tr style=\"text-align: right;\">\n",
       "      <th></th>\n",
       "      <th>0</th>\n",
       "    </tr>\n",
       "  </thead>\n",
       "  <tbody>\n",
       "    <tr>\n",
       "      <th>4563</th>\n",
       "      <td>0.973305</td>\n",
       "    </tr>\n",
       "    <tr>\n",
       "      <th>16144</th>\n",
       "      <td>0.971255</td>\n",
       "    </tr>\n",
       "    <tr>\n",
       "      <th>8115</th>\n",
       "      <td>0.971096</td>\n",
       "    </tr>\n",
       "    <tr>\n",
       "      <th>11809</th>\n",
       "      <td>0.971065</td>\n",
       "    </tr>\n",
       "    <tr>\n",
       "      <th>13204</th>\n",
       "      <td>0.970768</td>\n",
       "    </tr>\n",
       "  </tbody>\n",
       "</table>\n",
       "</div>"
      ],
      "text/plain": [
       "              0\n",
       "4563   0.973305\n",
       "16144  0.971255\n",
       "8115   0.971096\n",
       "11809  0.971065\n",
       "13204  0.970768"
      ]
     },
     "execution_count": 186,
     "metadata": {},
     "output_type": "execute_result"
    }
   ],
   "source": [
    "# largest values are most similar users\n",
    "pw_cos_df = pd.DataFrame([pw_cos]).transpose()\n",
    "cos_topn = pw_cos_df.nlargest(5,0)\n",
    "cos_topn"
   ]
  },
  {
   "cell_type": "code",
   "execution_count": 187,
   "metadata": {
    "collapsed": false
   },
   "outputs": [
    {
     "name": "stdout",
     "output_type": "stream",
     "text": [
      "[[ 0.20156145]\n",
      " [ 0.20151655]\n",
      " [ 0.20034558]\n",
      " [ 0.19848897]\n",
      " [ 0.19808744]]\n",
      "[[ 0.20037206]\n",
      " [ 0.19995003]\n",
      " [ 0.19991728]\n",
      " [ 0.19991096]\n",
      " [ 0.19984966]]\n"
     ]
    }
   ],
   "source": [
    "# turn distance/similarity into weights\n",
    "# might need to inspect distance again, right now I simply reversed the weights\n",
    "dist_weights = np.flipud(np.matrix(dist_topn / sum(dist_topn[0])))\n",
    "\n",
    "cos_weights = np.matrix(cos_topn / sum(cos_topn[0]))\n",
    "print dist_weights\n",
    "print cos_weights"
   ]
  },
  {
   "cell_type": "code",
   "execution_count": 188,
   "metadata": {
    "collapsed": false
   },
   "outputs": [
    {
     "data": {
      "text/plain": [
       "array([[ 15.37260609,  15.6599721 ,  15.23829718, ...,  16.30479145,\n",
       "         16.71478615,  16.71687088],\n",
       "       [ 15.55795612,  16.03480635,  15.48153067, ...,  16.47781582,\n",
       "         16.83671074,  16.92485199],\n",
       "       [ 16.48925858,  17.11251602,  16.16220579, ...,  17.75134525,\n",
       "         18.48328514,  18.26525536],\n",
       "       ..., \n",
       "       [ 15.92637739,  16.32348213,  15.70524702, ...,  16.01468134,\n",
       "         15.91480083,  16.44088631],\n",
       "       [ 16.59626884,  17.25162354,  16.39886351, ...,  16.41061649,\n",
       "         15.97781439,  16.7520215 ],\n",
       "       [ 16.87665415,  17.4457119 ,  16.45901527, ...,  16.57495575,\n",
       "         16.26750345,  17.08984766]])"
      ]
     },
     "execution_count": 188,
     "metadata": {},
     "output_type": "execute_result"
    }
   ],
   "source": [
    "dummy_miss"
   ]
  },
  {
   "cell_type": "code",
   "execution_count": 189,
   "metadata": {
    "collapsed": false
   },
   "outputs": [
    {
     "name": "stdout",
     "output_type": "stream",
     "text": [
      "[[ 18.03187046  19.1944706   16.33394384 ...,  16.8710825   16.2424118\n",
      "   17.22907906]\n",
      " [ 17.3780899   19.09838562  16.07529955 ...,  16.59189053  16.5840642\n",
      "   16.9803546 ]\n",
      " [ 18.25953884  18.81517735  17.32714958 ...,  16.77321262  16.22618971\n",
      "   17.19515266]\n",
      " [ 16.03840551  19.32007961  14.87852783 ...,  16.75601702  18.43162575\n",
      "   16.94824724]\n",
      " [ 17.2132349   18.69879313  15.93800268 ...,  16.67707644  16.11894379\n",
      "   17.56938324]]\n",
      "[[ 16.03840551  19.32007961  14.87852783 ...,  16.75601702  18.43162575\n",
      "   16.94824724]\n",
      " [ 17.3780899   19.09838562  16.07529955 ...,  16.59189053  16.5840642\n",
      "   16.9803546 ]\n",
      " [ 15.43534193  18.19866734  14.30448656 ...,  16.39502039  17.30692873\n",
      "   16.92717133]\n",
      " [ 18.03187046  19.1944706   16.33394384 ...,  16.8710825   16.2424118\n",
      "   17.22907906]\n",
      " [ 17.07784204  18.532654    15.63423262 ...,  16.34009438  16.6283515\n",
      "   16.67567225]]\n"
     ]
    }
   ],
   "source": [
    "# get ratings from the top n users for the missing beers\n",
    "dist_miss_ratings = dummy_miss[dist_topn.index,:] \n",
    "cos_miss_ratings = dummy_miss[cos_topn.index,:] \n",
    "print dist_miss_ratings\n",
    "print cos_miss_ratings"
   ]
  },
  {
   "cell_type": "code",
   "execution_count": 190,
   "metadata": {
    "collapsed": false
   },
   "outputs": [
    {
     "name": "stdout",
     "output_type": "stream",
     "text": [
      "[[ 17.38789298]\n",
      " [ 19.02586268]\n",
      " [ 16.11349212]\n",
      " ..., \n",
      " [ 16.7339435 ]\n",
      " [ 16.71808775]\n",
      " [ 17.18382793]]\n",
      "[[ 16.79195915]\n",
      " [ 18.86908483]\n",
      " [ 15.44504257]\n",
      " ..., \n",
      " [ 16.59091131]\n",
      " [ 17.03932777]\n",
      " [ 16.95212101]]\n"
     ]
    }
   ],
   "source": [
    "# weigh ratings\n",
    "dist_new_ratings = dist_miss_ratings.transpose() * dist_weights\n",
    "cos_new_ratings = cos_miss_ratings.transpose() * cos_weights\n",
    "print dist_new_ratings\n",
    "print cos_new_ratings"
   ]
  },
  {
   "cell_type": "code",
   "execution_count": 191,
   "metadata": {
    "collapsed": false
   },
   "outputs": [
    {
     "data": {
      "text/plain": [
       "683"
      ]
     },
     "execution_count": 191,
     "metadata": {},
     "output_type": "execute_result"
    }
   ],
   "source": [
    "# find top rating(s)\n",
    "dist_new_index = np.where(dist_new_ratings == dist_new_ratings.max())[0][0]\n",
    "cos_new_index = np.where(cos_new_ratings == cos_new_ratings.max())[0][0]\n",
    "cos_new_index"
   ]
  },
  {
   "cell_type": "code",
   "execution_count": 192,
   "metadata": {
    "collapsed": false
   },
   "outputs": [],
   "source": [
    "\n",
    "beer_ind_dist =  missing_index[dist_new_index]\n",
    "beer_ind_cos = missing_index[cos_new_index]\n",
    "\n",
    "# match index with beer name"
   ]
  },
  {
   "cell_type": "code",
   "execution_count": 193,
   "metadata": {
    "collapsed": false
   },
   "outputs": [
    {
     "name": "stdout",
     "output_type": "stream",
     "text": [
      "Alchemist Heady Topper\n",
      "Proclamation Derivative Citra Hopped Pale Ale\n"
     ]
    }
   ],
   "source": [
    "print beer_names[beer_ind_dist]\n",
    "print beer_names[beer_ind_cos]"
   ]
  },
  {
   "cell_type": "code",
   "execution_count": null,
   "metadata": {
    "collapsed": true
   },
   "outputs": [],
   "source": []
  },
  {
   "cell_type": "code",
   "execution_count": null,
   "metadata": {
    "collapsed": true
   },
   "outputs": [],
   "source": []
  },
  {
   "cell_type": "code",
   "execution_count": null,
   "metadata": {
    "collapsed": true
   },
   "outputs": [],
   "source": []
  }
 ],
 "metadata": {
  "anaconda-cloud": {},
  "kernelspec": {
   "display_name": "Python [Root]",
   "language": "python",
   "name": "Python [Root]"
  },
  "language_info": {
   "codemirror_mode": {
    "name": "ipython",
    "version": 2
   },
   "file_extension": ".py",
   "mimetype": "text/x-python",
   "name": "python",
   "nbconvert_exporter": "python",
   "pygments_lexer": "ipython2",
   "version": "2.7.12"
  }
 },
 "nbformat": 4,
 "nbformat_minor": 1
}
